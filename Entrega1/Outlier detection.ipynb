{
 "cells": [
  {
   "cell_type": "markdown",
   "metadata": {},
   "source": [
    "# One class classification -Outlier Detection-\n",
    "Author: Iraitz Azcarate"
   ]
  },
  {
   "cell_type": "code",
   "execution_count": 1,
   "metadata": {},
   "outputs": [],
   "source": [
    "import pandas as pd\n",
    "import plotly.express as px\n",
    "import numpy as np\n",
    "from sklearn.neighbors import LocalOutlierFactor\n",
    "import seaborn as sns\n",
    "import matplotlib.pyplot as plt\n",
    "from sklearn.decomposition import PCA\n",
    "from sklearn.preprocessing import StandardScaler\n",
    "from sklearn.svm import OneClassSVM\n",
    "from ipywidgets import interact"
   ]
  },
  {
   "cell_type": "markdown",
   "metadata": {},
   "source": [
    "En este trabajo, haremos un breve analisis de deteccion de outliers sobre la base de datos 'Boston Housing', la cual me he descargado en formato csv.\n",
    "\n",
    "Para comenzar, visualizamos sus columnas, y creo una tabla de datos reducida a dos dimensiones, con el objetivo de poder visualizar mejor los resultados de las diversas tecnicas que se aplicaran. "
   ]
  },
  {
   "cell_type": "code",
   "execution_count": 2,
   "metadata": {},
   "outputs": [
    {
     "data": {
      "text/html": [
       "<div>\n",
       "<style scoped>\n",
       "    .dataframe tbody tr th:only-of-type {\n",
       "        vertical-align: middle;\n",
       "    }\n",
       "\n",
       "    .dataframe tbody tr th {\n",
       "        vertical-align: top;\n",
       "    }\n",
       "\n",
       "    .dataframe thead th {\n",
       "        text-align: right;\n",
       "    }\n",
       "</style>\n",
       "<table border=\"1\" class=\"dataframe\">\n",
       "  <thead>\n",
       "    <tr style=\"text-align: right;\">\n",
       "      <th></th>\n",
       "      <th>crim</th>\n",
       "      <th>zn</th>\n",
       "      <th>indus</th>\n",
       "      <th>chas</th>\n",
       "      <th>nox</th>\n",
       "      <th>rm</th>\n",
       "      <th>age</th>\n",
       "      <th>dis</th>\n",
       "      <th>rad</th>\n",
       "      <th>tax</th>\n",
       "      <th>ptratio</th>\n",
       "      <th>b</th>\n",
       "      <th>lstat</th>\n",
       "      <th>medv</th>\n",
       "    </tr>\n",
       "  </thead>\n",
       "  <tbody>\n",
       "    <tr>\n",
       "      <th>0</th>\n",
       "      <td>0.00632</td>\n",
       "      <td>18.0</td>\n",
       "      <td>2.31</td>\n",
       "      <td>0</td>\n",
       "      <td>0.538</td>\n",
       "      <td>6.575</td>\n",
       "      <td>65.2</td>\n",
       "      <td>4.0900</td>\n",
       "      <td>1</td>\n",
       "      <td>296</td>\n",
       "      <td>15.3</td>\n",
       "      <td>396.90</td>\n",
       "      <td>4.98</td>\n",
       "      <td>24.0</td>\n",
       "    </tr>\n",
       "    <tr>\n",
       "      <th>1</th>\n",
       "      <td>0.02731</td>\n",
       "      <td>0.0</td>\n",
       "      <td>7.07</td>\n",
       "      <td>0</td>\n",
       "      <td>0.469</td>\n",
       "      <td>6.421</td>\n",
       "      <td>78.9</td>\n",
       "      <td>4.9671</td>\n",
       "      <td>2</td>\n",
       "      <td>242</td>\n",
       "      <td>17.8</td>\n",
       "      <td>396.90</td>\n",
       "      <td>9.14</td>\n",
       "      <td>21.6</td>\n",
       "    </tr>\n",
       "    <tr>\n",
       "      <th>2</th>\n",
       "      <td>0.02729</td>\n",
       "      <td>0.0</td>\n",
       "      <td>7.07</td>\n",
       "      <td>0</td>\n",
       "      <td>0.469</td>\n",
       "      <td>7.185</td>\n",
       "      <td>61.1</td>\n",
       "      <td>4.9671</td>\n",
       "      <td>2</td>\n",
       "      <td>242</td>\n",
       "      <td>17.8</td>\n",
       "      <td>392.83</td>\n",
       "      <td>4.03</td>\n",
       "      <td>34.7</td>\n",
       "    </tr>\n",
       "    <tr>\n",
       "      <th>3</th>\n",
       "      <td>0.03237</td>\n",
       "      <td>0.0</td>\n",
       "      <td>2.18</td>\n",
       "      <td>0</td>\n",
       "      <td>0.458</td>\n",
       "      <td>6.998</td>\n",
       "      <td>45.8</td>\n",
       "      <td>6.0622</td>\n",
       "      <td>3</td>\n",
       "      <td>222</td>\n",
       "      <td>18.7</td>\n",
       "      <td>394.63</td>\n",
       "      <td>2.94</td>\n",
       "      <td>33.4</td>\n",
       "    </tr>\n",
       "    <tr>\n",
       "      <th>4</th>\n",
       "      <td>0.06905</td>\n",
       "      <td>0.0</td>\n",
       "      <td>2.18</td>\n",
       "      <td>0</td>\n",
       "      <td>0.458</td>\n",
       "      <td>7.147</td>\n",
       "      <td>54.2</td>\n",
       "      <td>6.0622</td>\n",
       "      <td>3</td>\n",
       "      <td>222</td>\n",
       "      <td>18.7</td>\n",
       "      <td>396.90</td>\n",
       "      <td>5.33</td>\n",
       "      <td>36.2</td>\n",
       "    </tr>\n",
       "  </tbody>\n",
       "</table>\n",
       "</div>"
      ],
      "text/plain": [
       "      crim    zn  indus  chas    nox     rm   age     dis  rad  tax  ptratio  \\\n",
       "0  0.00632  18.0   2.31     0  0.538  6.575  65.2  4.0900    1  296     15.3   \n",
       "1  0.02731   0.0   7.07     0  0.469  6.421  78.9  4.9671    2  242     17.8   \n",
       "2  0.02729   0.0   7.07     0  0.469  7.185  61.1  4.9671    2  242     17.8   \n",
       "3  0.03237   0.0   2.18     0  0.458  6.998  45.8  6.0622    3  222     18.7   \n",
       "4  0.06905   0.0   2.18     0  0.458  7.147  54.2  6.0622    3  222     18.7   \n",
       "\n",
       "        b  lstat  medv  \n",
       "0  396.90   4.98  24.0  \n",
       "1  396.90   9.14  21.6  \n",
       "2  392.83   4.03  34.7  \n",
       "3  394.63   2.94  33.4  \n",
       "4  396.90   5.33  36.2  "
      ]
     },
     "execution_count": 2,
     "metadata": {},
     "output_type": "execute_result"
    }
   ],
   "source": [
    "df = pd.read_csv(r\"C:\\Users\\irait\\Desktop\\MATE\\KISA\\Curso\\KISA_Aprendizaje_Automatico_Avanzado\\Entrega1\\BostonHousing.csv\")\n",
    "df_red = df[[\"dis\",\"rm\"]]\n",
    "df.head()"
   ]
  },
  {
   "cell_type": "markdown",
   "metadata": {},
   "source": [
    "Estas son las descripciones de las variabes recogidas en nuestra base de datos:\n",
    "\n",
    "**crim**: Tasa de criminalidad per cápita por ciudad.\n",
    "\n",
    "**zn**: Proporción de terrenos residenciales asignados para lotes de más de 25,000 pies cuadrados.\n",
    "\n",
    "**indus**: Proporción de acres comerciales no minoristas por ciudad.\n",
    "\n",
    "**chas**: Variable binaria que indica si la propiedad está al lado del río Charles (1 si está cerca, 0 si no).\n",
    "\n",
    "**nox**: Concentración de óxidos de nitrógeno (medido en partes por 10 millones, ppm), que indica el nivel de contaminación del aire.\n",
    "\n",
    "**rm**: Número promedio de habitaciones por vivienda. Esta variable está relacionada con el tamaño y calidad de las propiedades.\n",
    "\n",
    "**age**: Proporción de unidades ocupadas por propietarios construidas antes de 1940, lo cual puede reflejar la antigüedad y estado de la infraestructura.\n",
    "\n",
    "**dis**: Distancias ponderadas a cinco centros de empleo de Boston, un indicador de la accesibilidad y ubicación de la propiedad.\n",
    "\n",
    "**rad**: Índice de accesibilidad a carreteras radiales (una medida de conectividad a autopistas).\n",
    "\n",
    "**tax**: Tasa de impuesto a la propiedad por cada 10,000 dólares de valor.\n",
    "\n",
    "**ptratio**: Proporción de alumnos por maestro en cada distrito escolar, un indicador de la calidad educativa.\n",
    "\n",
    "**black**: 1000(Bk - 0.63)^2, donde Bk es la proporción de personas de color por ciudad. Esta variable fue incluida como un indicador demográfico.\n",
    "\n",
    "**lstat**: Porcentaje de la población con un estatus socioeconómico bajo.\n",
    "\n",
    "**medv**: Valor medio de las viviendas ocupadas por sus propietarios (en miles de dólares). Esta variable es la de respuesta en muchos análisis de este dataset.\n",
    "\n",
    "\n",
    "Veamos como estan distribuidos los datos de las dos columnas seleccionadas: **dis** y **rm**."
   ]
  },
  {
   "cell_type": "code",
   "execution_count": 3,
   "metadata": {},
   "outputs": [
    {
     "data": {
      "application/vnd.plotly.v1+json": {
       "config": {
        "plotlyServerURL": "https://plot.ly"
       },
       "data": [
        {
         "hovertemplate": "dis=%{x}<br>rm=%{y}<extra></extra>",
         "legendgroup": "",
         "marker": {
          "color": "#636efa",
          "symbol": "circle"
         },
         "mode": "markers",
         "name": "",
         "orientation": "v",
         "showlegend": false,
         "type": "scatter",
         "x": [
          4.09,
          4.9671,
          4.9671,
          6.0622,
          6.0622,
          6.0622,
          5.5605,
          5.9505,
          6.0821,
          6.5921,
          6.3467,
          6.2267,
          5.4509,
          4.7075,
          4.4619,
          4.4986,
          4.4986,
          4.2579,
          3.7965,
          3.7965,
          3.7979,
          4.0123,
          3.9769,
          4.0952,
          4.3996,
          4.4546,
          4.682,
          4.4534,
          4.4547,
          4.239,
          4.233,
          4.175,
          3.99,
          3.7872,
          3.7598,
          3.3603,
          3.3779,
          3.9342,
          3.8473,
          5.4011,
          5.4011,
          5.7209,
          5.7209,
          5.7209,
          5.7209,
          5.1004,
          5.1004,
          5.6894,
          5.87,
          6.0877,
          6.8147,
          6.8147,
          6.8147,
          6.8147,
          7.3197,
          8.6966,
          9.1876,
          8.3248,
          7.8148,
          6.932,
          7.2254,
          6.8185,
          7.2255,
          7.9809,
          9.2229,
          6.6115,
          6.6115,
          6.498,
          6.498,
          6.498,
          5.2873,
          5.2873,
          5.2873,
          5.2873,
          4.2515,
          4.5026,
          4.0522,
          4.0905,
          5.0141,
          4.5026,
          5.4007,
          5.4007,
          5.4007,
          5.4007,
          4.7794,
          4.4377,
          4.4272,
          3.7476,
          3.4217,
          3.4145,
          3.0923,
          3.0921,
          3.6659,
          3.6659,
          3.615,
          3.4952,
          3.4952,
          3.4952,
          3.4952,
          3.4952,
          2.7778,
          2.8561,
          2.7147,
          2.7147,
          2.421,
          2.1069,
          2.211,
          2.1224,
          2.4329,
          2.5451,
          2.7778,
          2.6775,
          2.3534,
          2.548,
          2.2565,
          2.4631,
          2.7301,
          2.7474,
          2.4775,
          2.7592,
          2.2577,
          2.1974,
          2.0869,
          1.9444,
          2.0063,
          1.9929,
          1.7572,
          1.7883,
          1.8125,
          1.9799,
          2.1185,
          2.271,
          2.3274,
          2.4699,
          2.346,
          2.1107,
          1.9669,
          1.8498,
          1.6686,
          1.6687,
          1.6119,
          1.4394,
          1.3216,
          1.4118,
          1.3459,
          1.4191,
          1.5166,
          1.4608,
          1.5296,
          1.5257,
          1.618,
          1.5916,
          1.6102,
          1.6232,
          1.7494,
          1.7455,
          1.7364,
          1.8773,
          1.7573,
          1.7659,
          1.7984,
          1.9709,
          2.0407,
          2.162,
          2.422,
          2.2834,
          2.0459,
          2.4259,
          2.1,
          2.2625,
          2.4259,
          2.3887,
          2.5961,
          2.6463,
          2.7019,
          3.1323,
          3.5549,
          3.3175,
          2.9153,
          2.829,
          2.741,
          2.5979,
          2.7006,
          2.847,
          2.9879,
          3.2797,
          3.1992,
          3.7886,
          4.5667,
          4.5667,
          6.4798,
          6.4798,
          6.4798,
          6.2196,
          6.2196,
          5.6484,
          7.309,
          7.309,
          7.309,
          7.6534,
          7.6534,
          6.27,
          6.27,
          5.118,
          5.118,
          3.9454,
          4.3549,
          4.3549,
          4.2392,
          3.875,
          3.8771,
          3.665,
          3.6526,
          3.9454,
          3.5875,
          3.9454,
          3.1121,
          3.4211,
          2.8893,
          3.3633,
          2.8617,
          3.048,
          3.2721,
          3.2721,
          2.8944,
          2.8944,
          3.2157,
          3.2157,
          3.3751,
          3.3751,
          3.6715,
          3.6715,
          3.8384,
          3.6519,
          3.6519,
          3.6519,
          4.148,
          4.148,
          6.1899,
          6.1899,
          6.3361,
          6.3361,
          7.0355,
          7.0355,
          7.9549,
          7.9549,
          8.0555,
          8.0555,
          7.8265,
          7.8265,
          7.3967,
          7.3967,
          8.9067,
          8.9067,
          9.2203,
          9.2203,
          6.3361,
          1.801,
          1.8946,
          2.0107,
          2.1121,
          2.1398,
          2.2885,
          2.0788,
          1.9301,
          1.9865,
          2.1329,
          2.4216,
          2.872,
          3.9175,
          4.429,
          4.429,
          3.9175,
          4.3665,
          4.0776,
          4.2673,
          4.7872,
          4.8628,
          4.1403,
          4.1007,
          4.6947,
          5.2447,
          5.2119,
          5.885,
          7.3073,
          7.3073,
          9.0892,
          7.3172,
          7.3172,
          7.3172,
          5.1167,
          5.1167,
          5.1167,
          5.5027,
          5.5027,
          5.9604,
          5.9604,
          6.32,
          7.8278,
          7.8278,
          7.8278,
          5.4917,
          5.4917,
          5.4917,
          4.022,
          3.37,
          3.0992,
          3.1827,
          3.3175,
          3.1025,
          2.5194,
          2.6403,
          2.834,
          3.2628,
          3.6023,
          3.945,
          3.9986,
          4.0317,
          3.5325,
          4.0019,
          4.5404,
          4.5404,
          4.7211,
          4.7211,
          4.7211,
          5.4159,
          5.4159,
          5.4159,
          5.2146,
          5.2146,
          5.8736,
          6.6407,
          6.6407,
          6.4584,
          6.4584,
          5.9853,
          5.2311,
          5.615,
          4.8122,
          4.8122,
          4.8122,
          7.0379,
          6.2669,
          5.7321,
          6.4654,
          8.0136,
          8.0136,
          8.5353,
          8.344,
          8.7921,
          8.7921,
          10.7103,
          10.7103,
          12.1265,
          10.5857,
          10.5857,
          2.1222,
          2.5052,
          2.7227,
          2.5091,
          2.5182,
          2.2955,
          2.1036,
          1.9047,
          1.9047,
          1.6132,
          1.7523,
          1.5106,
          1.3325,
          1.3567,
          1.2024,
          1.1691,
          1.1296,
          1.1742,
          1.137,
          1.3163,
          1.3449,
          1.358,
          1.3861,
          1.3861,
          1.4165,
          1.5192,
          1.5804,
          1.5331,
          1.4395,
          1.4261,
          1.4672,
          1.5184,
          1.5895,
          1.7281,
          1.9265,
          2.1678,
          1.77,
          1.7912,
          1.7821,
          1.7257,
          1.6768,
          1.6334,
          1.4896,
          1.5004,
          1.5888,
          1.5741,
          1.639,
          1.7028,
          1.6074,
          1.4254,
          1.1781,
          1.2852,
          1.4547,
          1.4655,
          1.413,
          1.5275,
          1.5539,
          1.5894,
          1.6582,
          1.8347,
          1.8195,
          1.6475,
          1.8026,
          1.794,
          1.8589,
          1.8746,
          1.9512,
          2.0218,
          2.0635,
          1.9096,
          1.9976,
          1.8629,
          1.9356,
          1.9682,
          2.0527,
          2.0882,
          2.2004,
          2.3158,
          2.2222,
          2.1247,
          2.0026,
          1.9142,
          1.8206,
          1.8172,
          1.8662,
          2.0651,
          2.0048,
          1.9784,
          1.8956,
          1.9879,
          2.072,
          2.198,
          2.2616,
          2.185,
          2.3236,
          2.3552,
          2.3682,
          2.4527,
          2.4961,
          2.4358,
          2.5806,
          2.7792,
          2.7831,
          2.7175,
          2.5975,
          2.5671,
          2.7344,
          2.8016,
          2.9634,
          3.0665,
          2.8715,
          2.5403,
          2.9084,
          2.8237,
          3.0334,
          3.0993,
          2.8965,
          2.5329,
          2.4298,
          2.206,
          2.3053,
          2.1007,
          2.1705,
          1.9512,
          3.4242,
          3.3317,
          3.4106,
          4.0983,
          3.724,
          3.9917,
          3.5459,
          3.1523,
          1.8209,
          1.7554,
          1.8226,
          1.8681,
          2.1099,
          2.3817,
          2.3817,
          2.7986,
          2.7986,
          2.8927,
          2.4091,
          2.3999,
          2.4982,
          2.4786,
          2.2875,
          2.1675,
          2.3889,
          2.505
         ],
         "xaxis": "x",
         "y": [
          6.575,
          6.421,
          7.185,
          6.998,
          7.147,
          6.43,
          6.012,
          6.172,
          5.631,
          6.004,
          6.377,
          6.009,
          5.889,
          5.949,
          6.096,
          5.834,
          5.935,
          5.99,
          5.456,
          5.727,
          5.57,
          5.965,
          6.142,
          5.813,
          5.924,
          5.599,
          5.813,
          6.047,
          6.495,
          6.674,
          5.713,
          6.072,
          5.95,
          5.701,
          6.096,
          5.933,
          5.841,
          5.85,
          5.966,
          6.595,
          7.024,
          6.77,
          6.169,
          6.211,
          6.069,
          5.682,
          5.786,
          6.03,
          5.399,
          5.602,
          5.963,
          6.115,
          6.511,
          5.998,
          5.888,
          7.249,
          6.383,
          6.816,
          6.145,
          5.927,
          5.741,
          5.966,
          6.456,
          6.762,
          7.104,
          6.29,
          5.787,
          5.878,
          5.594,
          5.885,
          6.417,
          5.961,
          6.065,
          6.245,
          6.273,
          6.286,
          6.279,
          6.14,
          6.232,
          5.874,
          6.727,
          6.619,
          6.302,
          6.167,
          6.389,
          6.63,
          6.015,
          6.121,
          7.007,
          7.079,
          6.417,
          6.405,
          6.442,
          6.211,
          6.249,
          6.625,
          6.163,
          8.069,
          7.82,
          7.416,
          6.727,
          6.781,
          6.405,
          6.137,
          6.167,
          5.851,
          5.836,
          6.127,
          6.474,
          6.229,
          6.195,
          6.715,
          5.913,
          6.092,
          6.254,
          5.928,
          6.176,
          6.021,
          5.872,
          5.731,
          5.87,
          6.004,
          5.961,
          5.856,
          5.879,
          5.986,
          5.613,
          5.693,
          6.431,
          5.637,
          6.458,
          6.326,
          6.372,
          5.822,
          5.757,
          6.335,
          5.942,
          6.454,
          5.857,
          6.151,
          6.174,
          5.019,
          5.403,
          5.468,
          4.903,
          6.13,
          5.628,
          4.926,
          5.186,
          5.597,
          6.122,
          5.404,
          5.012,
          5.709,
          6.129,
          6.152,
          5.272,
          6.943,
          6.066,
          6.51,
          6.25,
          7.489,
          7.802,
          8.375,
          5.854,
          6.101,
          7.929,
          5.877,
          6.319,
          6.402,
          5.875,
          5.88,
          5.572,
          6.416,
          5.859,
          6.546,
          6.02,
          6.315,
          6.86,
          6.98,
          7.765,
          6.144,
          7.155,
          6.563,
          5.604,
          6.153,
          7.831,
          6.782,
          6.556,
          7.185,
          6.951,
          6.739,
          7.178,
          6.8,
          6.604,
          7.875,
          7.287,
          7.107,
          7.274,
          6.975,
          7.135,
          6.162,
          7.61,
          7.853,
          8.034,
          5.891,
          6.326,
          5.783,
          6.064,
          5.344,
          5.96,
          5.404,
          5.807,
          6.375,
          5.412,
          6.182,
          5.888,
          6.642,
          5.951,
          6.373,
          6.951,
          6.164,
          6.879,
          6.618,
          8.266,
          8.725,
          8.04,
          7.163,
          7.686,
          6.552,
          5.981,
          7.412,
          8.337,
          8.247,
          6.726,
          6.086,
          6.631,
          7.358,
          6.481,
          6.606,
          6.897,
          6.095,
          6.358,
          6.393,
          5.593,
          5.605,
          6.108,
          6.226,
          6.433,
          6.718,
          6.487,
          6.438,
          6.957,
          8.259,
          6.108,
          5.876,
          7.454,
          8.704,
          7.333,
          6.842,
          7.203,
          7.52,
          8.398,
          7.327,
          7.206,
          5.56,
          7.014,
          8.297,
          7.47,
          5.92,
          5.856,
          6.24,
          6.538,
          7.691,
          6.758,
          6.854,
          7.267,
          6.826,
          6.482,
          6.812,
          7.82,
          6.968,
          7.645,
          7.923,
          7.088,
          6.453,
          6.23,
          6.209,
          6.315,
          6.565,
          6.861,
          7.148,
          6.63,
          6.127,
          6.009,
          6.678,
          6.549,
          5.79,
          6.345,
          7.041,
          6.871,
          6.59,
          6.495,
          6.982,
          7.236,
          6.616,
          7.42,
          6.849,
          6.635,
          5.972,
          4.973,
          6.122,
          6.023,
          6.266,
          6.567,
          5.705,
          5.914,
          5.782,
          6.382,
          6.113,
          6.426,
          6.376,
          6.041,
          5.708,
          6.415,
          6.431,
          6.312,
          6.083,
          5.868,
          6.333,
          6.144,
          5.706,
          6.031,
          6.316,
          6.31,
          6.037,
          5.869,
          5.895,
          6.059,
          5.985,
          5.968,
          7.241,
          6.54,
          6.696,
          6.874,
          6.014,
          5.898,
          6.516,
          6.635,
          6.939,
          6.49,
          6.579,
          5.884,
          6.728,
          5.663,
          5.936,
          6.212,
          6.395,
          6.127,
          6.112,
          6.398,
          6.251,
          5.362,
          5.803,
          8.78,
          3.561,
          4.963,
          3.863,
          4.97,
          6.683,
          7.016,
          6.216,
          5.875,
          4.906,
          4.138,
          7.313,
          6.649,
          6.794,
          6.38,
          6.223,
          6.968,
          6.545,
          5.536,
          5.52,
          4.368,
          5.277,
          4.652,
          5,
          4.88,
          5.39,
          5.713,
          6.051,
          5.036,
          6.193,
          5.887,
          6.471,
          6.405,
          5.747,
          5.453,
          5.852,
          5.987,
          6.343,
          6.404,
          5.349,
          5.531,
          5.683,
          4.138,
          5.608,
          5.617,
          6.852,
          5.757,
          6.657,
          4.628,
          5.155,
          4.519,
          6.434,
          6.782,
          5.304,
          5.957,
          6.824,
          6.411,
          6.006,
          5.648,
          6.103,
          5.565,
          5.896,
          5.837,
          6.202,
          6.193,
          6.38,
          6.348,
          6.833,
          6.425,
          6.436,
          6.208,
          6.629,
          6.461,
          6.152,
          5.935,
          5.627,
          5.818,
          6.406,
          6.219,
          6.485,
          5.854,
          6.459,
          6.341,
          6.251,
          6.185,
          6.417,
          6.749,
          6.655,
          6.297,
          7.393,
          6.728,
          6.525,
          5.976,
          5.936,
          6.301,
          6.081,
          6.701,
          6.376,
          6.317,
          6.513,
          6.209,
          5.759,
          5.952,
          6.003,
          5.926,
          5.713,
          6.167,
          6.229,
          6.437,
          6.98,
          5.427,
          6.162,
          6.484,
          5.304,
          6.185,
          6.229,
          6.242,
          6.75,
          7.061,
          5.762,
          5.871,
          6.312,
          6.114,
          5.905,
          5.454,
          5.414,
          5.093,
          5.983,
          5.983,
          5.707,
          5.926,
          5.67,
          5.39,
          5.794,
          6.019,
          5.569,
          6.027,
          6.593,
          6.12,
          6.976,
          6.794,
          6.03
         ],
         "yaxis": "y"
        }
       ],
       "layout": {
        "legend": {
         "tracegroupgap": 0
        },
        "template": {
         "data": {
          "bar": [
           {
            "error_x": {
             "color": "#2a3f5f"
            },
            "error_y": {
             "color": "#2a3f5f"
            },
            "marker": {
             "line": {
              "color": "#E5ECF6",
              "width": 0.5
             },
             "pattern": {
              "fillmode": "overlay",
              "size": 10,
              "solidity": 0.2
             }
            },
            "type": "bar"
           }
          ],
          "barpolar": [
           {
            "marker": {
             "line": {
              "color": "#E5ECF6",
              "width": 0.5
             },
             "pattern": {
              "fillmode": "overlay",
              "size": 10,
              "solidity": 0.2
             }
            },
            "type": "barpolar"
           }
          ],
          "carpet": [
           {
            "aaxis": {
             "endlinecolor": "#2a3f5f",
             "gridcolor": "white",
             "linecolor": "white",
             "minorgridcolor": "white",
             "startlinecolor": "#2a3f5f"
            },
            "baxis": {
             "endlinecolor": "#2a3f5f",
             "gridcolor": "white",
             "linecolor": "white",
             "minorgridcolor": "white",
             "startlinecolor": "#2a3f5f"
            },
            "type": "carpet"
           }
          ],
          "choropleth": [
           {
            "colorbar": {
             "outlinewidth": 0,
             "ticks": ""
            },
            "type": "choropleth"
           }
          ],
          "contour": [
           {
            "colorbar": {
             "outlinewidth": 0,
             "ticks": ""
            },
            "colorscale": [
             [
              0,
              "#0d0887"
             ],
             [
              0.1111111111111111,
              "#46039f"
             ],
             [
              0.2222222222222222,
              "#7201a8"
             ],
             [
              0.3333333333333333,
              "#9c179e"
             ],
             [
              0.4444444444444444,
              "#bd3786"
             ],
             [
              0.5555555555555556,
              "#d8576b"
             ],
             [
              0.6666666666666666,
              "#ed7953"
             ],
             [
              0.7777777777777778,
              "#fb9f3a"
             ],
             [
              0.8888888888888888,
              "#fdca26"
             ],
             [
              1,
              "#f0f921"
             ]
            ],
            "type": "contour"
           }
          ],
          "contourcarpet": [
           {
            "colorbar": {
             "outlinewidth": 0,
             "ticks": ""
            },
            "type": "contourcarpet"
           }
          ],
          "heatmap": [
           {
            "colorbar": {
             "outlinewidth": 0,
             "ticks": ""
            },
            "colorscale": [
             [
              0,
              "#0d0887"
             ],
             [
              0.1111111111111111,
              "#46039f"
             ],
             [
              0.2222222222222222,
              "#7201a8"
             ],
             [
              0.3333333333333333,
              "#9c179e"
             ],
             [
              0.4444444444444444,
              "#bd3786"
             ],
             [
              0.5555555555555556,
              "#d8576b"
             ],
             [
              0.6666666666666666,
              "#ed7953"
             ],
             [
              0.7777777777777778,
              "#fb9f3a"
             ],
             [
              0.8888888888888888,
              "#fdca26"
             ],
             [
              1,
              "#f0f921"
             ]
            ],
            "type": "heatmap"
           }
          ],
          "heatmapgl": [
           {
            "colorbar": {
             "outlinewidth": 0,
             "ticks": ""
            },
            "colorscale": [
             [
              0,
              "#0d0887"
             ],
             [
              0.1111111111111111,
              "#46039f"
             ],
             [
              0.2222222222222222,
              "#7201a8"
             ],
             [
              0.3333333333333333,
              "#9c179e"
             ],
             [
              0.4444444444444444,
              "#bd3786"
             ],
             [
              0.5555555555555556,
              "#d8576b"
             ],
             [
              0.6666666666666666,
              "#ed7953"
             ],
             [
              0.7777777777777778,
              "#fb9f3a"
             ],
             [
              0.8888888888888888,
              "#fdca26"
             ],
             [
              1,
              "#f0f921"
             ]
            ],
            "type": "heatmapgl"
           }
          ],
          "histogram": [
           {
            "marker": {
             "pattern": {
              "fillmode": "overlay",
              "size": 10,
              "solidity": 0.2
             }
            },
            "type": "histogram"
           }
          ],
          "histogram2d": [
           {
            "colorbar": {
             "outlinewidth": 0,
             "ticks": ""
            },
            "colorscale": [
             [
              0,
              "#0d0887"
             ],
             [
              0.1111111111111111,
              "#46039f"
             ],
             [
              0.2222222222222222,
              "#7201a8"
             ],
             [
              0.3333333333333333,
              "#9c179e"
             ],
             [
              0.4444444444444444,
              "#bd3786"
             ],
             [
              0.5555555555555556,
              "#d8576b"
             ],
             [
              0.6666666666666666,
              "#ed7953"
             ],
             [
              0.7777777777777778,
              "#fb9f3a"
             ],
             [
              0.8888888888888888,
              "#fdca26"
             ],
             [
              1,
              "#f0f921"
             ]
            ],
            "type": "histogram2d"
           }
          ],
          "histogram2dcontour": [
           {
            "colorbar": {
             "outlinewidth": 0,
             "ticks": ""
            },
            "colorscale": [
             [
              0,
              "#0d0887"
             ],
             [
              0.1111111111111111,
              "#46039f"
             ],
             [
              0.2222222222222222,
              "#7201a8"
             ],
             [
              0.3333333333333333,
              "#9c179e"
             ],
             [
              0.4444444444444444,
              "#bd3786"
             ],
             [
              0.5555555555555556,
              "#d8576b"
             ],
             [
              0.6666666666666666,
              "#ed7953"
             ],
             [
              0.7777777777777778,
              "#fb9f3a"
             ],
             [
              0.8888888888888888,
              "#fdca26"
             ],
             [
              1,
              "#f0f921"
             ]
            ],
            "type": "histogram2dcontour"
           }
          ],
          "mesh3d": [
           {
            "colorbar": {
             "outlinewidth": 0,
             "ticks": ""
            },
            "type": "mesh3d"
           }
          ],
          "parcoords": [
           {
            "line": {
             "colorbar": {
              "outlinewidth": 0,
              "ticks": ""
             }
            },
            "type": "parcoords"
           }
          ],
          "pie": [
           {
            "automargin": true,
            "type": "pie"
           }
          ],
          "scatter": [
           {
            "fillpattern": {
             "fillmode": "overlay",
             "size": 10,
             "solidity": 0.2
            },
            "type": "scatter"
           }
          ],
          "scatter3d": [
           {
            "line": {
             "colorbar": {
              "outlinewidth": 0,
              "ticks": ""
             }
            },
            "marker": {
             "colorbar": {
              "outlinewidth": 0,
              "ticks": ""
             }
            },
            "type": "scatter3d"
           }
          ],
          "scattercarpet": [
           {
            "marker": {
             "colorbar": {
              "outlinewidth": 0,
              "ticks": ""
             }
            },
            "type": "scattercarpet"
           }
          ],
          "scattergeo": [
           {
            "marker": {
             "colorbar": {
              "outlinewidth": 0,
              "ticks": ""
             }
            },
            "type": "scattergeo"
           }
          ],
          "scattergl": [
           {
            "marker": {
             "colorbar": {
              "outlinewidth": 0,
              "ticks": ""
             }
            },
            "type": "scattergl"
           }
          ],
          "scattermapbox": [
           {
            "marker": {
             "colorbar": {
              "outlinewidth": 0,
              "ticks": ""
             }
            },
            "type": "scattermapbox"
           }
          ],
          "scatterpolar": [
           {
            "marker": {
             "colorbar": {
              "outlinewidth": 0,
              "ticks": ""
             }
            },
            "type": "scatterpolar"
           }
          ],
          "scatterpolargl": [
           {
            "marker": {
             "colorbar": {
              "outlinewidth": 0,
              "ticks": ""
             }
            },
            "type": "scatterpolargl"
           }
          ],
          "scatterternary": [
           {
            "marker": {
             "colorbar": {
              "outlinewidth": 0,
              "ticks": ""
             }
            },
            "type": "scatterternary"
           }
          ],
          "surface": [
           {
            "colorbar": {
             "outlinewidth": 0,
             "ticks": ""
            },
            "colorscale": [
             [
              0,
              "#0d0887"
             ],
             [
              0.1111111111111111,
              "#46039f"
             ],
             [
              0.2222222222222222,
              "#7201a8"
             ],
             [
              0.3333333333333333,
              "#9c179e"
             ],
             [
              0.4444444444444444,
              "#bd3786"
             ],
             [
              0.5555555555555556,
              "#d8576b"
             ],
             [
              0.6666666666666666,
              "#ed7953"
             ],
             [
              0.7777777777777778,
              "#fb9f3a"
             ],
             [
              0.8888888888888888,
              "#fdca26"
             ],
             [
              1,
              "#f0f921"
             ]
            ],
            "type": "surface"
           }
          ],
          "table": [
           {
            "cells": {
             "fill": {
              "color": "#EBF0F8"
             },
             "line": {
              "color": "white"
             }
            },
            "header": {
             "fill": {
              "color": "#C8D4E3"
             },
             "line": {
              "color": "white"
             }
            },
            "type": "table"
           }
          ]
         },
         "layout": {
          "annotationdefaults": {
           "arrowcolor": "#2a3f5f",
           "arrowhead": 0,
           "arrowwidth": 1
          },
          "autotypenumbers": "strict",
          "coloraxis": {
           "colorbar": {
            "outlinewidth": 0,
            "ticks": ""
           }
          },
          "colorscale": {
           "diverging": [
            [
             0,
             "#8e0152"
            ],
            [
             0.1,
             "#c51b7d"
            ],
            [
             0.2,
             "#de77ae"
            ],
            [
             0.3,
             "#f1b6da"
            ],
            [
             0.4,
             "#fde0ef"
            ],
            [
             0.5,
             "#f7f7f7"
            ],
            [
             0.6,
             "#e6f5d0"
            ],
            [
             0.7,
             "#b8e186"
            ],
            [
             0.8,
             "#7fbc41"
            ],
            [
             0.9,
             "#4d9221"
            ],
            [
             1,
             "#276419"
            ]
           ],
           "sequential": [
            [
             0,
             "#0d0887"
            ],
            [
             0.1111111111111111,
             "#46039f"
            ],
            [
             0.2222222222222222,
             "#7201a8"
            ],
            [
             0.3333333333333333,
             "#9c179e"
            ],
            [
             0.4444444444444444,
             "#bd3786"
            ],
            [
             0.5555555555555556,
             "#d8576b"
            ],
            [
             0.6666666666666666,
             "#ed7953"
            ],
            [
             0.7777777777777778,
             "#fb9f3a"
            ],
            [
             0.8888888888888888,
             "#fdca26"
            ],
            [
             1,
             "#f0f921"
            ]
           ],
           "sequentialminus": [
            [
             0,
             "#0d0887"
            ],
            [
             0.1111111111111111,
             "#46039f"
            ],
            [
             0.2222222222222222,
             "#7201a8"
            ],
            [
             0.3333333333333333,
             "#9c179e"
            ],
            [
             0.4444444444444444,
             "#bd3786"
            ],
            [
             0.5555555555555556,
             "#d8576b"
            ],
            [
             0.6666666666666666,
             "#ed7953"
            ],
            [
             0.7777777777777778,
             "#fb9f3a"
            ],
            [
             0.8888888888888888,
             "#fdca26"
            ],
            [
             1,
             "#f0f921"
            ]
           ]
          },
          "colorway": [
           "#636efa",
           "#EF553B",
           "#00cc96",
           "#ab63fa",
           "#FFA15A",
           "#19d3f3",
           "#FF6692",
           "#B6E880",
           "#FF97FF",
           "#FECB52"
          ],
          "font": {
           "color": "#2a3f5f"
          },
          "geo": {
           "bgcolor": "white",
           "lakecolor": "white",
           "landcolor": "#E5ECF6",
           "showlakes": true,
           "showland": true,
           "subunitcolor": "white"
          },
          "hoverlabel": {
           "align": "left"
          },
          "hovermode": "closest",
          "mapbox": {
           "style": "light"
          },
          "paper_bgcolor": "white",
          "plot_bgcolor": "#E5ECF6",
          "polar": {
           "angularaxis": {
            "gridcolor": "white",
            "linecolor": "white",
            "ticks": ""
           },
           "bgcolor": "#E5ECF6",
           "radialaxis": {
            "gridcolor": "white",
            "linecolor": "white",
            "ticks": ""
           }
          },
          "scene": {
           "xaxis": {
            "backgroundcolor": "#E5ECF6",
            "gridcolor": "white",
            "gridwidth": 2,
            "linecolor": "white",
            "showbackground": true,
            "ticks": "",
            "zerolinecolor": "white"
           },
           "yaxis": {
            "backgroundcolor": "#E5ECF6",
            "gridcolor": "white",
            "gridwidth": 2,
            "linecolor": "white",
            "showbackground": true,
            "ticks": "",
            "zerolinecolor": "white"
           },
           "zaxis": {
            "backgroundcolor": "#E5ECF6",
            "gridcolor": "white",
            "gridwidth": 2,
            "linecolor": "white",
            "showbackground": true,
            "ticks": "",
            "zerolinecolor": "white"
           }
          },
          "shapedefaults": {
           "line": {
            "color": "#2a3f5f"
           }
          },
          "ternary": {
           "aaxis": {
            "gridcolor": "white",
            "linecolor": "white",
            "ticks": ""
           },
           "baxis": {
            "gridcolor": "white",
            "linecolor": "white",
            "ticks": ""
           },
           "bgcolor": "#E5ECF6",
           "caxis": {
            "gridcolor": "white",
            "linecolor": "white",
            "ticks": ""
           }
          },
          "title": {
           "x": 0.05
          },
          "xaxis": {
           "automargin": true,
           "gridcolor": "white",
           "linecolor": "white",
           "ticks": "",
           "title": {
            "standoff": 15
           },
           "zerolinecolor": "white",
           "zerolinewidth": 2
          },
          "yaxis": {
           "automargin": true,
           "gridcolor": "white",
           "linecolor": "white",
           "ticks": "",
           "title": {
            "standoff": 15
           },
           "zerolinecolor": "white",
           "zerolinewidth": 2
          }
         }
        },
        "title": {
         "text": ""
        },
        "xaxis": {
         "anchor": "y",
         "domain": [
          0,
          1
         ],
         "title": {
          "text": "Distancias a cinco centros de empleo"
         }
        },
        "yaxis": {
         "anchor": "x",
         "domain": [
          0,
          1
         ],
         "title": {
          "text": "Habitaciones por vivienda"
         }
        }
       }
      }
     },
     "metadata": {},
     "output_type": "display_data"
    }
   ],
   "source": [
    "fig = px.scatter(df_red, x=\"dis\", y=\"rm\", title=\"Gráfico de Dispersión\")\n",
    "fig.update_layout(\n",
    "    title=\"\",\n",
    "    xaxis_title=\"Distancias a cinco centros de empleo\",\n",
    "    yaxis_title=\"Habitaciones por vivienda\"\n",
    ")\n",
    "fig.show()"
   ]
  },
  {
   "cell_type": "markdown",
   "metadata": {},
   "source": [
    "Por como estan distribuidos los puntos, parece una buena situación para aplicar tecnicas de deteccion de outliers"
   ]
  },
  {
   "cell_type": "markdown",
   "metadata": {},
   "source": [
    "## Método 1: Local Outlier Factor (LOF) "
   ]
  },
  {
   "cell_type": "code",
   "execution_count": 4,
   "metadata": {},
   "outputs": [
    {
     "name": "stderr",
     "output_type": "stream",
     "text": [
      "C:\\Users\\irait\\AppData\\Local\\Temp\\ipykernel_30884\\1999127416.py:10: SettingWithCopyWarning:\n",
      "\n",
      "\n",
      "A value is trying to be set on a copy of a slice from a DataFrame.\n",
      "Try using .loc[row_indexer,col_indexer] = value instead\n",
      "\n",
      "See the caveats in the documentation: https://pandas.pydata.org/pandas-docs/stable/user_guide/indexing.html#returning-a-view-versus-a-copy\n",
      "\n"
     ]
    },
    {
     "data": {
      "application/vnd.plotly.v1+json": {
       "config": {
        "plotlyServerURL": "https://plot.ly"
       },
       "data": [
        {
         "hovertemplate": "dis=%{x}<br>rm=%{y}<br>outlierness=%{marker.color}<extra></extra>",
         "legendgroup": "",
         "marker": {
          "color": [
           1.0170060465412414,
           1.048391640295985,
           1.030563861759474,
           1.041572298476466,
           1.1780850277266062,
           0.931248633418701,
           0.9034065172455736,
           1.053264626316593,
           1.084704890356304,
           0.9232360728680703,
           1.0965774673652573,
           1.123348587955626,
           1.0500006081431377,
           1.0018945222214273,
           0.9861567625038195,
           1.0032389927954326,
           0.9731091294238894,
           1.0965068749794313,
           1.324972756181205,
           1.0445761391376123,
           1.3809742287155502,
           0.9710094937807836,
           0.9865521848668658,
           1.0567292025245263,
           0.959014970531685,
           1.6436731793918604,
           1.0601006332545553,
           0.9610954752404839,
           1.0448959505955229,
           0.9491133032811669,
           1.0182037765369079,
           0.9709497250623997,
           0.9768915649505854,
           1.0891300590719166,
           0.9692342762465639,
           1.0704958401331361,
           1.0997575442345784,
           1.1589394279004557,
           1.0351171160448207,
           1.006454158627642,
           0.9665435101224034,
           1.0129046834848199,
           0.9931205602805149,
           1.0538064274776877,
           1.036437378558707,
           1.3156936889951636,
           1.1090935058687437,
           1.0025762864012693,
           1.515378891826548,
           1.212463117631878,
           0.9795420046532952,
           1.2349084690968974,
           1.1962222119859822,
           0.998093380463305,
           1.592477942252042,
           1.463423244366788,
           1.109565552108133,
           0.9953415518197639,
           1.0582163400143931,
           1.0266106993732862,
           1.4951330479100413,
           0.9826782693365266,
           1.0443868712702968,
           0.9809865526249186,
           1.4152484945782686,
           1.066009500591803,
           1.0629550150148175,
           1.1370013705853226,
           1.0887754086532802,
           1.1249249961303736,
           1.0483152114147265,
           1.0272184456532856,
           0.9409675432911531,
           1.1016137277834273,
           1.0749307917198183,
           0.9428545151598835,
           1.0137148221396026,
           1.011418425978581,
           1.1608281012318913,
           1.0086357902373846,
           1.0599793195519012,
           1.0138444059074454,
           0.9547724646588801,
           0.9259265762223257,
           1.003752880494006,
           1.02454568124755,
           0.9885854848813376,
           0.9778829760013135,
           1.1261578380716941,
           1.1513621182673774,
           1.1110227983680376,
           1.0899594936249584,
           1.0999310409098935,
           1.022780280245448,
           1.0066415680306442,
           1.034738045411592,
           0.9657429222476601,
           0.9626874257588522,
           0.9382507514092486,
           1.0317953218597036,
           0.9579534763502917,
           1.0380413936579496,
           0.9851421397034285,
           0.9314078288154171,
           1.1122847868380479,
           1.0060143927985425,
           1.288112870742101,
           1.078542309514549,
           1.0719050138464963,
           1.3067271593439926,
           1.1701444420095382,
           1.0137321690460552,
           1.0135868492467004,
           0.9730409884811401,
           1.0378132130419537,
           1.1613111802812743,
           1.0189948880780941,
           1.0504347480957565,
           0.9870984666917917,
           0.9941878451989101,
           1.1516312772697403,
           1.0825256039498286,
           1.007558432342137,
           0.9875262368676395,
           0.9145279115055992,
           1.0558857534376958,
           0.9297772073052781,
           1.0214874639940885,
           1.011104910338109,
           1.0575974528406857,
           0.9862052191512847,
           1.0474387783676096,
           1.0579933797481906,
           1.1919654626981857,
           1.6993288749169975,
           1.0082565501697318,
           0.9439492036254478,
           1.0086327690692676,
           1.3859865423041422,
           0.9695287378800135,
           0.9684424664851935,
           0.9082590414030698,
           1.0870026449747443,
           1.041229427887562,
           1.0378038464375183,
           1.319497091169786,
           1.0213090907928046,
           0.9910274487106617,
           1.0868987615002108,
           0.9801663242438876,
           1.0428535857685848,
           0.92215876139599,
           1.0082782544911568,
           0.9979024435402793,
           1.018582065196828,
           0.9923770819053594,
           1.0432237398215158,
           1.0020262989279154,
           1.1869656928562378,
           1.2390069131798356,
           1.0865177915347233,
           0.9383382970739269,
           1.238642185087332,
           0.9980867110336238,
           1.0631108520334567,
           1.0615438847674568,
           1.1888495082452846,
           0.9432942295053725,
           1.0082565501697318,
           0.9567548567522822,
           0.9342231953057469,
           0.9884584102134326,
           1.0426806958606758,
           0.9383295121216889,
           1.5708069766218364,
           1.198858590208646,
           1.0784331182244171,
           1.022094548021859,
           1.0492785960440967,
           1.0664695824352255,
           1.0629044286375484,
           0.9815214269889226,
           1.137831675202773,
           1.156729676040397,
           1.0587107963231168,
           1.0085833545388116,
           0.9381797792732275,
           1.0490895682359682,
           1.0836019615280859,
           0.9976060952011473,
           1.0255824699225355,
           1.1025175596411334,
           1.1279419347767004,
           1.0417051060970424,
           0.9425609266900189,
           0.9924094379820652,
           1.0174401833534212,
           0.9858786217343909,
           0.9980234822130635,
           0.9643923165649095,
           0.9889801298623047,
           1.1248174726192466,
           1.155371102850771,
           1.0330431651097196,
           0.9699478984059864,
           1.036699765963678,
           0.9527470743122668,
           1.0092539480117204,
           1.0330571563835491,
           1.213361643881097,
           0.9318883962179225,
           1.1071666532814286,
           1.1273604356580118,
           1.0499500691402366,
           1.1082545063643623,
           0.9784848035199201,
           1.0398731770614167,
           0.9476408205456949,
           1.0079647448012565,
           1.0831084827047297,
           1.0219656817048592,
           1.0574001416239596,
           0.9586064464943551,
           0.9726659842636529,
           1.0431505850412108,
           1.0918346356376436,
           0.974243470304416,
           1.0825679386264846,
           0.995972644865871,
           0.9952941315654783,
           1.2621431021642393,
           1.0114158591480225,
           1.1318585239484893,
           1.0068029129594736,
           1.3838652122364992,
           1.007372227159935,
           0.948102540045577,
           1.0349082834289363,
           0.9796518656635783,
           0.9425609266900189,
           1.0188328513217826,
           1.152377072604367,
           0.9657131042759953,
           0.9254130013482825,
           1.4463545202586638,
           1.420804915171598,
           1.0596620583809755,
           1.062353144546387,
           1.2067136839625356,
           1.0534151955534607,
           1.0168809646205834,
           0.9331573540299429,
           1.2110299778643085,
           4.051043502743224,
           1.306451750831973,
           1.3917611954975588,
           1.4380529207358947,
           1.0843993599941226,
           1.0694574304553515,
           0.999433480392503,
           0.9806181845664425,
           0.9983293519233655,
           0.9823329820053079,
           1.0127964251606159,
           1.0128121963347287,
           1.063487339671418,
           1.1236153340065513,
           1.0142277267723887,
           1.001594311212995,
           1.0219664990681863,
           0.9847246385905774,
           1.0342210144091215,
           1.0382899213664534,
           1.0571110896635756,
           1.0786825856575293,
           1.0654044448646562,
           0.962734927772455,
           1.1694739652361545,
           1.0272993585081527,
           1.0744125584964952,
           0.9908201182077058,
           0.9922898864764186,
           0.9808706210052289,
           1.0292820040947441,
           0.9876504226229942,
           1.046461848552281,
           1.1838295024500642,
           1.2480013712714055,
           1.0695946149351703,
           0.9734383575940745,
           1.0509498183873947,
           1.0345012880377602,
           1.0138444059074454,
           0.9620844932038958,
           0.985431473963607,
           1.027911387627991,
           1.030768844372029,
           1.0312184466344072,
           1.1206558731821006,
           0.9643923165649095,
           1.0250473270649392,
           1.0153194997585913,
           0.9459730132892558,
           0.9657600599627392,
           1.0308846651017651,
           1.0042891307446715,
           1.0686028528742963,
           0.9642532046584569,
           0.9476408205456947,
           0.9824545402267553,
           2.560040964033611,
           1.0313429837831196,
           1.0524490495088779,
           0.9872915574438265,
           1.0612227305185662,
           1.0402756149383758,
           0.983216246171503,
           0.9720470429406051,
           1.0519270410207338,
           1.0280513716262734,
           0.9561051321150821,
           1.0559486493643298,
           1.0467731729196776,
           1.3434951416020378,
           0.9816854463882614,
           1.0094090021998086,
           0.9596783480262499,
           1.030482577429525,
           1.0032819200154954,
           0.9600586472443002,
           0.9885610861185462,
           1.1138104894913416,
           0.9689498681329962,
           1.0749505036685478,
           1.0662835498347476,
           1.005006386424501,
           1.0032819200154954,
           1.1044276541108127,
           1.0851150138641188,
           1.0535311708226334,
           1.0535311708226334,
           1.0387065986479231,
           1.0203382080184056,
           0.9886266464659903,
           0.9951906286293841,
           1.0593103576383647,
           1.158453229284446,
           1.2153460708363677,
           1.0512126945821822,
           1.177958909655532,
           1.158978063579727,
           1.64084138995591,
           1.338407417440774,
           1.8963364231222957,
           1.3879533027637732,
           1.2894849214463977,
           1.0447018170387348,
           1.0031997450852927,
           0.960400679410004,
           1.0397391501016973,
           1.0199795740147173,
           1.0550825385950504,
           1.2561758449574465,
           1.1366484234210255,
           1.0950504383814987,
           1.6584095831506276,
           1.0050394832083358,
           1.4109484116632363,
           1.0516331032555835,
           1.0494884595548553,
           1.415550202305956,
           1.9927541471407344,
           1.7084156695888297,
           1.0935028804946234,
           1.207835068561118,
           1.157241826871055,
           1.28023973111014,
           1.0709537218248666,
           1.714399429151554,
           1.6114947735383403,
           1.1913594120179574,
           1.63465624502595,
           0.9444998943486219,
           0.9724865022870928,
           1.1225964118553224,
           1.1142062347856,
           1.905431796812189,
           0.9550415881507032,
           1.0566747072671716,
           0.9879712521042225,
           1.0302002808535082,
           1.0944432235493256,
           1.0405801478034264,
           0.9564505498599323,
           1.0586940195492667,
           0.981795287455418,
           1.01389121607294,
           1.0383424136763173,
           1.0502252405614911,
           1.3826959814358413,
           1.458197783038695,
           1.5022141056704053,
           1.2018724263446612,
           1.0127932731683913,
           0.9420274169525392,
           1.0713809292465097,
           1.2045724173354047,
           1.0141798225042504,
           1.0089996491088278,
           1.015760003014267,
           1.065129978195961,
           1.068806566692204,
           1.6142235600605506,
           1.1202323412592379,
           1.7474769703542283,
           0.9654029864409841,
           0.961570246754339,
           1.0181300332244587,
           1.0085631383359186,
           1.0052813413968953,
           0.9628682228104493,
           1.058150843142553,
           0.9830389756403684,
           1.1503633301120793,
           1.0824760203025212,
           0.9273963917432042,
           1.02157734727535,
           1.035576167213192,
           1.0160001349533434,
           0.9963027654127284,
           1.0501640472354343,
           1.0546940335485515,
           0.9782173308493872,
           0.980676566273444,
           1.0066772933638857,
           1.4136993524972832,
           1.0178476111230363,
           0.9135138044849604,
           1.017745551692165,
           0.9208609650563497,
           1.0605849561330731,
           0.9326202915190759,
           0.9562812989247658,
           1.0170201097311407,
           0.9943821005120785,
           0.9896309852686601,
           1.0501640472354343,
           0.9972116335229749,
           0.9673836185486154,
           0.9840212425612268,
           0.903982235569708,
           1.015188175318705,
           1.071217374053102,
           1.0162371847262879,
           1.000351815353121,
           1.1540085670610911,
           1.043259446153164,
           1.0000221128451465,
           1.327599245877797,
           0.9947943792592964,
           0.9889714983782898,
           1.0199795740147173,
           1.18816489313856,
           1.202695516775363,
           1.116092119575121,
           1.0440465683151439,
           0.9924603328244158,
           1.0120006355851097,
           0.9839813512701102,
           1.018371368196134,
           1.0574001416239596,
           1.0167567037901781,
           1.098544438861835,
           1.0614448950613435,
           1.0866006457009871,
           0.9701338702611768,
           1.168714606490542,
           1.2957438553390326,
           0.8977110394835826,
           1.0093381891791007,
           1.0508015724883681,
           1.268308888699631,
           1.1281503499728145,
           1.0283568897801978,
           1.262904080967,
           1.0528463807800903,
           1.0048541184456785,
           1.049585805676605,
           1.086283794615684,
           0.9731983971588468,
           1.086445670746565,
           0.9604905627411859,
           1.0161001901519402,
           1.5189675288930076,
           1.1124601569883665,
           1.0299701813445008,
           1.4107520740244541,
           1.0680830461079425,
           0.984092727186054,
           1.173400962932981,
           1.028767524752557,
           1.2085497443161135,
           1.0286919007243984,
           1.0697991107979232,
           0.9736814845102912,
           1.028767524752557
          ],
          "coloraxis": "coloraxis",
          "symbol": "circle"
         },
         "mode": "markers",
         "name": "",
         "orientation": "v",
         "showlegend": false,
         "type": "scatter",
         "x": [
          4.09,
          4.9671,
          4.9671,
          6.0622,
          6.0622,
          6.0622,
          5.5605,
          5.9505,
          6.0821,
          6.5921,
          6.3467,
          6.2267,
          5.4509,
          4.7075,
          4.4619,
          4.4986,
          4.4986,
          4.2579,
          3.7965,
          3.7965,
          3.7979,
          4.0123,
          3.9769,
          4.0952,
          4.3996,
          4.4546,
          4.682,
          4.4534,
          4.4547,
          4.239,
          4.233,
          4.175,
          3.99,
          3.7872,
          3.7598,
          3.3603,
          3.3779,
          3.9342,
          3.8473,
          5.4011,
          5.4011,
          5.7209,
          5.7209,
          5.7209,
          5.7209,
          5.1004,
          5.1004,
          5.6894,
          5.87,
          6.0877,
          6.8147,
          6.8147,
          6.8147,
          6.8147,
          7.3197,
          8.6966,
          9.1876,
          8.3248,
          7.8148,
          6.932,
          7.2254,
          6.8185,
          7.2255,
          7.9809,
          9.2229,
          6.6115,
          6.6115,
          6.498,
          6.498,
          6.498,
          5.2873,
          5.2873,
          5.2873,
          5.2873,
          4.2515,
          4.5026,
          4.0522,
          4.0905,
          5.0141,
          4.5026,
          5.4007,
          5.4007,
          5.4007,
          5.4007,
          4.7794,
          4.4377,
          4.4272,
          3.7476,
          3.4217,
          3.4145,
          3.0923,
          3.0921,
          3.6659,
          3.6659,
          3.615,
          3.4952,
          3.4952,
          3.4952,
          3.4952,
          3.4952,
          2.7778,
          2.8561,
          2.7147,
          2.7147,
          2.421,
          2.1069,
          2.211,
          2.1224,
          2.4329,
          2.5451,
          2.7778,
          2.6775,
          2.3534,
          2.548,
          2.2565,
          2.4631,
          2.7301,
          2.7474,
          2.4775,
          2.7592,
          2.2577,
          2.1974,
          2.0869,
          1.9444,
          2.0063,
          1.9929,
          1.7572,
          1.7883,
          1.8125,
          1.9799,
          2.1185,
          2.271,
          2.3274,
          2.4699,
          2.346,
          2.1107,
          1.9669,
          1.8498,
          1.6686,
          1.6687,
          1.6119,
          1.4394,
          1.3216,
          1.4118,
          1.3459,
          1.4191,
          1.5166,
          1.4608,
          1.5296,
          1.5257,
          1.618,
          1.5916,
          1.6102,
          1.6232,
          1.7494,
          1.7455,
          1.7364,
          1.8773,
          1.7573,
          1.7659,
          1.7984,
          1.9709,
          2.0407,
          2.162,
          2.422,
          2.2834,
          2.0459,
          2.4259,
          2.1,
          2.2625,
          2.4259,
          2.3887,
          2.5961,
          2.6463,
          2.7019,
          3.1323,
          3.5549,
          3.3175,
          2.9153,
          2.829,
          2.741,
          2.5979,
          2.7006,
          2.847,
          2.9879,
          3.2797,
          3.1992,
          3.7886,
          4.5667,
          4.5667,
          6.4798,
          6.4798,
          6.4798,
          6.2196,
          6.2196,
          5.6484,
          7.309,
          7.309,
          7.309,
          7.6534,
          7.6534,
          6.27,
          6.27,
          5.118,
          5.118,
          3.9454,
          4.3549,
          4.3549,
          4.2392,
          3.875,
          3.8771,
          3.665,
          3.6526,
          3.9454,
          3.5875,
          3.9454,
          3.1121,
          3.4211,
          2.8893,
          3.3633,
          2.8617,
          3.048,
          3.2721,
          3.2721,
          2.8944,
          2.8944,
          3.2157,
          3.2157,
          3.3751,
          3.3751,
          3.6715,
          3.6715,
          3.8384,
          3.6519,
          3.6519,
          3.6519,
          4.148,
          4.148,
          6.1899,
          6.1899,
          6.3361,
          6.3361,
          7.0355,
          7.0355,
          7.9549,
          7.9549,
          8.0555,
          8.0555,
          7.8265,
          7.8265,
          7.3967,
          7.3967,
          8.9067,
          8.9067,
          9.2203,
          9.2203,
          6.3361,
          1.801,
          1.8946,
          2.0107,
          2.1121,
          2.1398,
          2.2885,
          2.0788,
          1.9301,
          1.9865,
          2.1329,
          2.4216,
          2.872,
          3.9175,
          4.429,
          4.429,
          3.9175,
          4.3665,
          4.0776,
          4.2673,
          4.7872,
          4.8628,
          4.1403,
          4.1007,
          4.6947,
          5.2447,
          5.2119,
          5.885,
          7.3073,
          7.3073,
          9.0892,
          7.3172,
          7.3172,
          7.3172,
          5.1167,
          5.1167,
          5.1167,
          5.5027,
          5.5027,
          5.9604,
          5.9604,
          6.32,
          7.8278,
          7.8278,
          7.8278,
          5.4917,
          5.4917,
          5.4917,
          4.022,
          3.37,
          3.0992,
          3.1827,
          3.3175,
          3.1025,
          2.5194,
          2.6403,
          2.834,
          3.2628,
          3.6023,
          3.945,
          3.9986,
          4.0317,
          3.5325,
          4.0019,
          4.5404,
          4.5404,
          4.7211,
          4.7211,
          4.7211,
          5.4159,
          5.4159,
          5.4159,
          5.2146,
          5.2146,
          5.8736,
          6.6407,
          6.6407,
          6.4584,
          6.4584,
          5.9853,
          5.2311,
          5.615,
          4.8122,
          4.8122,
          4.8122,
          7.0379,
          6.2669,
          5.7321,
          6.4654,
          8.0136,
          8.0136,
          8.5353,
          8.344,
          8.7921,
          8.7921,
          10.7103,
          10.7103,
          12.1265,
          10.5857,
          10.5857,
          2.1222,
          2.5052,
          2.7227,
          2.5091,
          2.5182,
          2.2955,
          2.1036,
          1.9047,
          1.9047,
          1.6132,
          1.7523,
          1.5106,
          1.3325,
          1.3567,
          1.2024,
          1.1691,
          1.1296,
          1.1742,
          1.137,
          1.3163,
          1.3449,
          1.358,
          1.3861,
          1.3861,
          1.4165,
          1.5192,
          1.5804,
          1.5331,
          1.4395,
          1.4261,
          1.4672,
          1.5184,
          1.5895,
          1.7281,
          1.9265,
          2.1678,
          1.77,
          1.7912,
          1.7821,
          1.7257,
          1.6768,
          1.6334,
          1.4896,
          1.5004,
          1.5888,
          1.5741,
          1.639,
          1.7028,
          1.6074,
          1.4254,
          1.1781,
          1.2852,
          1.4547,
          1.4655,
          1.413,
          1.5275,
          1.5539,
          1.5894,
          1.6582,
          1.8347,
          1.8195,
          1.6475,
          1.8026,
          1.794,
          1.8589,
          1.8746,
          1.9512,
          2.0218,
          2.0635,
          1.9096,
          1.9976,
          1.8629,
          1.9356,
          1.9682,
          2.0527,
          2.0882,
          2.2004,
          2.3158,
          2.2222,
          2.1247,
          2.0026,
          1.9142,
          1.8206,
          1.8172,
          1.8662,
          2.0651,
          2.0048,
          1.9784,
          1.8956,
          1.9879,
          2.072,
          2.198,
          2.2616,
          2.185,
          2.3236,
          2.3552,
          2.3682,
          2.4527,
          2.4961,
          2.4358,
          2.5806,
          2.7792,
          2.7831,
          2.7175,
          2.5975,
          2.5671,
          2.7344,
          2.8016,
          2.9634,
          3.0665,
          2.8715,
          2.5403,
          2.9084,
          2.8237,
          3.0334,
          3.0993,
          2.8965,
          2.5329,
          2.4298,
          2.206,
          2.3053,
          2.1007,
          2.1705,
          1.9512,
          3.4242,
          3.3317,
          3.4106,
          4.0983,
          3.724,
          3.9917,
          3.5459,
          3.1523,
          1.8209,
          1.7554,
          1.8226,
          1.8681,
          2.1099,
          2.3817,
          2.3817,
          2.7986,
          2.7986,
          2.8927,
          2.4091,
          2.3999,
          2.4982,
          2.4786,
          2.2875,
          2.1675,
          2.3889,
          2.505
         ],
         "xaxis": "x",
         "y": [
          6.575,
          6.421,
          7.185,
          6.998,
          7.147,
          6.43,
          6.012,
          6.172,
          5.631,
          6.004,
          6.377,
          6.009,
          5.889,
          5.949,
          6.096,
          5.834,
          5.935,
          5.99,
          5.456,
          5.727,
          5.57,
          5.965,
          6.142,
          5.813,
          5.924,
          5.599,
          5.813,
          6.047,
          6.495,
          6.674,
          5.713,
          6.072,
          5.95,
          5.701,
          6.096,
          5.933,
          5.841,
          5.85,
          5.966,
          6.595,
          7.024,
          6.77,
          6.169,
          6.211,
          6.069,
          5.682,
          5.786,
          6.03,
          5.399,
          5.602,
          5.963,
          6.115,
          6.511,
          5.998,
          5.888,
          7.249,
          6.383,
          6.816,
          6.145,
          5.927,
          5.741,
          5.966,
          6.456,
          6.762,
          7.104,
          6.29,
          5.787,
          5.878,
          5.594,
          5.885,
          6.417,
          5.961,
          6.065,
          6.245,
          6.273,
          6.286,
          6.279,
          6.14,
          6.232,
          5.874,
          6.727,
          6.619,
          6.302,
          6.167,
          6.389,
          6.63,
          6.015,
          6.121,
          7.007,
          7.079,
          6.417,
          6.405,
          6.442,
          6.211,
          6.249,
          6.625,
          6.163,
          8.069,
          7.82,
          7.416,
          6.727,
          6.781,
          6.405,
          6.137,
          6.167,
          5.851,
          5.836,
          6.127,
          6.474,
          6.229,
          6.195,
          6.715,
          5.913,
          6.092,
          6.254,
          5.928,
          6.176,
          6.021,
          5.872,
          5.731,
          5.87,
          6.004,
          5.961,
          5.856,
          5.879,
          5.986,
          5.613,
          5.693,
          6.431,
          5.637,
          6.458,
          6.326,
          6.372,
          5.822,
          5.757,
          6.335,
          5.942,
          6.454,
          5.857,
          6.151,
          6.174,
          5.019,
          5.403,
          5.468,
          4.903,
          6.13,
          5.628,
          4.926,
          5.186,
          5.597,
          6.122,
          5.404,
          5.012,
          5.709,
          6.129,
          6.152,
          5.272,
          6.943,
          6.066,
          6.51,
          6.25,
          7.489,
          7.802,
          8.375,
          5.854,
          6.101,
          7.929,
          5.877,
          6.319,
          6.402,
          5.875,
          5.88,
          5.572,
          6.416,
          5.859,
          6.546,
          6.02,
          6.315,
          6.86,
          6.98,
          7.765,
          6.144,
          7.155,
          6.563,
          5.604,
          6.153,
          7.831,
          6.782,
          6.556,
          7.185,
          6.951,
          6.739,
          7.178,
          6.8,
          6.604,
          7.875,
          7.287,
          7.107,
          7.274,
          6.975,
          7.135,
          6.162,
          7.61,
          7.853,
          8.034,
          5.891,
          6.326,
          5.783,
          6.064,
          5.344,
          5.96,
          5.404,
          5.807,
          6.375,
          5.412,
          6.182,
          5.888,
          6.642,
          5.951,
          6.373,
          6.951,
          6.164,
          6.879,
          6.618,
          8.266,
          8.725,
          8.04,
          7.163,
          7.686,
          6.552,
          5.981,
          7.412,
          8.337,
          8.247,
          6.726,
          6.086,
          6.631,
          7.358,
          6.481,
          6.606,
          6.897,
          6.095,
          6.358,
          6.393,
          5.593,
          5.605,
          6.108,
          6.226,
          6.433,
          6.718,
          6.487,
          6.438,
          6.957,
          8.259,
          6.108,
          5.876,
          7.454,
          8.704,
          7.333,
          6.842,
          7.203,
          7.52,
          8.398,
          7.327,
          7.206,
          5.56,
          7.014,
          8.297,
          7.47,
          5.92,
          5.856,
          6.24,
          6.538,
          7.691,
          6.758,
          6.854,
          7.267,
          6.826,
          6.482,
          6.812,
          7.82,
          6.968,
          7.645,
          7.923,
          7.088,
          6.453,
          6.23,
          6.209,
          6.315,
          6.565,
          6.861,
          7.148,
          6.63,
          6.127,
          6.009,
          6.678,
          6.549,
          5.79,
          6.345,
          7.041,
          6.871,
          6.59,
          6.495,
          6.982,
          7.236,
          6.616,
          7.42,
          6.849,
          6.635,
          5.972,
          4.973,
          6.122,
          6.023,
          6.266,
          6.567,
          5.705,
          5.914,
          5.782,
          6.382,
          6.113,
          6.426,
          6.376,
          6.041,
          5.708,
          6.415,
          6.431,
          6.312,
          6.083,
          5.868,
          6.333,
          6.144,
          5.706,
          6.031,
          6.316,
          6.31,
          6.037,
          5.869,
          5.895,
          6.059,
          5.985,
          5.968,
          7.241,
          6.54,
          6.696,
          6.874,
          6.014,
          5.898,
          6.516,
          6.635,
          6.939,
          6.49,
          6.579,
          5.884,
          6.728,
          5.663,
          5.936,
          6.212,
          6.395,
          6.127,
          6.112,
          6.398,
          6.251,
          5.362,
          5.803,
          8.78,
          3.561,
          4.963,
          3.863,
          4.97,
          6.683,
          7.016,
          6.216,
          5.875,
          4.906,
          4.138,
          7.313,
          6.649,
          6.794,
          6.38,
          6.223,
          6.968,
          6.545,
          5.536,
          5.52,
          4.368,
          5.277,
          4.652,
          5,
          4.88,
          5.39,
          5.713,
          6.051,
          5.036,
          6.193,
          5.887,
          6.471,
          6.405,
          5.747,
          5.453,
          5.852,
          5.987,
          6.343,
          6.404,
          5.349,
          5.531,
          5.683,
          4.138,
          5.608,
          5.617,
          6.852,
          5.757,
          6.657,
          4.628,
          5.155,
          4.519,
          6.434,
          6.782,
          5.304,
          5.957,
          6.824,
          6.411,
          6.006,
          5.648,
          6.103,
          5.565,
          5.896,
          5.837,
          6.202,
          6.193,
          6.38,
          6.348,
          6.833,
          6.425,
          6.436,
          6.208,
          6.629,
          6.461,
          6.152,
          5.935,
          5.627,
          5.818,
          6.406,
          6.219,
          6.485,
          5.854,
          6.459,
          6.341,
          6.251,
          6.185,
          6.417,
          6.749,
          6.655,
          6.297,
          7.393,
          6.728,
          6.525,
          5.976,
          5.936,
          6.301,
          6.081,
          6.701,
          6.376,
          6.317,
          6.513,
          6.209,
          5.759,
          5.952,
          6.003,
          5.926,
          5.713,
          6.167,
          6.229,
          6.437,
          6.98,
          5.427,
          6.162,
          6.484,
          5.304,
          6.185,
          6.229,
          6.242,
          6.75,
          7.061,
          5.762,
          5.871,
          6.312,
          6.114,
          5.905,
          5.454,
          5.414,
          5.093,
          5.983,
          5.983,
          5.707,
          5.926,
          5.67,
          5.39,
          5.794,
          6.019,
          5.569,
          6.027,
          6.593,
          6.12,
          6.976,
          6.794,
          6.03
         ],
         "yaxis": "y"
        }
       ],
       "layout": {
        "coloraxis": {
         "colorbar": {
          "title": {
           "text": "outlierness"
          }
         },
         "colorscale": [
          [
           0,
           "#0d0887"
          ],
          [
           0.1111111111111111,
           "#46039f"
          ],
          [
           0.2222222222222222,
           "#7201a8"
          ],
          [
           0.3333333333333333,
           "#9c179e"
          ],
          [
           0.4444444444444444,
           "#bd3786"
          ],
          [
           0.5555555555555556,
           "#d8576b"
          ],
          [
           0.6666666666666666,
           "#ed7953"
          ],
          [
           0.7777777777777778,
           "#fb9f3a"
          ],
          [
           0.8888888888888888,
           "#fdca26"
          ],
          [
           1,
           "#f0f921"
          ]
         ]
        },
        "legend": {
         "tracegroupgap": 0
        },
        "template": {
         "data": {
          "bar": [
           {
            "error_x": {
             "color": "#2a3f5f"
            },
            "error_y": {
             "color": "#2a3f5f"
            },
            "marker": {
             "line": {
              "color": "#E5ECF6",
              "width": 0.5
             },
             "pattern": {
              "fillmode": "overlay",
              "size": 10,
              "solidity": 0.2
             }
            },
            "type": "bar"
           }
          ],
          "barpolar": [
           {
            "marker": {
             "line": {
              "color": "#E5ECF6",
              "width": 0.5
             },
             "pattern": {
              "fillmode": "overlay",
              "size": 10,
              "solidity": 0.2
             }
            },
            "type": "barpolar"
           }
          ],
          "carpet": [
           {
            "aaxis": {
             "endlinecolor": "#2a3f5f",
             "gridcolor": "white",
             "linecolor": "white",
             "minorgridcolor": "white",
             "startlinecolor": "#2a3f5f"
            },
            "baxis": {
             "endlinecolor": "#2a3f5f",
             "gridcolor": "white",
             "linecolor": "white",
             "minorgridcolor": "white",
             "startlinecolor": "#2a3f5f"
            },
            "type": "carpet"
           }
          ],
          "choropleth": [
           {
            "colorbar": {
             "outlinewidth": 0,
             "ticks": ""
            },
            "type": "choropleth"
           }
          ],
          "contour": [
           {
            "colorbar": {
             "outlinewidth": 0,
             "ticks": ""
            },
            "colorscale": [
             [
              0,
              "#0d0887"
             ],
             [
              0.1111111111111111,
              "#46039f"
             ],
             [
              0.2222222222222222,
              "#7201a8"
             ],
             [
              0.3333333333333333,
              "#9c179e"
             ],
             [
              0.4444444444444444,
              "#bd3786"
             ],
             [
              0.5555555555555556,
              "#d8576b"
             ],
             [
              0.6666666666666666,
              "#ed7953"
             ],
             [
              0.7777777777777778,
              "#fb9f3a"
             ],
             [
              0.8888888888888888,
              "#fdca26"
             ],
             [
              1,
              "#f0f921"
             ]
            ],
            "type": "contour"
           }
          ],
          "contourcarpet": [
           {
            "colorbar": {
             "outlinewidth": 0,
             "ticks": ""
            },
            "type": "contourcarpet"
           }
          ],
          "heatmap": [
           {
            "colorbar": {
             "outlinewidth": 0,
             "ticks": ""
            },
            "colorscale": [
             [
              0,
              "#0d0887"
             ],
             [
              0.1111111111111111,
              "#46039f"
             ],
             [
              0.2222222222222222,
              "#7201a8"
             ],
             [
              0.3333333333333333,
              "#9c179e"
             ],
             [
              0.4444444444444444,
              "#bd3786"
             ],
             [
              0.5555555555555556,
              "#d8576b"
             ],
             [
              0.6666666666666666,
              "#ed7953"
             ],
             [
              0.7777777777777778,
              "#fb9f3a"
             ],
             [
              0.8888888888888888,
              "#fdca26"
             ],
             [
              1,
              "#f0f921"
             ]
            ],
            "type": "heatmap"
           }
          ],
          "heatmapgl": [
           {
            "colorbar": {
             "outlinewidth": 0,
             "ticks": ""
            },
            "colorscale": [
             [
              0,
              "#0d0887"
             ],
             [
              0.1111111111111111,
              "#46039f"
             ],
             [
              0.2222222222222222,
              "#7201a8"
             ],
             [
              0.3333333333333333,
              "#9c179e"
             ],
             [
              0.4444444444444444,
              "#bd3786"
             ],
             [
              0.5555555555555556,
              "#d8576b"
             ],
             [
              0.6666666666666666,
              "#ed7953"
             ],
             [
              0.7777777777777778,
              "#fb9f3a"
             ],
             [
              0.8888888888888888,
              "#fdca26"
             ],
             [
              1,
              "#f0f921"
             ]
            ],
            "type": "heatmapgl"
           }
          ],
          "histogram": [
           {
            "marker": {
             "pattern": {
              "fillmode": "overlay",
              "size": 10,
              "solidity": 0.2
             }
            },
            "type": "histogram"
           }
          ],
          "histogram2d": [
           {
            "colorbar": {
             "outlinewidth": 0,
             "ticks": ""
            },
            "colorscale": [
             [
              0,
              "#0d0887"
             ],
             [
              0.1111111111111111,
              "#46039f"
             ],
             [
              0.2222222222222222,
              "#7201a8"
             ],
             [
              0.3333333333333333,
              "#9c179e"
             ],
             [
              0.4444444444444444,
              "#bd3786"
             ],
             [
              0.5555555555555556,
              "#d8576b"
             ],
             [
              0.6666666666666666,
              "#ed7953"
             ],
             [
              0.7777777777777778,
              "#fb9f3a"
             ],
             [
              0.8888888888888888,
              "#fdca26"
             ],
             [
              1,
              "#f0f921"
             ]
            ],
            "type": "histogram2d"
           }
          ],
          "histogram2dcontour": [
           {
            "colorbar": {
             "outlinewidth": 0,
             "ticks": ""
            },
            "colorscale": [
             [
              0,
              "#0d0887"
             ],
             [
              0.1111111111111111,
              "#46039f"
             ],
             [
              0.2222222222222222,
              "#7201a8"
             ],
             [
              0.3333333333333333,
              "#9c179e"
             ],
             [
              0.4444444444444444,
              "#bd3786"
             ],
             [
              0.5555555555555556,
              "#d8576b"
             ],
             [
              0.6666666666666666,
              "#ed7953"
             ],
             [
              0.7777777777777778,
              "#fb9f3a"
             ],
             [
              0.8888888888888888,
              "#fdca26"
             ],
             [
              1,
              "#f0f921"
             ]
            ],
            "type": "histogram2dcontour"
           }
          ],
          "mesh3d": [
           {
            "colorbar": {
             "outlinewidth": 0,
             "ticks": ""
            },
            "type": "mesh3d"
           }
          ],
          "parcoords": [
           {
            "line": {
             "colorbar": {
              "outlinewidth": 0,
              "ticks": ""
             }
            },
            "type": "parcoords"
           }
          ],
          "pie": [
           {
            "automargin": true,
            "type": "pie"
           }
          ],
          "scatter": [
           {
            "fillpattern": {
             "fillmode": "overlay",
             "size": 10,
             "solidity": 0.2
            },
            "type": "scatter"
           }
          ],
          "scatter3d": [
           {
            "line": {
             "colorbar": {
              "outlinewidth": 0,
              "ticks": ""
             }
            },
            "marker": {
             "colorbar": {
              "outlinewidth": 0,
              "ticks": ""
             }
            },
            "type": "scatter3d"
           }
          ],
          "scattercarpet": [
           {
            "marker": {
             "colorbar": {
              "outlinewidth": 0,
              "ticks": ""
             }
            },
            "type": "scattercarpet"
           }
          ],
          "scattergeo": [
           {
            "marker": {
             "colorbar": {
              "outlinewidth": 0,
              "ticks": ""
             }
            },
            "type": "scattergeo"
           }
          ],
          "scattergl": [
           {
            "marker": {
             "colorbar": {
              "outlinewidth": 0,
              "ticks": ""
             }
            },
            "type": "scattergl"
           }
          ],
          "scattermapbox": [
           {
            "marker": {
             "colorbar": {
              "outlinewidth": 0,
              "ticks": ""
             }
            },
            "type": "scattermapbox"
           }
          ],
          "scatterpolar": [
           {
            "marker": {
             "colorbar": {
              "outlinewidth": 0,
              "ticks": ""
             }
            },
            "type": "scatterpolar"
           }
          ],
          "scatterpolargl": [
           {
            "marker": {
             "colorbar": {
              "outlinewidth": 0,
              "ticks": ""
             }
            },
            "type": "scatterpolargl"
           }
          ],
          "scatterternary": [
           {
            "marker": {
             "colorbar": {
              "outlinewidth": 0,
              "ticks": ""
             }
            },
            "type": "scatterternary"
           }
          ],
          "surface": [
           {
            "colorbar": {
             "outlinewidth": 0,
             "ticks": ""
            },
            "colorscale": [
             [
              0,
              "#0d0887"
             ],
             [
              0.1111111111111111,
              "#46039f"
             ],
             [
              0.2222222222222222,
              "#7201a8"
             ],
             [
              0.3333333333333333,
              "#9c179e"
             ],
             [
              0.4444444444444444,
              "#bd3786"
             ],
             [
              0.5555555555555556,
              "#d8576b"
             ],
             [
              0.6666666666666666,
              "#ed7953"
             ],
             [
              0.7777777777777778,
              "#fb9f3a"
             ],
             [
              0.8888888888888888,
              "#fdca26"
             ],
             [
              1,
              "#f0f921"
             ]
            ],
            "type": "surface"
           }
          ],
          "table": [
           {
            "cells": {
             "fill": {
              "color": "#EBF0F8"
             },
             "line": {
              "color": "white"
             }
            },
            "header": {
             "fill": {
              "color": "#C8D4E3"
             },
             "line": {
              "color": "white"
             }
            },
            "type": "table"
           }
          ]
         },
         "layout": {
          "annotationdefaults": {
           "arrowcolor": "#2a3f5f",
           "arrowhead": 0,
           "arrowwidth": 1
          },
          "autotypenumbers": "strict",
          "coloraxis": {
           "colorbar": {
            "outlinewidth": 0,
            "ticks": ""
           }
          },
          "colorscale": {
           "diverging": [
            [
             0,
             "#8e0152"
            ],
            [
             0.1,
             "#c51b7d"
            ],
            [
             0.2,
             "#de77ae"
            ],
            [
             0.3,
             "#f1b6da"
            ],
            [
             0.4,
             "#fde0ef"
            ],
            [
             0.5,
             "#f7f7f7"
            ],
            [
             0.6,
             "#e6f5d0"
            ],
            [
             0.7,
             "#b8e186"
            ],
            [
             0.8,
             "#7fbc41"
            ],
            [
             0.9,
             "#4d9221"
            ],
            [
             1,
             "#276419"
            ]
           ],
           "sequential": [
            [
             0,
             "#0d0887"
            ],
            [
             0.1111111111111111,
             "#46039f"
            ],
            [
             0.2222222222222222,
             "#7201a8"
            ],
            [
             0.3333333333333333,
             "#9c179e"
            ],
            [
             0.4444444444444444,
             "#bd3786"
            ],
            [
             0.5555555555555556,
             "#d8576b"
            ],
            [
             0.6666666666666666,
             "#ed7953"
            ],
            [
             0.7777777777777778,
             "#fb9f3a"
            ],
            [
             0.8888888888888888,
             "#fdca26"
            ],
            [
             1,
             "#f0f921"
            ]
           ],
           "sequentialminus": [
            [
             0,
             "#0d0887"
            ],
            [
             0.1111111111111111,
             "#46039f"
            ],
            [
             0.2222222222222222,
             "#7201a8"
            ],
            [
             0.3333333333333333,
             "#9c179e"
            ],
            [
             0.4444444444444444,
             "#bd3786"
            ],
            [
             0.5555555555555556,
             "#d8576b"
            ],
            [
             0.6666666666666666,
             "#ed7953"
            ],
            [
             0.7777777777777778,
             "#fb9f3a"
            ],
            [
             0.8888888888888888,
             "#fdca26"
            ],
            [
             1,
             "#f0f921"
            ]
           ]
          },
          "colorway": [
           "#636efa",
           "#EF553B",
           "#00cc96",
           "#ab63fa",
           "#FFA15A",
           "#19d3f3",
           "#FF6692",
           "#B6E880",
           "#FF97FF",
           "#FECB52"
          ],
          "font": {
           "color": "#2a3f5f"
          },
          "geo": {
           "bgcolor": "white",
           "lakecolor": "white",
           "landcolor": "#E5ECF6",
           "showlakes": true,
           "showland": true,
           "subunitcolor": "white"
          },
          "hoverlabel": {
           "align": "left"
          },
          "hovermode": "closest",
          "mapbox": {
           "style": "light"
          },
          "paper_bgcolor": "white",
          "plot_bgcolor": "#E5ECF6",
          "polar": {
           "angularaxis": {
            "gridcolor": "white",
            "linecolor": "white",
            "ticks": ""
           },
           "bgcolor": "#E5ECF6",
           "radialaxis": {
            "gridcolor": "white",
            "linecolor": "white",
            "ticks": ""
           }
          },
          "scene": {
           "xaxis": {
            "backgroundcolor": "#E5ECF6",
            "gridcolor": "white",
            "gridwidth": 2,
            "linecolor": "white",
            "showbackground": true,
            "ticks": "",
            "zerolinecolor": "white"
           },
           "yaxis": {
            "backgroundcolor": "#E5ECF6",
            "gridcolor": "white",
            "gridwidth": 2,
            "linecolor": "white",
            "showbackground": true,
            "ticks": "",
            "zerolinecolor": "white"
           },
           "zaxis": {
            "backgroundcolor": "#E5ECF6",
            "gridcolor": "white",
            "gridwidth": 2,
            "linecolor": "white",
            "showbackground": true,
            "ticks": "",
            "zerolinecolor": "white"
           }
          },
          "shapedefaults": {
           "line": {
            "color": "#2a3f5f"
           }
          },
          "ternary": {
           "aaxis": {
            "gridcolor": "white",
            "linecolor": "white",
            "ticks": ""
           },
           "baxis": {
            "gridcolor": "white",
            "linecolor": "white",
            "ticks": ""
           },
           "bgcolor": "#E5ECF6",
           "caxis": {
            "gridcolor": "white",
            "linecolor": "white",
            "ticks": ""
           }
          },
          "title": {
           "x": 0.05
          },
          "xaxis": {
           "automargin": true,
           "gridcolor": "white",
           "linecolor": "white",
           "ticks": "",
           "title": {
            "standoff": 15
           },
           "zerolinecolor": "white",
           "zerolinewidth": 2
          },
          "yaxis": {
           "automargin": true,
           "gridcolor": "white",
           "linecolor": "white",
           "ticks": "",
           "title": {
            "standoff": 15
           },
           "zerolinecolor": "white",
           "zerolinewidth": 2
          }
         }
        },
        "title": {
         "text": "Outlier Detection using the bidimensional data"
        },
        "xaxis": {
         "anchor": "y",
         "domain": [
          0,
          1
         ],
         "title": {
          "text": "Distancias a cinco centros de empleo"
         }
        },
        "yaxis": {
         "anchor": "x",
         "domain": [
          0,
          1
         ],
         "title": {
          "text": "Habitaciones por vivienda"
         }
        }
       }
      }
     },
     "metadata": {},
     "output_type": "display_data"
    }
   ],
   "source": [
    "np.random.seed(42)\n",
    "clf = LocalOutlierFactor(n_neighbors=5)\n",
    "df_red = df[[\"dis\",\"rm\"]]\n",
    "\n",
    "#Estandarizo los datos\n",
    "scaler = StandardScaler()\n",
    "df_red_scaled = scaler.fit_transform(df_red)\n",
    "clf.fit_predict(df_red_scaled) \n",
    "outlierness = clf.negative_outlier_factor_\n",
    "df_red[\"outlierness\"] = abs(outlierness)\n",
    "\n",
    "fig = px.scatter(df_red, x=\"dis\", y=\"rm\", title=\"Gráfico de Dispersión\", color=\"outlierness\")\n",
    "fig.update_layout(\n",
    "    title=\"Outlier Detection using the bidimensional data\",\n",
    "    xaxis_title=\"Distancias a cinco centros de empleo\",\n",
    "    yaxis_title=\"Habitaciones por vivienda\"\n",
    ")\n",
    "fig.show()"
   ]
  },
  {
   "cell_type": "markdown",
   "metadata": {},
   "source": [
    "Como se muestra en el gráfico de arriba, el algoritmo de 'Local outlier factor' asigna un valor de outlierness a cada punto de la muestra. Esta asignación se da en función de la distancia euclidea entre los k puntos mas proximos, siendo finalmente el outlierness un valor proporcional a la densidad de la esfera que cubre los k vecinos más proximo de cada instancia. \n",
    "\n",
    "En este caso, hemos tomado k=5, obteniendo unos valores de outlierness que parecen razonables. Los puntos más oscuros son los que menos puntuacion de outlierness tienen, mientras que los más claros son los que más se acercan a ser identificados como outliers."
   ]
  },
  {
   "cell_type": "code",
   "execution_count": 5,
   "metadata": {},
   "outputs": [
    {
     "data": {
      "image/png": "[encoded data removed]",
      "text/plain": [
       "<Figure size 640x480 with 1 Axes>"
      ]
     },
     "metadata": {},
     "output_type": "display_data"
    }
   ],
   "source": [
    "sns.kdeplot(df_red[\"outlierness\"], color=\"blue\", fill=False)\n",
    "\n",
    "plt.title(\"Outlierness distribution for multidimensional data\")\n",
    "plt.xlabel(\"outlierness\")\n",
    "plt.ylabel(\"Density\")\n",
    "plt.grid()\n",
    "plt.show()"
   ]
  },
  {
   "cell_type": "markdown",
   "metadata": {},
   "source": [
    "Considerando los resultados anteriores, podriamos considerar 1.5 como el valor que delimita la designacion de una instancia como outlier o no. En ese caso, los puntos outliers serian los siguientes:"
   ]
  },
  {
   "cell_type": "code",
   "execution_count": 6,
   "metadata": {},
   "outputs": [
    {
     "name": "stderr",
     "output_type": "stream",
     "text": [
      "C:\\Users\\irait\\AppData\\Local\\Temp\\ipykernel_30884\\2714677011.py:1: SettingWithCopyWarning:\n",
      "\n",
      "\n",
      "A value is trying to be set on a copy of a slice from a DataFrame.\n",
      "Try using .loc[row_indexer,col_indexer] = value instead\n",
      "\n",
      "See the caveats in the documentation: https://pandas.pydata.org/pandas-docs/stable/user_guide/indexing.html#returning-a-view-versus-a-copy\n",
      "\n"
     ]
    },
    {
     "data": {
      "application/vnd.plotly.v1+json": {
       "config": {
        "plotlyServerURL": "https://plot.ly"
       },
       "data": [
        {
         "hovertemplate": "outlier=False<br>dis=%{x}<br>rm=%{y}<extra></extra>",
         "legendgroup": "False",
         "marker": {
          "color": "#636efa",
          "symbol": "circle"
         },
         "mode": "markers",
         "name": "False",
         "orientation": "v",
         "showlegend": true,
         "type": "scatter",
         "x": [
          4.09,
          4.9671,
          4.9671,
          6.0622,
          6.0622,
          6.0622,
          5.5605,
          5.9505,
          6.0821,
          6.5921,
          6.3467,
          6.2267,
          5.4509,
          4.7075,
          4.4619,
          4.4986,
          4.4986,
          4.2579,
          3.7965,
          3.7965,
          3.7979,
          4.0123,
          3.9769,
          4.0952,
          4.3996,
          4.682,
          4.4534,
          4.4547,
          4.239,
          4.233,
          4.175,
          3.99,
          3.7872,
          3.7598,
          3.3603,
          3.3779,
          3.9342,
          3.8473,
          5.4011,
          5.4011,
          5.7209,
          5.7209,
          5.7209,
          5.7209,
          5.1004,
          5.1004,
          5.6894,
          6.0877,
          6.8147,
          6.8147,
          6.8147,
          6.8147,
          8.6966,
          9.1876,
          8.3248,
          7.8148,
          6.932,
          7.2254,
          6.8185,
          7.2255,
          7.9809,
          9.2229,
          6.6115,
          6.6115,
          6.498,
          6.498,
          6.498,
          5.2873,
          5.2873,
          5.2873,
          5.2873,
          4.2515,
          4.5026,
          4.0522,
          4.0905,
          5.0141,
          4.5026,
          5.4007,
          5.4007,
          5.4007,
          5.4007,
          4.7794,
          4.4377,
          4.4272,
          3.7476,
          3.4217,
          3.4145,
          3.0923,
          3.0921,
          3.6659,
          3.6659,
          3.615,
          3.4952,
          3.4952,
          3.4952,
          3.4952,
          3.4952,
          2.7778,
          2.8561,
          2.7147,
          2.7147,
          2.421,
          2.1069,
          2.211,
          2.1224,
          2.4329,
          2.5451,
          2.7778,
          2.6775,
          2.3534,
          2.548,
          2.2565,
          2.4631,
          2.7301,
          2.7474,
          2.4775,
          2.7592,
          2.2577,
          2.1974,
          2.0869,
          1.9444,
          2.0063,
          1.9929,
          1.7572,
          1.7883,
          1.8125,
          1.9799,
          2.1185,
          2.271,
          2.3274,
          2.4699,
          2.1107,
          1.9669,
          1.8498,
          1.6686,
          1.6687,
          1.6119,
          1.4394,
          1.3216,
          1.4118,
          1.3459,
          1.4191,
          1.5166,
          1.4608,
          1.5296,
          1.5257,
          1.618,
          1.5916,
          1.6102,
          1.6232,
          1.7494,
          1.7455,
          1.7364,
          1.8773,
          1.7573,
          1.7659,
          1.7984,
          1.9709,
          2.0407,
          2.162,
          2.422,
          2.2834,
          2.0459,
          2.4259,
          2.1,
          2.2625,
          2.4259,
          2.3887,
          2.5961,
          2.6463,
          3.1323,
          3.5549,
          3.3175,
          2.9153,
          2.829,
          2.741,
          2.5979,
          2.7006,
          2.847,
          2.9879,
          3.2797,
          3.1992,
          3.7886,
          4.5667,
          4.5667,
          6.4798,
          6.4798,
          6.4798,
          6.2196,
          6.2196,
          5.6484,
          7.309,
          7.309,
          7.309,
          7.6534,
          7.6534,
          6.27,
          6.27,
          5.118,
          5.118,
          3.9454,
          4.3549,
          4.3549,
          4.2392,
          3.875,
          3.8771,
          3.665,
          3.6526,
          3.9454,
          3.5875,
          3.9454,
          3.1121,
          3.4211,
          2.8893,
          3.3633,
          2.8617,
          3.048,
          3.2721,
          3.2721,
          2.8944,
          2.8944,
          3.2157,
          3.2157,
          3.3751,
          3.3751,
          3.6715,
          3.6715,
          3.8384,
          3.6519,
          3.6519,
          3.6519,
          4.148,
          4.148,
          6.1899,
          6.1899,
          6.3361,
          6.3361,
          7.0355,
          7.0355,
          7.9549,
          7.9549,
          8.0555,
          8.0555,
          7.8265,
          7.8265,
          7.3967,
          7.3967,
          8.9067,
          9.2203,
          9.2203,
          6.3361,
          1.801,
          1.8946,
          2.0107,
          2.1121,
          2.1398,
          2.2885,
          2.0788,
          1.9301,
          1.9865,
          2.1329,
          2.4216,
          2.872,
          3.9175,
          4.429,
          4.429,
          3.9175,
          4.3665,
          4.0776,
          4.2673,
          4.7872,
          4.8628,
          4.1403,
          4.1007,
          4.6947,
          5.2447,
          5.2119,
          5.885,
          7.3073,
          7.3073,
          9.0892,
          7.3172,
          7.3172,
          7.3172,
          5.1167,
          5.1167,
          5.1167,
          5.5027,
          5.5027,
          5.9604,
          5.9604,
          6.32,
          7.8278,
          7.8278,
          7.8278,
          5.4917,
          5.4917,
          5.4917,
          4.022,
          3.37,
          3.0992,
          3.1827,
          3.3175,
          3.1025,
          2.6403,
          2.834,
          3.2628,
          3.6023,
          3.945,
          3.9986,
          4.0317,
          3.5325,
          4.0019,
          4.5404,
          4.5404,
          4.7211,
          4.7211,
          4.7211,
          5.4159,
          5.4159,
          5.4159,
          5.2146,
          5.2146,
          5.8736,
          6.6407,
          6.6407,
          6.4584,
          6.4584,
          5.9853,
          5.2311,
          5.615,
          4.8122,
          4.8122,
          4.8122,
          7.0379,
          6.2669,
          5.7321,
          6.4654,
          8.0136,
          8.0136,
          8.5353,
          8.344,
          8.7921,
          8.7921,
          10.7103,
          10.5857,
          10.5857,
          2.1222,
          2.5052,
          2.7227,
          2.5091,
          2.5182,
          2.2955,
          2.1036,
          1.9047,
          1.9047,
          1.7523,
          1.5106,
          1.3325,
          1.3567,
          1.2024,
          1.1742,
          1.137,
          1.3163,
          1.3449,
          1.358,
          1.4165,
          1.5804,
          1.5331,
          1.4395,
          1.4261,
          1.5184,
          1.5895,
          1.7281,
          1.9265,
          2.1678,
          1.77,
          1.7912,
          1.7821,
          1.7257,
          1.6768,
          1.6334,
          1.4896,
          1.5004,
          1.5888,
          1.639,
          1.7028,
          1.6074,
          1.4254,
          1.1781,
          1.2852,
          1.4547,
          1.4655,
          1.413,
          1.5275,
          1.5894,
          1.8347,
          1.8195,
          1.6475,
          1.8026,
          1.794,
          1.8589,
          1.8746,
          1.9512,
          2.0218,
          2.0635,
          1.9096,
          1.9976,
          1.8629,
          1.9356,
          1.9682,
          2.0527,
          2.0882,
          2.2004,
          2.3158,
          2.2222,
          2.1247,
          2.0026,
          1.9142,
          1.8206,
          1.8172,
          1.8662,
          2.0651,
          2.0048,
          1.9784,
          1.8956,
          1.9879,
          2.072,
          2.198,
          2.2616,
          2.185,
          2.3236,
          2.3552,
          2.3682,
          2.4527,
          2.4961,
          2.4358,
          2.5806,
          2.7792,
          2.7831,
          2.7175,
          2.5975,
          2.5671,
          2.7344,
          2.8016,
          2.9634,
          3.0665,
          2.8715,
          2.5403,
          2.9084,
          2.8237,
          3.0334,
          3.0993,
          2.8965,
          2.5329,
          2.4298,
          2.206,
          2.3053,
          2.1007,
          2.1705,
          1.9512,
          3.4242,
          3.3317,
          3.4106,
          4.0983,
          3.724,
          3.9917,
          3.5459,
          3.1523,
          1.8209,
          1.7554,
          1.8226,
          1.8681,
          2.1099,
          2.3817,
          2.7986,
          2.7986,
          2.8927,
          2.4091,
          2.3999,
          2.4982,
          2.4786,
          2.2875,
          2.1675,
          2.3889,
          2.505
         ],
         "xaxis": "x",
         "y": [
          6.575,
          6.421,
          7.185,
          6.998,
          7.147,
          6.43,
          6.012,
          6.172,
          5.631,
          6.004,
          6.377,
          6.009,
          5.889,
          5.949,
          6.096,
          5.834,
          5.935,
          5.99,
          5.456,
          5.727,
          5.57,
          5.965,
          6.142,
          5.813,
          5.924,
          5.813,
          6.047,
          6.495,
          6.674,
          5.713,
          6.072,
          5.95,
          5.701,
          6.096,
          5.933,
          5.841,
          5.85,
          5.966,
          6.595,
          7.024,
          6.77,
          6.169,
          6.211,
          6.069,
          5.682,
          5.786,
          6.03,
          5.602,
          5.963,
          6.115,
          6.511,
          5.998,
          7.249,
          6.383,
          6.816,
          6.145,
          5.927,
          5.741,
          5.966,
          6.456,
          6.762,
          7.104,
          6.29,
          5.787,
          5.878,
          5.594,
          5.885,
          6.417,
          5.961,
          6.065,
          6.245,
          6.273,
          6.286,
          6.279,
          6.14,
          6.232,
          5.874,
          6.727,
          6.619,
          6.302,
          6.167,
          6.389,
          6.63,
          6.015,
          6.121,
          7.007,
          7.079,
          6.417,
          6.405,
          6.442,
          6.211,
          6.249,
          6.625,
          6.163,
          8.069,
          7.82,
          7.416,
          6.727,
          6.781,
          6.405,
          6.137,
          6.167,
          5.851,
          5.836,
          6.127,
          6.474,
          6.229,
          6.195,
          6.715,
          5.913,
          6.092,
          6.254,
          5.928,
          6.176,
          6.021,
          5.872,
          5.731,
          5.87,
          6.004,
          5.961,
          5.856,
          5.879,
          5.986,
          5.613,
          5.693,
          6.431,
          5.637,
          6.458,
          6.326,
          6.372,
          5.822,
          6.335,
          5.942,
          6.454,
          5.857,
          6.151,
          6.174,
          5.019,
          5.403,
          5.468,
          4.903,
          6.13,
          5.628,
          4.926,
          5.186,
          5.597,
          6.122,
          5.404,
          5.012,
          5.709,
          6.129,
          6.152,
          5.272,
          6.943,
          6.066,
          6.51,
          6.25,
          7.489,
          7.802,
          8.375,
          5.854,
          6.101,
          7.929,
          5.877,
          6.319,
          6.402,
          5.875,
          5.88,
          5.572,
          6.416,
          6.546,
          6.02,
          6.315,
          6.86,
          6.98,
          7.765,
          6.144,
          7.155,
          6.563,
          5.604,
          6.153,
          7.831,
          6.782,
          6.556,
          7.185,
          6.951,
          6.739,
          7.178,
          6.8,
          6.604,
          7.875,
          7.287,
          7.107,
          7.274,
          6.975,
          7.135,
          6.162,
          7.61,
          7.853,
          8.034,
          5.891,
          6.326,
          5.783,
          6.064,
          5.344,
          5.96,
          5.404,
          5.807,
          6.375,
          5.412,
          6.182,
          5.888,
          6.642,
          5.951,
          6.373,
          6.951,
          6.164,
          6.879,
          6.618,
          8.266,
          8.725,
          8.04,
          7.163,
          7.686,
          6.552,
          5.981,
          7.412,
          8.337,
          8.247,
          6.726,
          6.086,
          6.631,
          7.358,
          6.481,
          6.606,
          6.897,
          6.095,
          6.358,
          6.393,
          5.593,
          5.605,
          6.108,
          6.226,
          6.433,
          6.718,
          6.487,
          6.438,
          6.957,
          6.108,
          5.876,
          7.454,
          8.704,
          7.333,
          6.842,
          7.203,
          7.52,
          8.398,
          7.327,
          7.206,
          5.56,
          7.014,
          8.297,
          7.47,
          5.92,
          5.856,
          6.24,
          6.538,
          7.691,
          6.758,
          6.854,
          7.267,
          6.826,
          6.482,
          6.812,
          7.82,
          6.968,
          7.645,
          7.923,
          7.088,
          6.453,
          6.23,
          6.209,
          6.315,
          6.565,
          6.861,
          7.148,
          6.63,
          6.127,
          6.009,
          6.678,
          6.549,
          5.79,
          6.345,
          7.041,
          6.871,
          6.59,
          6.495,
          6.982,
          7.236,
          6.616,
          7.42,
          6.849,
          6.635,
          5.972,
          6.122,
          6.023,
          6.266,
          6.567,
          5.705,
          5.914,
          5.782,
          6.382,
          6.113,
          6.426,
          6.376,
          6.041,
          5.708,
          6.415,
          6.431,
          6.312,
          6.083,
          5.868,
          6.333,
          6.144,
          5.706,
          6.031,
          6.316,
          6.31,
          6.037,
          5.869,
          5.895,
          6.059,
          5.985,
          5.968,
          7.241,
          6.54,
          6.696,
          6.874,
          6.014,
          5.898,
          6.516,
          6.635,
          6.939,
          6.49,
          5.884,
          5.663,
          5.936,
          6.212,
          6.395,
          6.127,
          6.112,
          6.398,
          6.251,
          5.362,
          5.803,
          8.78,
          4.963,
          3.863,
          4.97,
          6.683,
          7.016,
          4.906,
          4.138,
          7.313,
          6.649,
          6.794,
          6.968,
          5.536,
          5.52,
          4.368,
          5.277,
          5,
          4.88,
          5.39,
          5.713,
          6.051,
          5.036,
          6.193,
          5.887,
          6.471,
          6.405,
          5.747,
          5.453,
          5.852,
          5.987,
          6.404,
          5.349,
          5.531,
          5.683,
          4.138,
          5.608,
          5.617,
          6.852,
          5.757,
          6.657,
          5.155,
          6.434,
          6.782,
          5.304,
          5.957,
          6.824,
          6.411,
          6.006,
          5.648,
          6.103,
          5.565,
          5.896,
          5.837,
          6.202,
          6.193,
          6.38,
          6.348,
          6.833,
          6.425,
          6.436,
          6.208,
          6.629,
          6.461,
          6.152,
          5.935,
          5.627,
          5.818,
          6.406,
          6.219,
          6.485,
          5.854,
          6.459,
          6.341,
          6.251,
          6.185,
          6.417,
          6.749,
          6.655,
          6.297,
          7.393,
          6.728,
          6.525,
          5.976,
          5.936,
          6.301,
          6.081,
          6.701,
          6.376,
          6.317,
          6.513,
          6.209,
          5.759,
          5.952,
          6.003,
          5.926,
          5.713,
          6.167,
          6.229,
          6.437,
          6.98,
          5.427,
          6.162,
          6.484,
          5.304,
          6.185,
          6.229,
          6.242,
          6.75,
          7.061,
          5.762,
          5.871,
          6.312,
          6.114,
          5.905,
          5.454,
          5.414,
          5.093,
          5.983,
          5.983,
          5.926,
          5.67,
          5.39,
          5.794,
          6.019,
          5.569,
          6.027,
          6.593,
          6.12,
          6.976,
          6.794,
          6.03
         ],
         "yaxis": "y"
        },
        {
         "hovertemplate": "outlier=True<br>dis=%{x}<br>rm=%{y}<extra></extra>",
         "legendgroup": "True",
         "marker": {
          "color": "#EF553B",
          "symbol": "circle"
         },
         "mode": "markers",
         "name": "True",
         "orientation": "v",
         "showlegend": true,
         "type": "scatter",
         "x": [
          4.4546,
          5.87,
          7.3197,
          2.346,
          2.7019,
          8.9067,
          2.5194,
          10.7103,
          12.1265,
          1.6132,
          1.1691,
          1.1296,
          1.3861,
          1.3861,
          1.5192,
          1.4672,
          1.5741,
          1.5539,
          1.6582,
          2.3817
         ],
         "xaxis": "x",
         "y": [
          5.599,
          5.399,
          5.888,
          5.757,
          5.859,
          8.259,
          4.973,
          6.579,
          6.728,
          3.561,
          6.216,
          5.875,
          6.38,
          6.223,
          6.545,
          4.652,
          6.343,
          4.628,
          4.519,
          5.707
         ],
         "yaxis": "y"
        }
       ],
       "layout": {
        "legend": {
         "title": {
          "text": "outlier"
         },
         "tracegroupgap": 0
        },
        "template": {
         "data": {
          "bar": [
           {
            "error_x": {
             "color": "#2a3f5f"
            },
            "error_y": {
             "color": "#2a3f5f"
            },
            "marker": {
             "line": {
              "color": "#E5ECF6",
              "width": 0.5
             },
             "pattern": {
              "fillmode": "overlay",
              "size": 10,
              "solidity": 0.2
             }
            },
            "type": "bar"
           }
          ],
          "barpolar": [
           {
            "marker": {
             "line": {
              "color": "#E5ECF6",
              "width": 0.5
             },
             "pattern": {
              "fillmode": "overlay",
              "size": 10,
              "solidity": 0.2
             }
            },
            "type": "barpolar"
           }
          ],
          "carpet": [
           {
            "aaxis": {
             "endlinecolor": "#2a3f5f",
             "gridcolor": "white",
             "linecolor": "white",
             "minorgridcolor": "white",
             "startlinecolor": "#2a3f5f"
            },
            "baxis": {
             "endlinecolor": "#2a3f5f",
             "gridcolor": "white",
             "linecolor": "white",
             "minorgridcolor": "white",
             "startlinecolor": "#2a3f5f"
            },
            "type": "carpet"
           }
          ],
          "choropleth": [
           {
            "colorbar": {
             "outlinewidth": 0,
             "ticks": ""
            },
            "type": "choropleth"
           }
          ],
          "contour": [
           {
            "colorbar": {
             "outlinewidth": 0,
             "ticks": ""
            },
            "colorscale": [
             [
              0,
              "#0d0887"
             ],
             [
              0.1111111111111111,
              "#46039f"
             ],
             [
              0.2222222222222222,
              "#7201a8"
             ],
             [
              0.3333333333333333,
              "#9c179e"
             ],
             [
              0.4444444444444444,
              "#bd3786"
             ],
             [
              0.5555555555555556,
              "#d8576b"
             ],
             [
              0.6666666666666666,
              "#ed7953"
             ],
             [
              0.7777777777777778,
              "#fb9f3a"
             ],
             [
              0.8888888888888888,
              "#fdca26"
             ],
             [
              1,
              "#f0f921"
             ]
            ],
            "type": "contour"
           }
          ],
          "contourcarpet": [
           {
            "colorbar": {
             "outlinewidth": 0,
             "ticks": ""
            },
            "type": "contourcarpet"
           }
          ],
          "heatmap": [
           {
            "colorbar": {
             "outlinewidth": 0,
             "ticks": ""
            },
            "colorscale": [
             [
              0,
              "#0d0887"
             ],
             [
              0.1111111111111111,
              "#46039f"
             ],
             [
              0.2222222222222222,
              "#7201a8"
             ],
             [
              0.3333333333333333,
              "#9c179e"
             ],
             [
              0.4444444444444444,
              "#bd3786"
             ],
             [
              0.5555555555555556,
              "#d8576b"
             ],
             [
              0.6666666666666666,
              "#ed7953"
             ],
             [
              0.7777777777777778,
              "#fb9f3a"
             ],
             [
              0.8888888888888888,
              "#fdca26"
             ],
             [
              1,
              "#f0f921"
             ]
            ],
            "type": "heatmap"
           }
          ],
          "heatmapgl": [
           {
            "colorbar": {
             "outlinewidth": 0,
             "ticks": ""
            },
            "colorscale": [
             [
              0,
              "#0d0887"
             ],
             [
              0.1111111111111111,
              "#46039f"
             ],
             [
              0.2222222222222222,
              "#7201a8"
             ],
             [
              0.3333333333333333,
              "#9c179e"
             ],
             [
              0.4444444444444444,
              "#bd3786"
             ],
             [
              0.5555555555555556,
              "#d8576b"
             ],
             [
              0.6666666666666666,
              "#ed7953"
             ],
             [
              0.7777777777777778,
              "#fb9f3a"
             ],
             [
              0.8888888888888888,
              "#fdca26"
             ],
             [
              1,
              "#f0f921"
             ]
            ],
            "type": "heatmapgl"
           }
          ],
          "histogram": [
           {
            "marker": {
             "pattern": {
              "fillmode": "overlay",
              "size": 10,
              "solidity": 0.2
             }
            },
            "type": "histogram"
           }
          ],
          "histogram2d": [
           {
            "colorbar": {
             "outlinewidth": 0,
             "ticks": ""
            },
            "colorscale": [
             [
              0,
              "#0d0887"
             ],
             [
              0.1111111111111111,
              "#46039f"
             ],
             [
              0.2222222222222222,
              "#7201a8"
             ],
             [
              0.3333333333333333,
              "#9c179e"
             ],
             [
              0.4444444444444444,
              "#bd3786"
             ],
             [
              0.5555555555555556,
              "#d8576b"
             ],
             [
              0.6666666666666666,
              "#ed7953"
             ],
             [
              0.7777777777777778,
              "#fb9f3a"
             ],
             [
              0.8888888888888888,
              "#fdca26"
             ],
             [
              1,
              "#f0f921"
             ]
            ],
            "type": "histogram2d"
           }
          ],
          "histogram2dcontour": [
           {
            "colorbar": {
             "outlinewidth": 0,
             "ticks": ""
            },
            "colorscale": [
             [
              0,
              "#0d0887"
             ],
             [
              0.1111111111111111,
              "#46039f"
             ],
             [
              0.2222222222222222,
              "#7201a8"
             ],
             [
              0.3333333333333333,
              "#9c179e"
             ],
             [
              0.4444444444444444,
              "#bd3786"
             ],
             [
              0.5555555555555556,
              "#d8576b"
             ],
             [
              0.6666666666666666,
              "#ed7953"
             ],
             [
              0.7777777777777778,
              "#fb9f3a"
             ],
             [
              0.8888888888888888,
              "#fdca26"
             ],
             [
              1,
              "#f0f921"
             ]
            ],
            "type": "histogram2dcontour"
           }
          ],
          "mesh3d": [
           {
            "colorbar": {
             "outlinewidth": 0,
             "ticks": ""
            },
            "type": "mesh3d"
           }
          ],
          "parcoords": [
           {
            "line": {
             "colorbar": {
              "outlinewidth": 0,
              "ticks": ""
             }
            },
            "type": "parcoords"
           }
          ],
          "pie": [
           {
            "automargin": true,
            "type": "pie"
           }
          ],
          "scatter": [
           {
            "fillpattern": {
             "fillmode": "overlay",
             "size": 10,
             "solidity": 0.2
            },
            "type": "scatter"
           }
          ],
          "scatter3d": [
           {
            "line": {
             "colorbar": {
              "outlinewidth": 0,
              "ticks": ""
             }
            },
            "marker": {
             "colorbar": {
              "outlinewidth": 0,
              "ticks": ""
             }
            },
            "type": "scatter3d"
           }
          ],
          "scattercarpet": [
           {
            "marker": {
             "colorbar": {
              "outlinewidth": 0,
              "ticks": ""
             }
            },
            "type": "scattercarpet"
           }
          ],
          "scattergeo": [
           {
            "marker": {
             "colorbar": {
              "outlinewidth": 0,
              "ticks": ""
             }
            },
            "type": "scattergeo"
           }
          ],
          "scattergl": [
           {
            "marker": {
             "colorbar": {
              "outlinewidth": 0,
              "ticks": ""
             }
            },
            "type": "scattergl"
           }
          ],
          "scattermapbox": [
           {
            "marker": {
             "colorbar": {
              "outlinewidth": 0,
              "ticks": ""
             }
            },
            "type": "scattermapbox"
           }
          ],
          "scatterpolar": [
           {
            "marker": {
             "colorbar": {
              "outlinewidth": 0,
              "ticks": ""
             }
            },
            "type": "scatterpolar"
           }
          ],
          "scatterpolargl": [
           {
            "marker": {
             "colorbar": {
              "outlinewidth": 0,
              "ticks": ""
             }
            },
            "type": "scatterpolargl"
           }
          ],
          "scatterternary": [
           {
            "marker": {
             "colorbar": {
              "outlinewidth": 0,
              "ticks": ""
             }
            },
            "type": "scatterternary"
           }
          ],
          "surface": [
           {
            "colorbar": {
             "outlinewidth": 0,
             "ticks": ""
            },
            "colorscale": [
             [
              0,
              "#0d0887"
             ],
             [
              0.1111111111111111,
              "#46039f"
             ],
             [
              0.2222222222222222,
              "#7201a8"
             ],
             [
              0.3333333333333333,
              "#9c179e"
             ],
             [
              0.4444444444444444,
              "#bd3786"
             ],
             [
              0.5555555555555556,
              "#d8576b"
             ],
             [
              0.6666666666666666,
              "#ed7953"
             ],
             [
              0.7777777777777778,
              "#fb9f3a"
             ],
             [
              0.8888888888888888,
              "#fdca26"
             ],
             [
              1,
              "#f0f921"
             ]
            ],
            "type": "surface"
           }
          ],
          "table": [
           {
            "cells": {
             "fill": {
              "color": "#EBF0F8"
             },
             "line": {
              "color": "white"
             }
            },
            "header": {
             "fill": {
              "color": "#C8D4E3"
             },
             "line": {
              "color": "white"
             }
            },
            "type": "table"
           }
          ]
         },
         "layout": {
          "annotationdefaults": {
           "arrowcolor": "#2a3f5f",
           "arrowhead": 0,
           "arrowwidth": 1
          },
          "autotypenumbers": "strict",
          "coloraxis": {
           "colorbar": {
            "outlinewidth": 0,
            "ticks": ""
           }
          },
          "colorscale": {
           "diverging": [
            [
             0,
             "#8e0152"
            ],
            [
             0.1,
             "#c51b7d"
            ],
            [
             0.2,
             "#de77ae"
            ],
            [
             0.3,
             "#f1b6da"
            ],
            [
             0.4,
             "#fde0ef"
            ],
            [
             0.5,
             "#f7f7f7"
            ],
            [
             0.6,
             "#e6f5d0"
            ],
            [
             0.7,
             "#b8e186"
            ],
            [
             0.8,
             "#7fbc41"
            ],
            [
             0.9,
             "#4d9221"
            ],
            [
             1,
             "#276419"
            ]
           ],
           "sequential": [
            [
             0,
             "#0d0887"
            ],
            [
             0.1111111111111111,
             "#46039f"
            ],
            [
             0.2222222222222222,
             "#7201a8"
            ],
            [
             0.3333333333333333,
             "#9c179e"
            ],
            [
             0.4444444444444444,
             "#bd3786"
            ],
            [
             0.5555555555555556,
             "#d8576b"
            ],
            [
             0.6666666666666666,
             "#ed7953"
            ],
            [
             0.7777777777777778,
             "#fb9f3a"
            ],
            [
             0.8888888888888888,
             "#fdca26"
            ],
            [
             1,
             "#f0f921"
            ]
           ],
           "sequentialminus": [
            [
             0,
             "#0d0887"
            ],
            [
             0.1111111111111111,
             "#46039f"
            ],
            [
             0.2222222222222222,
             "#7201a8"
            ],
            [
             0.3333333333333333,
             "#9c179e"
            ],
            [
             0.4444444444444444,
             "#bd3786"
            ],
            [
             0.5555555555555556,
             "#d8576b"
            ],
            [
             0.6666666666666666,
             "#ed7953"
            ],
            [
             0.7777777777777778,
             "#fb9f3a"
            ],
            [
             0.8888888888888888,
             "#fdca26"
            ],
            [
             1,
             "#f0f921"
            ]
           ]
          },
          "colorway": [
           "#636efa",
           "#EF553B",
           "#00cc96",
           "#ab63fa",
           "#FFA15A",
           "#19d3f3",
           "#FF6692",
           "#B6E880",
           "#FF97FF",
           "#FECB52"
          ],
          "font": {
           "color": "#2a3f5f"
          },
          "geo": {
           "bgcolor": "white",
           "lakecolor": "white",
           "landcolor": "#E5ECF6",
           "showlakes": true,
           "showland": true,
           "subunitcolor": "white"
          },
          "hoverlabel": {
           "align": "left"
          },
          "hovermode": "closest",
          "mapbox": {
           "style": "light"
          },
          "paper_bgcolor": "white",
          "plot_bgcolor": "#E5ECF6",
          "polar": {
           "angularaxis": {
            "gridcolor": "white",
            "linecolor": "white",
            "ticks": ""
           },
           "bgcolor": "#E5ECF6",
           "radialaxis": {
            "gridcolor": "white",
            "linecolor": "white",
            "ticks": ""
           }
          },
          "scene": {
           "xaxis": {
            "backgroundcolor": "#E5ECF6",
            "gridcolor": "white",
            "gridwidth": 2,
            "linecolor": "white",
            "showbackground": true,
            "ticks": "",
            "zerolinecolor": "white"
           },
           "yaxis": {
            "backgroundcolor": "#E5ECF6",
            "gridcolor": "white",
            "gridwidth": 2,
            "linecolor": "white",
            "showbackground": true,
            "ticks": "",
            "zerolinecolor": "white"
           },
           "zaxis": {
            "backgroundcolor": "#E5ECF6",
            "gridcolor": "white",
            "gridwidth": 2,
            "linecolor": "white",
            "showbackground": true,
            "ticks": "",
            "zerolinecolor": "white"
           }
          },
          "shapedefaults": {
           "line": {
            "color": "#2a3f5f"
           }
          },
          "ternary": {
           "aaxis": {
            "gridcolor": "white",
            "linecolor": "white",
            "ticks": ""
           },
           "baxis": {
            "gridcolor": "white",
            "linecolor": "white",
            "ticks": ""
           },
           "bgcolor": "#E5ECF6",
           "caxis": {
            "gridcolor": "white",
            "linecolor": "white",
            "ticks": ""
           }
          },
          "title": {
           "x": 0.05
          },
          "xaxis": {
           "automargin": true,
           "gridcolor": "white",
           "linecolor": "white",
           "ticks": "",
           "title": {
            "standoff": 15
           },
           "zerolinecolor": "white",
           "zerolinewidth": 2
          },
          "yaxis": {
           "automargin": true,
           "gridcolor": "white",
           "linecolor": "white",
           "ticks": "",
           "title": {
            "standoff": 15
           },
           "zerolinecolor": "white",
           "zerolinewidth": 2
          }
         }
        },
        "title": {
         "text": "Outlier Detection using the bidimensional data"
        },
        "xaxis": {
         "anchor": "y",
         "domain": [
          0,
          1
         ],
         "title": {
          "text": "Distancias a cinco centros de empleo"
         }
        },
        "yaxis": {
         "anchor": "x",
         "domain": [
          0,
          1
         ],
         "title": {
          "text": "Habitaciones por vivienda"
         }
        }
       }
      }
     },
     "metadata": {},
     "output_type": "display_data"
    }
   ],
   "source": [
    "df_red[\"outlier\"] = df_red[\"outlierness\"]>1.5\n",
    "fig = px.scatter(df_red, x=\"dis\", y=\"rm\", title=\"Gráfico de Dispersión\", color=\"outlier\")\n",
    "fig.update_layout(\n",
    "    title=\"Outlier Detection using the bidimensional data\",\n",
    "    xaxis_title=\"Distancias a cinco centros de empleo\",\n",
    "    yaxis_title=\"Habitaciones por vivienda\"\n",
    ")\n",
    "fig.show()"
   ]
  },
  {
   "cell_type": "markdown",
   "metadata": {},
   "source": [
    "Ahora, llevemos este mismo analisis a los datos en su totalidad. Aplicaremos el método LOF a los datos y a continuación, con el objetivo de visualizar los resultados, mostraremos una proyeccion de los datos realizada mediante PCA."
   ]
  },
  {
   "cell_type": "code",
   "execution_count": 7,
   "metadata": {},
   "outputs": [
    {
     "name": "stdout",
     "output_type": "stream",
     "text": [
      "Proporcion de varianza explicada por las primeras dos CP:  0.5853943917421118\n"
     ]
    },
    {
     "data": {
      "application/vnd.plotly.v1+json": {
       "config": {
        "plotlyServerURL": "https://plot.ly"
       },
       "data": [
        {
         "hovertemplate": "PC1=%{x}<br>PC2=%{y}<br>outlierness=%{marker.color}<extra></extra>",
         "legendgroup": "",
         "marker": {
          "color": [
           1.5236023839657182,
           1.1594570655659981,
           1.0604591907208083,
           1.1116119419803554,
           1.136016027159357,
           1.1896066789879127,
           1.0675191909055992,
           1.0392235831749326,
           1.2041329335265618,
           1.0322278639097004,
           1.0999978487124487,
           1.069473233391321,
           1.1201550515439962,
           1.0731041320660943,
           1.0292188404438236,
           1.0737048102305946,
           1.2284493112871475,
           1.0002227545658628,
           1.8462941402390296,
           1.0689261418954168,
           1.0824869549242964,
           0.9894318696757163,
           0.9253140691558382,
           1.0472112247131589,
           1.0009327283156662,
           1.1992083828993423,
           0.9609596395890856,
           1.1976614944595234,
           1.0994866890190504,
           1.2902278197268515,
           1.089402631580751,
           0.981139666732649,
           1.7118036026787529,
           1.0253214453089292,
           1.3456971992440205,
           1.0355419744032375,
           1.0144998542964765,
           1.0192024413690102,
           1.0600216455830327,
           1.0394768242491526,
           1.0383045555670392,
           1.081104193688064,
           1.0022818018215496,
           0.9969459589805332,
           1.0424576379513721,
           1.0872483108490953,
           1.079216331594506,
           1.2685702551112912,
           1.9830877534441362,
           1.1887938079305318,
           1.030356565831368,
           1.015750983675788,
           0.9903029020068583,
           0.9773197855976111,
           1.4267801462951772,
           1.0530595817128252,
           1.003385511780154,
           1.0615196588430063,
           0.9633058947424609,
           0.924967088258715,
           1.0599032699722954,
           1.0439081139492026,
           1.0325826066193975,
           0.9541292446461938,
           1.4001732152218458,
           1.0120169518522233,
           1.0184568428752079,
           1.0101342217409537,
           1.0627764078792348,
           0.9801756477567164,
           1.0444134589022804,
           0.9683884048726835,
           0.9984407963193636,
           1.0049249262445696,
           1.0215847809070897,
           1.0352546570786694,
           1.1671562794481667,
           1.0327602172156845,
           1.0590036497465927,
           1.0121919770220533,
           0.9981241885184853,
           1.0325660229268547,
           0.9975910637698331,
           1.0237625552392502,
           0.9714717652677447,
           1.0516257176049197,
           1.0201595601104685,
           0.9983718243061073,
           1.0875364367569946,
           1.0286573712593607,
           0.9985259771230022,
           1.0117535338529824,
           1.2594159012472863,
           1.2915569357667287,
           1.4046341176092891,
           1.021925496330811,
           1.0211919146009303,
           0.9803717163434179,
           1.2252553492722273,
           0.975574178055728,
           1.2632904482633585,
           1.0833155984245562,
           2.372932072867351,
           1.0055376627817192,
           0.9891018785344322,
           0.9567240613717566,
           1.0625961347845636,
           1.00934057971484,
           0.989101878534432,
           1.0388464403652669,
           1.3174418141419921,
           1.0521795206376798,
           1.0379292516494005,
           1.0633636195376222,
           1.02335029390025,
           1.031428865483657,
           1.0025570986832184,
           0.9993369965424825,
           1.005306339636191,
           0.9713032496111275,
           0.9669206244524944,
           0.9669206244524944,
           1.053170453446585,
           0.9566100175757738,
           1.0553509708892008,
           0.9793411892201634,
           1.126621043801112,
           1.0157275632633809,
           0.9961117564246689,
           1.0157275632633809,
           1.0344768625937104,
           1.0344768625937104,
           1.1753681184188618,
           1.0601719924485402,
           1.8983578525674396,
           0.9500110223316607,
           1.0413833372620886,
           0.9568468770463753,
           1.1113775249748579,
           0.9412595178786418,
           1.4276110770708876,
           2.1133016705823584,
           1.38914702877381,
           1.0171333074981557,
           1.0341535330036873,
           1.0930160676750886,
           1.068356344079951,
           1.0269061785354254,
           1.0171333074981557,
           1.0007792735723908,
           0.9628406620395678,
           0.9628406620395678,
           1.2986792721859246,
           0.9573623293062813,
           1.2671234267678837,
           1.2434711481747205,
           1.1737232240263302,
           1.5788034451231259,
           0.959995255878412,
           1.3793973887879503,
           1.3293595012356572,
           1.6185359553694396,
           1.2659314487075792,
           1.4233085348021903,
           1.009072655419242,
           1.0254226222789455,
           1.4402630953493758,
           1.1038130225358003,
           1.0075475606198943,
           0.9951456573705023,
           0.975994346013211,
           1.0054051973867817,
           1.2760465101529395,
           0.9872192792316834,
           1.0197233543498787,
           1.3023420780592843,
           1.0466020667915035,
           0.965775573824823,
           1.004384248211911,
           1.0392148839835786,
           1.0440388349959702,
           1.1757359134937138,
           1.1218732786816434,
           1.2026236497891394,
           1.2434418449254825,
           1.1741447800991076,
           1.0935677102095378,
           1.0405944072186437,
           1.0246417785806086,
           1.030371154748775,
           0.9844433664645929,
           0.9896273325524026,
           0.9878821015229515,
           1.0756565516876768,
           1.0070998984950117,
           1.0608882661136234,
           0.9787822034643023,
           1.0499437365159952,
           1.0028490047696967,
           1.036416085990796,
           1.0562438880019895,
           1.0256819520798173,
           1.0643884539109212,
           1.0608882661136234,
           1.0608882661136234,
           1.060749801889195,
           1.0120041137208398,
           1.1480599241958176,
           0.9650813669879603,
           1.0049698751250644,
           1.0411192546908299,
           1.0045226791320805,
           0.9784288335458268,
           1.019965716487988,
           2.1441632857099444,
           1.0236551848204498,
           0.990103270436838,
           1.388235150255237,
           0.9637584488453126,
           1.032277908465548,
           1.0009822598031655,
           1.0059056677947116,
           1.0075997584303726,
           1.0351899385924535,
           1.0193994131422115,
           1.0780098825509608,
           0.9757996155862896,
           1.0222057141577778,
           1.2910062801326823,
           1.4770785887506583,
           1.059415478430791,
           1.0134280316746183,
           1.0306286119485153,
           1.0218839288134098,
           1.0220210018719824,
           1.0574677907656411,
           1.0075997584303726,
           0.9942953614938655,
           1.0159449009274772,
           0.9537807137583867,
           0.9751194829396563,
           1.023978811218854,
           1.0464975124208789,
           0.9940731670939833,
           1.0660030860826062,
           1.0531761612917563,
           0.9897863927093045,
           1.018355382330927,
           0.9824774153826654,
           1.0470742388533174,
           1.0232942723439984,
           1.0395187260624548,
           1.0864816679758085,
           1.9466421240547231,
           0.9964503267247202,
           1.0286926372965586,
           1.0638733189247898,
           1.3836840290110888,
           0.9922609988859232,
           0.9281260595981327,
           0.9866270397263893,
           1.095146152543554,
           1.2819134636297818,
           0.9968676184144147,
           0.9983016973508618,
           1.9661190467920586,
           1.049662427141286,
           1.1307500907653294,
           1.3491222005712618,
           1.0039928176369286,
           1.0975908374420498,
           1.0686614017630727,
           1.10205421837096,
           1.0747707821181558,
           1.0585277061460063,
           1.0398684105791218,
           1.0851119097005604,
           1.081859269423814,
           1.0675975333355354,
           1.1415697663253526,
           1.215769013722538,
           1.1168096710801227,
           1.0851119097005602,
           1.5426999743622118,
           1.0270352781360468,
           0.9932306048373902,
           1.0454840136366044,
           1.0159742230665787,
           1.0108031589986548,
           1.0359561611778794,
           1.0383045555670392,
           0.9569193534693456,
           1.0383045555670392,
           1.1464606265672033,
           1.1230754672532528,
           1.173979306342455,
           1.2604096773920157,
           0.9951786312187029,
           0.9993341740838417,
           1.0056714584580164,
           1.0041938866092606,
           0.9804869751147232,
           0.9621297279719467,
           1.0069462332419996,
           1.0762581399832787,
           1.0360969273309293,
           1.1165357497293353,
           1.0766132611900643,
           1.0902420543278128,
           0.976149377641631,
           1.560129478308497,
           1.1537904729697221,
           0.9584915266970386,
           1.0441819401770103,
           1.0299557973693367,
           0.9995724401868825,
           1.1134400716907966,
           1.079570625049176,
           0.9490300555256826,
           0.9554321635689889,
           0.9755868332070763,
           0.9812343600467754,
           1.010499808790577,
           1.068467284009915,
           0.992260099365474,
           0.9541700651783313,
           1.0764131835051216,
           1.076818747838724,
           1.201979099847427,
           1.1908575048281764,
           1.1696273981551493,
           1.0736668182170521,
           1.0407464223531593,
           1.0709913389268626,
           1.0797840159058611,
           1.037182128109326,
           1.010136968869752,
           0.9793173073030566,
           0.9059739870144725,
           0.9982407514634148,
           0.9691725722361761,
           1.11913374069298,
           1.118833409287265,
           1.2177502614575748,
           1.0243480412102692,
           1.1412871841209982,
           1.0816835968585898,
           0.9864047798394078,
           0.9879565298750373,
           1.148567301301401,
           1.281613864261519,
           1.089460401800044,
           1.1916670868334682,
           1.3478945521301777,
           1.2547040365490036,
           1.3634521562397297,
           1.9072662106092568,
           1.0133272593808038,
           1.017871372056128,
           1.0840517401440206,
           1.2777191077671497,
           1.0542229216099854,
           1.5550263266027526,
           0.9975813031614585,
           1.0546247557911126,
           1.5278572578054994,
           1.4139479883363677,
           1.633160833257275,
           1.701674056732632,
           0.9875041853287424,
           1.008707911565263,
           2.023067381170003,
           0.9933129333132953,
           1.0774501265240957,
           1.1306424986192039,
           1.9031270778682376,
           1.067417825012254,
           1.0961575504392438,
           1.0858713525075943,
           1.0282921599443793,
           1.7954497988315559,
           1.0998040895915242,
           1.0000361117014573,
           0.9911344463256182,
           1.033248044075752,
           1.0167196590562815,
           1.0377332446821361,
           1.0763037852839221,
           1.0280845235427896,
           0.9960489030188544,
           1.081379887425577,
           1.2067503088297578,
           1.0117741714993556,
           0.9909408373963086,
           1.1138472834079967,
           0.9966318031009523,
           0.9767658643154367,
           0.9901843357391389,
           1.3206488073412768,
           1.5611230461316652,
           1.0660869097069177,
           1.1646555635032891,
           0.9915550742758796,
           1.1671158214939379,
           1.4982866536911736,
           1.433574835469957,
           1.2293986692714984,
           1.243695876604479,
           1.1433916658078873,
           1.6875203529018645,
           1.3412534372108333,
           1.099795191460291,
           1.8762470835364922,
           1.5394919770929119,
           1.5798437216613745,
           1.0859203160578481,
           0.9653242579325887,
           1.450119179060817,
           1.2226095142779942,
           0.9753908144577945,
           1.1277076464922835,
           1.0715927377783636,
           1.17318339456572,
           1.0070035174609946,
           1.1231809036822304,
           1.0568425479318089,
           1.1744088932311445,
           1.9891230853421713,
           0.9707596909825991,
           1.0009158719130684,
           1.0443138232866676,
           1.1051798454647046,
           1.1341982964456694,
           0.9852769510782297,
           1.0968974992122769,
           0.9570010584412346,
           1.0149795926246568,
           0.9985377682575063,
           1.2850709172982513,
           0.9898816214126853,
           1.1135873500999285,
           1.0106222488194123,
           1.0444360454275614,
           0.9639393723424654,
           1.6050220304789184,
           1.0278622281522516,
           1.0383998266507504,
           0.9659166907580893,
           1.0019940628802761,
           1.0214561609599233,
           0.9748802199184828,
           1.0261398109813824,
           1.0285280158865784,
           1.938068466534044,
           0.9551851806685244,
           1.0135282561501442,
           1.0158849168325161,
           1.030772953144405,
           1.0433810841240094,
           1.0040422763982393,
           1.2190846102361808,
           0.9790364414544591,
           0.9802327732866012,
           1.070147081200023,
           0.978237050727213,
           1.110629237104132,
           0.9979086450903383,
           1.1443042484062695,
           1.1788340509622646,
           1.1746133131118426,
           1.0413600891508707,
           1.034147004800399,
           1.0290547647487522,
           1.2605841316099569,
           1.2396062885002752,
           1.2793627846639573,
           1.2357626605037797,
           1.1900115049763447,
           1.2532369200383588,
           1.4317885583373289,
           0.9297152135271947,
           1.1052764411806795,
           1.2153405407346258,
           1.019445123982496,
           1.0725613096069175,
           1.0438279916943034,
           1.017748374833438,
           1.0438279916943034,
           1.6626726788526647,
           1.7290538034385492,
           1.4183355219071894,
           1.620602361350873,
           2.0148704942462374,
           0.987611317672432,
           1.1290260972149513,
           1.4710893127357696,
           1.2205546742270672,
           0.993219813918713,
           0.9643516899078801,
           1.0253362555984562,
           0.9618395901562609,
           1.0154559368468803,
           1.226820706755441,
           1.03718384832121,
           1.0124820849702134,
           1.4806429435699797
          ],
          "coloraxis": "coloraxis",
          "symbol": "circle"
         },
         "mode": "markers",
         "name": "",
         "orientation": "v",
         "showlegend": false,
         "type": "scatter",
         "x": [
          -2.0873438632224874,
          -1.3733815266826146,
          -2.3765533593056842,
          -2.8377793677904184,
          -2.7729155022637046,
          -2.3009187148111883,
          -1.3094663031348621,
          -0.9292107342806796,
          0.05182176888642483,
          -0.9081570336264017,
          -0.6440154524104057,
          -1.0801225221977733,
          -1.3607195496169728,
          -0.6196222920559431,
          -0.19979024137280926,
          -0.5863861792281503,
          -1.0472469938319993,
          0.03260622965277828,
          -0.2211207422436203,
          -0.1338310593588809,
          0.8178450284180188,
          0.045689381417787014,
          0.3684059099439247,
          0.6035093348418755,
          0.27153179129068467,
          0.5259826359993782,
          0.1648015830135212,
          0.43380318428031944,
          -0.11770984458107973,
          -0.3019904343740174,
          0.7996442653959518,
          0.26752330219974035,
          1.1286580446984744,
          0.6822924008605423,
          0.9185176222327257,
          -0.673855046135611,
          -0.6353517373077561,
          -1.1134003359651239,
          -1.2917889939487743,
          -3.565396928089735,
          -3.9736511316094814,
          -2.7284529745832784,
          -2.430861909408161,
          -2.3788990152534493,
          -1.780518595368373,
          -1.5770938268661547,
          -1.460280433307195,
          -0.7512395500557728,
          0.088783521385586,
          -1.1361846493144736,
          -2.0047170312197555,
          -2.0624764355007708,
          -2.937155544325174,
          -2.601936733924215,
          -1.8741723195898516,
          -4.6642698686675175,
          -3.9330952608639844,
          -4.499879193882089,
          -2.283669139990226,
          -1.7099241781902914,
          -1.2942955349297116,
          -0.8423732774263045,
          -1.870770193714652,
          -2.2809806538556563,
          -3.296367103583213,
          -3.595850378004899,
          -2.9477187889934875,
          -2.070398877007535,
          -1.4736980372478583,
          -1.8873838068271347,
          -1.9828948966935276,
          -1.5089144556867262,
          -1.8956503178543331,
          -1.86124781849215,
          -1.4885952467828554,
          -0.9177798484650386,
          -0.34667702864353084,
          -0.7415367033534565,
          -0.7365106903009285,
          -0.8765171298917401,
          -2.587209479837671,
          -1.9602524075615415,
          -2.322981625251606,
          -2.027756991694368,
          -1.7783832727548103,
          -1.9171685371786693,
          -1.4669710642189195,
          -1.4595741942156457,
          -1.5287606996388838,
          -1.9311134883583372,
          -1.3415172333343366,
          -1.2680285739672181,
          -1.2992348819539152,
          -1.6426165666390233,
          -0.8172004966987264,
          -1.8511514874202946,
          -1.2583639336446493,
          -2.565541275300619,
          -3.0762865968029085,
          -2.2748652771571267,
          -0.40087633556129576,
          -0.5685026093993021,
          0.7710063510111631,
          0.27358633419240014,
          0.2641449764269529,
          0.6657218893794092,
          0.6977978569528417,
          0.34599544863360265,
          0.24899568831020424,
          0.40882452212037695,
          -0.19028236578640634,
          -0.22403882617611054,
          0.5551425801888468,
          0.5421366168484579,
          0.1496776263330867,
          0.5897336653464746,
          -0.03755762326404561,
          0.09146684963764687,
          0.3788325818171109,
          0.13772590321129702,
          0.5424649998532644,
          0.7341619857651593,
          1.0088332577153238,
          1.540425911680706,
          1.1060073356737408,
          0.7923073486489536,
          1.7800133111113945,
          1.917619262905528,
          1.5912537722741749,
          2.005462206036687,
          1.3889512985937806,
          1.386391879550357,
          1.2258087262078592,
          1.6286370002921025,
          2.167170617100188,
          1.64737629875463,
          1.7781455644846627,
          1.573133440805954,
          2.174751381656918,
          1.829022238043021,
          2.1559618340705735,
          3.03623590139196,
          2.594900200783247,
          2.523731230401062,
          2.8714912166223847,
          2.8783721944017517,
          2.4721948234355193,
          2.7551999816128463,
          2.57837283100768,
          2.264004060022576,
          1.5511773436261582,
          1.8729887837747226,
          1.8971840622673586,
          2.0700399738327726,
          1.7768961448419616,
          2.2277331709328227,
          2.712912688087258,
          -0.45068627958455526,
          0.444771720065079,
          1.1132658931892288,
          0.1991905327998433,
          -1.0856854153661422,
          -1.1416725049796266,
          -1.315105372799093,
          0.5355546182572207,
          0.7031715597889816,
          -1.0539553259160148,
          0.7338623277669863,
          0.6497227816726056,
          0.5795000933412507,
          1.026593762726726,
          0.8156478064785392,
          -0.42645919411063526,
          -0.983358981197276,
          -0.9330338974749762,
          -1.949578828259793,
          -1.324811284917898,
          -1.3126418427624547,
          -1.5191758491387477,
          -2.3084267381367747,
          -2.222152162957159,
          -1.772154286257914,
          -2.006828626349207,
          -1.632109690376239,
          -0.8846781814181742,
          -1.4277864436527143,
          -3.045535790344348,
          -2.695529441915489,
          -2.8708307814255987,
          -3.0923554523135928,
          -3.511627218581248,
          -3.2079681389975354,
          -3.634185978112323,
          -4.062131873550503,
          -3.846111414121027,
          -4.999993210191798,
          -4.614645914677559,
          -4.1594311692285615,
          -4.483325606734161,
          -4.362940808091048,
          -4.343939313587514,
          -3.4096288933397942,
          -4.788307801393249,
          -4.919802986316224,
          -5.0655704640050105,
          -1.1830232163780199,
          -1.0886895872413944,
          -0.3414947054756665,
          -0.7590617815153085,
          0.4030506303089919,
          -0.16153861131924005,
          0.3561396347442338,
          -0.5582371169790273,
          -1.4178883563110984,
          -0.2346997620922847,
          -1.1768076620777823,
          -0.47390852488806984,
          -0.7311592049354665,
          0.1763880337617632,
          -0.38801491704162205,
          -0.8885269787575285,
          -0.0062117924905112885,
          -1.0432521185920127,
          -1.106729337722815,
          -2.124718212592536,
          -2.3246823496530937,
          -1.8566425623235068,
          -1.3239899092363332,
          -2.7216014642700084,
          -1.915404077296747,
          -0.7389294973128152,
          -1.5509050528378685,
          -2.3008699975990847,
          -2.3978554879562597,
          -1.2366103243256636,
          -0.855041978457758,
          -1.0545136594759605,
          -1.695934859149106,
          -2.743826886003355,
          -2.4831005927782317,
          -2.262879891612937,
          -1.824898456275306,
          -2.194251943632021,
          -2.990919345138914,
          -1.1910554537585465,
          -1.0633119156874002,
          -2.168037631331376,
          -1.554575361485359,
          -2.041207742168608,
          -2.676097460422237,
          -2.5794251021982557,
          -2.6775070822385523,
          -3.2287558823688247,
          -3.9859143584432757,
          -3.746668699711394,
          -3.6751601390190305,
          -4.692007069119529,
          -2.6421271708492626,
          -1.582795909770597,
          -1.3438318568990713,
          -1.6498349422364145,
          -2.0273036904366264,
          -2.501376356782859,
          -1.3864057298422652,
          -1.6539360085759753,
          -0.9940820091916647,
          -1.2259150988718055,
          -2.913449143272036,
          -2.902082244748743,
          -1.201582826346359,
          -1.4689572958822343,
          -2.272805712729445,
          -1.7628189697883632,
          -2.603849007983583,
          -2.8492172088420267,
          -2.790764522558029,
          -2.8222070578119736,
          -3.0213719243384918,
          -2.510809755421256,
          -3.1195612424544055,
          -3.4846333408306043,
          -3.28885816460952,
          -3.7108385627891263,
          -5.556874090188458,
          -4.403717092666128,
          -3.45857656426242,
          -3.40926101797224,
          -2.9764382528648388,
          -2.8096492867593152,
          -3.0565853895275534,
          -3.4122746053427995,
          -3.7414145092793514,
          -3.315807266068338,
          -1.8637312810229245,
          -1.4339679953204842,
          -2.1896033935594894,
          -1.8431543614631547,
          -1.0409837861132687,
          -3.648426205028819,
          -4.16232004334578,
          -3.5801830201756113,
          -2.2244832711563602,
          -2.565496190363626,
          -3.0888416824474145,
          -2.766082746604281,
          -2.0035574369567115,
          -2.3112886095365486,
          -1.9785856939604056,
          -0.7914523748298216,
          -0.323716489305749,
          0.03838843067981313,
          -0.769332661927135,
          -0.05581141909037451,
          -0.49115991323222513,
          -0.5844818582612795,
          -0.17274820683214864,
          0.08320193658780893,
          -0.18258669589167378,
          -0.6639867512907354,
          -0.5772393461583245,
          -1.2933116431371623,
          -1.2514390781157565,
          -1.1073581740692338,
          -0.5114314000501984,
          -1.5216600483328286,
          -1.9240583468447905,
          -1.650370742613769,
          -1.1166143905748873,
          -1.5397857614085058,
          -1.9599135527693967,
          -1.6689557914038138,
          -2.1632023808972,
          -2.5104463961458503,
          -1.7989272501324631,
          -1.7024448187993035,
          -1.571464550459857,
          -1.166990608189111,
          -1.0218695534839068,
          -1.3441866212238198,
          -1.1381628838005373,
          -1.005658240662366,
          -3.5817966454438075,
          -1.6373401586426426,
          -2.3160022705332275,
          -3.074869861383177,
          -1.6676131632719255,
          -1.4456478352852669,
          -3.462784634943629,
          -3.759762132994569,
          -3.2948131993893797,
          -2.9634901338328112,
          -3.4737315099063655,
          -3.2433269666818263,
          -4.78788488739218,
          -3.070539861119077,
          -3.3362995887448,
          3.232659829468422,
          2.581648431247479,
          2.4701467865806395,
          2.540831638473897,
          2.2877970792780418,
          2.8536069233829844,
          2.921365907271611,
          3.1117793806714467,
          1.4606202026418014,
          3.0300929474928426,
          3.164217548952101,
          3.9737215513350983,
          1.6894718423944912,
          1.180159170583205,
          1.0680404589581847,
          1.768695102767262,
          1.8309270142507819,
          4.389265676106796,
          4.964494165153958,
          2.933699655091888,
          3.4838267569581625,
          3.201149078556473,
          3.7918710820042625,
          3.7219539181207244,
          5.209705953133903,
          3.4866879005981173,
          3.7703636904811044,
          3.7608943775195547,
          4.96103534562411,
          4.495686942251943,
          4.69809440724185,
          4.680641996348449,
          4.493779222240531,
          3.624966542977708,
          3.1875127831686823,
          2.7270210127008125,
          4.0609154352816015,
          2.9970281179204865,
          3.3252837034073757,
          3.109530239722648,
          3.130770875386538,
          3.5567050260015676,
          5.097804079678563,
          4.006649238417046,
          4.37013287836867,
          3.6365890990829675,
          3.3811127936757543,
          4.105284455725766,
          4.8976873930361595,
          5.567703181794361,
          4.469987379581142,
          2.911496694839932,
          3.5313369094484863,
          3.0972726649836044,
          4.777563222050253,
          3.80679673420504,
          5.090719452683975,
          4.240885756886997,
          6.4385588276608425,
          4.820570327840268,
          4.281827700384041,
          4.866104721736808,
          6.1352536995880955,
          4.0422194784665795,
          3.219477714037346,
          3.2696107900630134,
          2.9303514662655434,
          3.8606014505816364,
          3.6011717208869753,
          4.660974851943746,
          3.448314374225212,
          4.487225679198498,
          3.753682559825187,
          4.1683475412682105,
          3.2993368738828077,
          3.390696969682736,
          2.756501354566738,
          3.4436560156603035,
          3.8613876274830177,
          4.031913189519107,
          4.235955174569235,
          4.861803644380053,
          4.978291932958343,
          3.689233770029662,
          4.01311242441671,
          3.2254005550902787,
          3.016540225860647,
          3.2696946930548108,
          4.172156974976898,
          4.310183277701811,
          3.2727038009554303,
          3.2413004490847777,
          3.1930599442341423,
          3.3650890417974786,
          3.7284861512701792,
          2.9694161823070218,
          2.8830855320447797,
          2.670079218238204,
          3.8029695518703814,
          3.5581825747624607,
          3.8749475261364656,
          3.7791515925247356,
          3.045437132213147,
          2.6152602823148188,
          2.941173761499444,
          2.5823060329301772,
          2.5092841312174308,
          2.3173082211989082,
          2.1038805061729535,
          2.1238170258493176,
          3.3298498472247395,
          2.7966611234567536,
          2.601812869930887,
          2.217007290952191,
          2.1709556798263216,
          1.9336757146768373,
          1.8229040110622363,
          1.4962155032164282,
          3.059806565934016,
          3.235471248895738,
          2.5928648740631832,
          3.7972165751560385,
          2.950441693322273,
          2.572656993602419,
          1.464609360060855,
          1.2923834838055952,
          1.1398085457933966,
          1.194767218332982,
          1.574211472552292,
          1.3745088493526336,
          2.0906987007968976,
          1.7138280843318632,
          2.6675456808268057,
          3.3544214707906206,
          3.7077142200433837,
          2.6287572767535012,
          2.0237669110899206,
          0.07344022754379068,
          -0.11662138789120549,
          -0.026869228370407085,
          0.7682841545082048,
          0.34665825783573123,
          0.15773021761554953,
          0.5788955290797597,
          0.4836818254889,
          -0.30282026821484187,
          -0.043394778631477525,
          -0.36818964903480506,
          -0.26431734002729834,
          0.1952351272037195
         ],
         "xaxis": "x",
         "y": [
          0.4928532917496087,
          -0.17092377858090216,
          0.9140271760080189,
          0.19486997481109655,
          0.433299189909235,
          -0.32867972211747926,
          -0.22084873252233758,
          0.09832669300100114,
          -1.0434350490409996,
          -0.5519111122574775,
          -0.48371977741238986,
          -0.4028015983161099,
          -0.6858279480790199,
          -0.8981602071599597,
          -0.7231306828714141,
          -1.013149891989653,
          -1.0000205374740778,
          -0.9372283021730574,
          -1.4198177285729547,
          -1.002805489119628,
          -1.3411008206114163,
          -0.7147857647387598,
          -0.9288182981979952,
          -1.1410446913491021,
          -1.022974660444884,
          -1.4264034876167238,
          -1.0890053603168512,
          -1.098663486254964,
          -0.4442583290254396,
          -0.2174383700884249,
          -1.45597968006857,
          -0.8095539465305323,
          -1.538905525268302,
          -1.2402651020200468,
          -1.0461404589510659,
          -0.5892937812725006,
          -0.7135331052657224,
          -0.8585047797472621,
          -0.7374725183501797,
          -0.7963720241102582,
          -0.32215474525173887,
          -0.4885394959902225,
          -0.9169096236852861,
          -0.9638190348239871,
          -0.9717234429422086,
          -1.2712803698707758,
          -1.288981758085933,
          -1.0528202700019293,
          -1.8274017849316044,
          -1.3927734651648511,
          -1.3644357167593084,
          -0.9582875830563183,
          -0.7655344975235991,
          -1.2462599971293795,
          -2.6096438485552773,
          -0.8628700378733143,
          -1.7800627975686434,
          -0.690794731663188,
          -1.6265724471526792,
          -1.687573291452679,
          -1.8321139314789434,
          -1.5439992240644094,
          -1.0238204594931941,
          -1.1325044237721396,
          -0.5200211887585668,
          -1.3534848514560136,
          -1.8971099735158259,
          -1.629188447907967,
          -2.026149737599696,
          -1.5905541712332167,
          -0.9542765402267067,
          -1.3480441904949303,
          -1.1926981624886719,
          -1.1289256059370218,
          -0.703865469286751,
          -0.5728888840494208,
          -0.38334930472704454,
          -0.6508279253843574,
          -0.7174533413480981,
          -0.9593565054053563,
          -0.5171632475020721,
          -0.4957544433305012,
          -0.9872412832019093,
          -1.052594553509365,
          -0.5367861074778387,
          -0.037932100125523914,
          -0.8942138125437548,
          -0.49458083561070365,
          0.7005952766746534,
          0.7726977299726481,
          0.06195559369893028,
          0.11537938284233394,
          -0.17066441621343587,
          -0.3849458319963713,
          -0.24131144594412543,
          0.24116862846591744,
          -0.3966544301157219,
          1.881389465598681,
          1.6298387247500297,
          1.0308812762406507,
          0.38446715649385016,
          0.32632482429877463,
          -0.31273068433446766,
          -0.4111874979108067,
          -0.24834107888973167,
          -0.4734751895876626,
          -0.6065578076695308,
          -0.30303335158857336,
          -0.006835789441862387,
          -0.3461912182138006,
          -0.5624229858664991,
          0.7052978245453957,
          0.004623121784544943,
          0.07536006992354596,
          0.29748804189929334,
          -0.07475224853679413,
          0.14740074583520058,
          0.09453790604053042,
          -0.140427676156062,
          -0.3372068667521791,
          0.13362781678712754,
          0.2772161501848195,
          0.2573490358717257,
          -0.1139555340265105,
          0.17513636025232462,
          0.38022519667871457,
          -0.3798861397897606,
          -0.27373688575773014,
          0.3431860670041968,
          -0.48093270442054237,
          0.444724160012876,
          0.34892616347023697,
          0.5677795654223291,
          -0.14996641710408987,
          -0.3826576416813209,
          0.18548825044854958,
          -0.11163203912439458,
          0.325296843990245,
          -0.38841737049780645,
          0.0883122037889938,
          -0.2729949067211896,
          -1.1759201973764326,
          2.2998354219125985,
          0.8180478301609293,
          0.20471666904562077,
          1.0481654578887558,
          1.123487900376664,
          0.31034526435961285,
          0.6210714431746573,
          0.959042555488885,
          1.8071820279180602,
          1.3160302292876491,
          2.405662663444779,
          1.376713850180409,
          3.1356302518797263,
          2.877592006217374,
          0.6779805047742702,
          2.9148686294532253,
          1.53836015669684,
          2.3225868150661273,
          3.348224086532868,
          3.6787196605619936,
          5.543484514320679,
          5.7998467499040185,
          0.998514372404897,
          1.2987923690047127,
          3.926703003498277,
          0.8893553368463776,
          1.4204014747858411,
          1.3652279253922626,
          0.6794779790239674,
          0.8716680337548501,
          -0.06478291486984337,
          0.5913228505618876,
          0.02892792341092818,
          0.5010387437139949,
          -0.20026569670659228,
          0.4415522197391018,
          1.0939821404069707,
          1.1780962953050786,
          1.9633466460244415,
          0.5629068703005428,
          1.660134149973645,
          1.0155578120221451,
          -0.18625423531383126,
          0.08640805024518461,
          2.231893386658996,
          0.44905009635760784,
          0.01509632726454222,
          0.7226833328797033,
          0.19455188174587526,
          -0.149979015419556,
          0.41694201783595014,
          -0.503729576344756,
          -0.625830850424474,
          1.4947545068665702,
          0.2663783007799183,
          -0.10725378156739337,
          0.28717186241238146,
          -0.8264072552732276,
          -0.8377358571995212,
          -1.0396523186018949,
          0.6492913496104546,
          1.3735462718944493,
          1.5717658302894775,
          -0.8475055850635089,
          -0.28586821155146647,
          -0.7283895137239699,
          1.1441177789108283,
          0.6910591387926619,
          1.245895681381345,
          0.5994603952945411,
          0.9029760976716348,
          -0.15056321962288824,
          -1.6870635681987873,
          -0.3272310193582414,
          1.700964517391915,
          1.1343937815057856,
          1.9169777405895578,
          2.3650248962685994,
          2.6008073819198976,
          1.53537475492646,
          2.4163695150628093,
          0.8588310038209683,
          2.720857403530148,
          3.283644384058008,
          2.282167394985419,
          1.2924794274385074,
          1.8088975140946915,
          0.4166453273240379,
          -0.1272689356371424,
          1.377796703601525,
          2.45914694789582,
          2.686195905863559,
          2.271503187243115,
          -0.10519096696738799,
          1.9973884945181608,
          1.2292394863655198,
          -0.8554401715462636,
          -0.6054412475354147,
          -0.5125309198217937,
          -1.0281916262538537,
          -0.9692603667850465,
          -1.121970345743984,
          -1.924374189058289,
          -2.094871566417516,
          -1.5854176542267184,
          -1.3173111265847957,
          -1.2175444551187395,
          -1.1626879560609398,
          -1.3412145451183972,
          -1.3310735006412373,
          -1.0496499323572832,
          0.41006160141082426,
          -1.9760210122512891,
          -2.3621412527317114,
          0.5542139898020935,
          4.25397485824452,
          2.756031332033386,
          2.174582643164492,
          2.3164452806992117,
          3.0929047757613586,
          3.9436030858935203,
          2.33193714691638,
          2.611362769567782,
          0.5873880111994305,
          1.9207302509810067,
          3.4873244394279337,
          2.573730992537823,
          0.7291142828651418,
          -1.1604798010507524,
          -0.779059380602776,
          -0.18609549106615497,
          2.5581187389805415,
          1.7852061053392871,
          0.2812139161804135,
          2.0928680402765045,
          1.6592218485563606,
          -0.28522718081436527,
          0.7373395356138945,
          2.086243192416014,
          0.7065993614528969,
          3.418228373623607,
          3.0377351735123015,
          -0.5835837263675314,
          -1.1925224115063544,
          -2.4800509917219937,
          -1.3249831580140325,
          -1.1836872922813917,
          -1.1793401281278493,
          -0.769747182976972,
          -0.17483252266098995,
          -1.021941285506211,
          -0.5492208921074947,
          -0.5588200563469273,
          0.12328398916593507,
          0.12289948652125038,
          -0.9101445083874175,
          -1.3305157088019675,
          -0.671376606078465,
          -0.6655105386288926,
          -0.5469947053120825,
          -0.5768605434782347,
          0.15162207114118104,
          0.5436767240454137,
          -0.0003763700084879333,
          0.9831082723814419,
          0.31947496578793627,
          0.6010058606706231,
          -0.09924352551256498,
          -1.286983750236759,
          0.04771278284092925,
          0.012686968222624715,
          0.23276762987336036,
          0.4700784917095099,
          -0.6398283439090224,
          -0.5861888981024722,
          -0.6132777959566743,
          0.11679759949673597,
          -0.37623707935494977,
          -0.3712943725595264,
          -0.4083921107124451,
          -0.8425649227263631,
          -1.0297348734288698,
          -0.43463072586644896,
          -0.7682990796443316,
          -0.8180189870211311,
          -1.0481859948930972,
          -1.1287272919576758,
          -0.6889355152879372,
          -0.9661739840511463,
          -1.856697417651884,
          -1.4709209054617458,
          -1.0168788886816793,
          -1.1196936636292065,
          -1.2587600767709743,
          -1.2525782728908499,
          -1.2493738945876227,
          -1.057444320846886,
          -1.1403452241200986,
          -1.0314792287798855,
          0.29717864412551165,
          -0.438263721874063,
          -0.5039464556272248,
          -0.3576777204809451,
          -1.7102531915652832,
          -1.8280373243602523,
          -1.7290814245307278,
          -1.394050002341427,
          -1.3078698647886469,
          -1.6737677114655645,
          -1.9007231026639995,
          -2.8164170414455545,
          -1.7313336235928514,
          -3.5904227947752405,
          -3.2601122047162194,
          2.0959735680538945,
          2.4387975233967767,
          2.2553490804345473,
          0.6120954630691897,
          1.0964284012028163,
          0.6432119984991624,
          0.3398916792125067,
          1.8668636625015893,
          4.053783885320109,
          -0.48426463851342766,
          -0.07864460356366783,
          -0.8809224976474723,
          1.5576230948828618,
          4.1822502158426085,
          4.440886339787376,
          2.14311728932546,
          3.562894220523114,
          -1.056887593427597,
          -1.6723199444284516,
          0.9889213427822975,
          0.2244705091830852,
          0.44189095566855296,
          -0.02772995450883344,
          -0.13277826885683622,
          -0.1579023229488583,
          0.10509654208085735,
          -0.4576500344708669,
          -0.42896681487982274,
          -1.672401146224093,
          -1.0694161442092744,
          -1.2722419187509506,
          -1.4040039073296462,
          -1.1625275824192856,
          -0.48812536794096734,
          -0.05163832148828399,
          0.3357616754670093,
          -0.9814275092217118,
          0.19173850493334083,
          -0.09917078622269666,
          0.3413163314655251,
          0.21364822467125968,
          -0.3830608461577867,
          -1.2346736027379122,
          -0.9139393438664277,
          -0.682618376857468,
          -0.11769391014759498,
          0.17604166122124798,
          -0.8035048172958229,
          -1.1256037544803268,
          -1.096964576356472,
          -1.40315940044726,
          0.6346100273427846,
          -0.4352834267111412,
          0.938238774584764,
          -0.3950092578009873,
          0.2287611177124613,
          -1.4056619538907225,
          -0.7828150464542538,
          -2.070662341163862,
          -0.5197663953971277,
          -0.22673840055369535,
          -1.0956063151335533,
          -0.9221406553762009,
          -0.11319285603354419,
          0.541629872087312,
          0.13630209611816513,
          -0.07988844266279695,
          -0.49694332258760876,
          -0.9592510801498644,
          -0.7116935732511911,
          -0.9322737703009539,
          -0.42866604125281327,
          -0.3899625834539029,
          -0.28833835188157264,
          -0.1822767242646634,
          0.09759528377011886,
          -0.008838658799049715,
          0.18477758700633184,
          -0.03452612517173625,
          0.17563940595961222,
          -0.005091391314590402,
          -0.41065222491455,
          -0.8401157276249591,
          -0.3190297835226323,
          -0.41147399847257443,
          0.44813172285261066,
          0.5482576995655954,
          0.472643030403968,
          -0.3611432026825439,
          -0.0174208018179463,
          0.3482382498210646,
          0.19222946227927856,
          0.13265832132490044,
          0.18583748042168,
          0.3047749080457934,
          0.484929365827604,
          0.2700141908683411,
          1.073066800439602,
          0.29344887579374596,
          0.13484322060240064,
          -0.32009109783649387,
          -0.38104762336273035,
          0.04472104951624616,
          0.25999125619615704,
          0.46693374146884425,
          0.41736848604379806,
          0.387005498944005,
          0.7043601896720485,
          0.095465982662212,
          -0.4401984648665308,
          -0.173871620558131,
          -0.17898531966794798,
          -0.5003944983220121,
          -0.5791669823854446,
          -0.06750310689878215,
          0.00003868747560487352,
          0.2587045533704015,
          1.044781886463523,
          -0.6965520752441878,
          -0.3794308974241691,
          0.189768203356713,
          -0.9653880692509842,
          -0.0726472132266041,
          0.3491590928927831,
          -0.07656626323718173,
          0.46604523435086087,
          0.7483179796675058,
          -0.7414999686406561,
          -0.62691901455879,
          -0.2052044512660835,
          -0.23336552140826863,
          -0.36413405711332897,
          -0.27895505160150086,
          -0.8195341477050948,
          -1.1476932084846616,
          0.01767619121554601,
          0.2846045410092732,
          -0.35200299222829656,
          -0.23675677103511591,
          -0.775151772907627,
          -0.8043694171602234,
          -0.46096582641665107,
          -0.11439902093517183,
          -0.5556893157885582,
          -0.24410013124605123,
          0.14275776517977593,
          -0.11568886126061978,
          0.8231623970069577,
          0.5400161992547085,
          -0.5579764831669264
         ],
         "yaxis": "y"
        }
       ],
       "layout": {
        "coloraxis": {
         "colorbar": {
          "title": {
           "text": "outlierness"
          }
         },
         "colorscale": [
          [
           0,
           "#0d0887"
          ],
          [
           0.1111111111111111,
           "#46039f"
          ],
          [
           0.2222222222222222,
           "#7201a8"
          ],
          [
           0.3333333333333333,
           "#9c179e"
          ],
          [
           0.4444444444444444,
           "#bd3786"
          ],
          [
           0.5555555555555556,
           "#d8576b"
          ],
          [
           0.6666666666666666,
           "#ed7953"
          ],
          [
           0.7777777777777778,
           "#fb9f3a"
          ],
          [
           0.8888888888888888,
           "#fdca26"
          ],
          [
           1,
           "#f0f921"
          ]
         ]
        },
        "legend": {
         "tracegroupgap": 0
        },
        "template": {
         "data": {
          "bar": [
           {
            "error_x": {
             "color": "#2a3f5f"
            },
            "error_y": {
             "color": "#2a3f5f"
            },
            "marker": {
             "line": {
              "color": "#E5ECF6",
              "width": 0.5
             },
             "pattern": {
              "fillmode": "overlay",
              "size": 10,
              "solidity": 0.2
             }
            },
            "type": "bar"
           }
          ],
          "barpolar": [
           {
            "marker": {
             "line": {
              "color": "#E5ECF6",
              "width": 0.5
             },
             "pattern": {
              "fillmode": "overlay",
              "size": 10,
              "solidity": 0.2
             }
            },
            "type": "barpolar"
           }
          ],
          "carpet": [
           {
            "aaxis": {
             "endlinecolor": "#2a3f5f",
             "gridcolor": "white",
             "linecolor": "white",
             "minorgridcolor": "white",
             "startlinecolor": "#2a3f5f"
            },
            "baxis": {
             "endlinecolor": "#2a3f5f",
             "gridcolor": "white",
             "linecolor": "white",
             "minorgridcolor": "white",
             "startlinecolor": "#2a3f5f"
            },
            "type": "carpet"
           }
          ],
          "choropleth": [
           {
            "colorbar": {
             "outlinewidth": 0,
             "ticks": ""
            },
            "type": "choropleth"
           }
          ],
          "contour": [
           {
            "colorbar": {
             "outlinewidth": 0,
             "ticks": ""
            },
            "colorscale": [
             [
              0,
              "#0d0887"
             ],
             [
              0.1111111111111111,
              "#46039f"
             ],
             [
              0.2222222222222222,
              "#7201a8"
             ],
             [
              0.3333333333333333,
              "#9c179e"
             ],
             [
              0.4444444444444444,
              "#bd3786"
             ],
             [
              0.5555555555555556,
              "#d8576b"
             ],
             [
              0.6666666666666666,
              "#ed7953"
             ],
             [
              0.7777777777777778,
              "#fb9f3a"
             ],
             [
              0.8888888888888888,
              "#fdca26"
             ],
             [
              1,
              "#f0f921"
             ]
            ],
            "type": "contour"
           }
          ],
          "contourcarpet": [
           {
            "colorbar": {
             "outlinewidth": 0,
             "ticks": ""
            },
            "type": "contourcarpet"
           }
          ],
          "heatmap": [
           {
            "colorbar": {
             "outlinewidth": 0,
             "ticks": ""
            },
            "colorscale": [
             [
              0,
              "#0d0887"
             ],
             [
              0.1111111111111111,
              "#46039f"
             ],
             [
              0.2222222222222222,
              "#7201a8"
             ],
             [
              0.3333333333333333,
              "#9c179e"
             ],
             [
              0.4444444444444444,
              "#bd3786"
             ],
             [
              0.5555555555555556,
              "#d8576b"
             ],
             [
              0.6666666666666666,
              "#ed7953"
             ],
             [
              0.7777777777777778,
              "#fb9f3a"
             ],
             [
              0.8888888888888888,
              "#fdca26"
             ],
             [
              1,
              "#f0f921"
             ]
            ],
            "type": "heatmap"
           }
          ],
          "heatmapgl": [
           {
            "colorbar": {
             "outlinewidth": 0,
             "ticks": ""
            },
            "colorscale": [
             [
              0,
              "#0d0887"
             ],
             [
              0.1111111111111111,
              "#46039f"
             ],
             [
              0.2222222222222222,
              "#7201a8"
             ],
             [
              0.3333333333333333,
              "#9c179e"
             ],
             [
              0.4444444444444444,
              "#bd3786"
             ],
             [
              0.5555555555555556,
              "#d8576b"
             ],
             [
              0.6666666666666666,
              "#ed7953"
             ],
             [
              0.7777777777777778,
              "#fb9f3a"
             ],
             [
              0.8888888888888888,
              "#fdca26"
             ],
             [
              1,
              "#f0f921"
             ]
            ],
            "type": "heatmapgl"
           }
          ],
          "histogram": [
           {
            "marker": {
             "pattern": {
              "fillmode": "overlay",
              "size": 10,
              "solidity": 0.2
             }
            },
            "type": "histogram"
           }
          ],
          "histogram2d": [
           {
            "colorbar": {
             "outlinewidth": 0,
             "ticks": ""
            },
            "colorscale": [
             [
              0,
              "#0d0887"
             ],
             [
              0.1111111111111111,
              "#46039f"
             ],
             [
              0.2222222222222222,
              "#7201a8"
             ],
             [
              0.3333333333333333,
              "#9c179e"
             ],
             [
              0.4444444444444444,
              "#bd3786"
             ],
             [
              0.5555555555555556,
              "#d8576b"
             ],
             [
              0.6666666666666666,
              "#ed7953"
             ],
             [
              0.7777777777777778,
              "#fb9f3a"
             ],
             [
              0.8888888888888888,
              "#fdca26"
             ],
             [
              1,
              "#f0f921"
             ]
            ],
            "type": "histogram2d"
           }
          ],
          "histogram2dcontour": [
           {
            "colorbar": {
             "outlinewidth": 0,
             "ticks": ""
            },
            "colorscale": [
             [
              0,
              "#0d0887"
             ],
             [
              0.1111111111111111,
              "#46039f"
             ],
             [
              0.2222222222222222,
              "#7201a8"
             ],
             [
              0.3333333333333333,
              "#9c179e"
             ],
             [
              0.4444444444444444,
              "#bd3786"
             ],
             [
              0.5555555555555556,
              "#d8576b"
             ],
             [
              0.6666666666666666,
              "#ed7953"
             ],
             [
              0.7777777777777778,
              "#fb9f3a"
             ],
             [
              0.8888888888888888,
              "#fdca26"
             ],
             [
              1,
              "#f0f921"
             ]
            ],
            "type": "histogram2dcontour"
           }
          ],
          "mesh3d": [
           {
            "colorbar": {
             "outlinewidth": 0,
             "ticks": ""
            },
            "type": "mesh3d"
           }
          ],
          "parcoords": [
           {
            "line": {
             "colorbar": {
              "outlinewidth": 0,
              "ticks": ""
             }
            },
            "type": "parcoords"
           }
          ],
          "pie": [
           {
            "automargin": true,
            "type": "pie"
           }
          ],
          "scatter": [
           {
            "fillpattern": {
             "fillmode": "overlay",
             "size": 10,
             "solidity": 0.2
            },
            "type": "scatter"
           }
          ],
          "scatter3d": [
           {
            "line": {
             "colorbar": {
              "outlinewidth": 0,
              "ticks": ""
             }
            },
            "marker": {
             "colorbar": {
              "outlinewidth": 0,
              "ticks": ""
             }
            },
            "type": "scatter3d"
           }
          ],
          "scattercarpet": [
           {
            "marker": {
             "colorbar": {
              "outlinewidth": 0,
              "ticks": ""
             }
            },
            "type": "scattercarpet"
           }
          ],
          "scattergeo": [
           {
            "marker": {
             "colorbar": {
              "outlinewidth": 0,
              "ticks": ""
             }
            },
            "type": "scattergeo"
           }
          ],
          "scattergl": [
           {
            "marker": {
             "colorbar": {
              "outlinewidth": 0,
              "ticks": ""
             }
            },
            "type": "scattergl"
           }
          ],
          "scattermapbox": [
           {
            "marker": {
             "colorbar": {
              "outlinewidth": 0,
              "ticks": ""
             }
            },
            "type": "scattermapbox"
           }
          ],
          "scatterpolar": [
           {
            "marker": {
             "colorbar": {
              "outlinewidth": 0,
              "ticks": ""
             }
            },
            "type": "scatterpolar"
           }
          ],
          "scatterpolargl": [
           {
            "marker": {
             "colorbar": {
              "outlinewidth": 0,
              "ticks": ""
             }
            },
            "type": "scatterpolargl"
           }
          ],
          "scatterternary": [
           {
            "marker": {
             "colorbar": {
              "outlinewidth": 0,
              "ticks": ""
             }
            },
            "type": "scatterternary"
           }
          ],
          "surface": [
           {
            "colorbar": {
             "outlinewidth": 0,
             "ticks": ""
            },
            "colorscale": [
             [
              0,
              "#0d0887"
             ],
             [
              0.1111111111111111,
              "#46039f"
             ],
             [
              0.2222222222222222,
              "#7201a8"
             ],
             [
              0.3333333333333333,
              "#9c179e"
             ],
             [
              0.4444444444444444,
              "#bd3786"
             ],
             [
              0.5555555555555556,
              "#d8576b"
             ],
             [
              0.6666666666666666,
              "#ed7953"
             ],
             [
              0.7777777777777778,
              "#fb9f3a"
             ],
             [
              0.8888888888888888,
              "#fdca26"
             ],
             [
              1,
              "#f0f921"
             ]
            ],
            "type": "surface"
           }
          ],
          "table": [
           {
            "cells": {
             "fill": {
              "color": "#EBF0F8"
             },
             "line": {
              "color": "white"
             }
            },
            "header": {
             "fill": {
              "color": "#C8D4E3"
             },
             "line": {
              "color": "white"
             }
            },
            "type": "table"
           }
          ]
         },
         "layout": {
          "annotationdefaults": {
           "arrowcolor": "#2a3f5f",
           "arrowhead": 0,
           "arrowwidth": 1
          },
          "autotypenumbers": "strict",
          "coloraxis": {
           "colorbar": {
            "outlinewidth": 0,
            "ticks": ""
           }
          },
          "colorscale": {
           "diverging": [
            [
             0,
             "#8e0152"
            ],
            [
             0.1,
             "#c51b7d"
            ],
            [
             0.2,
             "#de77ae"
            ],
            [
             0.3,
             "#f1b6da"
            ],
            [
             0.4,
             "#fde0ef"
            ],
            [
             0.5,
             "#f7f7f7"
            ],
            [
             0.6,
             "#e6f5d0"
            ],
            [
             0.7,
             "#b8e186"
            ],
            [
             0.8,
             "#7fbc41"
            ],
            [
             0.9,
             "#4d9221"
            ],
            [
             1,
             "#276419"
            ]
           ],
           "sequential": [
            [
             0,
             "#0d0887"
            ],
            [
             0.1111111111111111,
             "#46039f"
            ],
            [
             0.2222222222222222,
             "#7201a8"
            ],
            [
             0.3333333333333333,
             "#9c179e"
            ],
            [
             0.4444444444444444,
             "#bd3786"
            ],
            [
             0.5555555555555556,
             "#d8576b"
            ],
            [
             0.6666666666666666,
             "#ed7953"
            ],
            [
             0.7777777777777778,
             "#fb9f3a"
            ],
            [
             0.8888888888888888,
             "#fdca26"
            ],
            [
             1,
             "#f0f921"
            ]
           ],
           "sequentialminus": [
            [
             0,
             "#0d0887"
            ],
            [
             0.1111111111111111,
             "#46039f"
            ],
            [
             0.2222222222222222,
             "#7201a8"
            ],
            [
             0.3333333333333333,
             "#9c179e"
            ],
            [
             0.4444444444444444,
             "#bd3786"
            ],
            [
             0.5555555555555556,
             "#d8576b"
            ],
            [
             0.6666666666666666,
             "#ed7953"
            ],
            [
             0.7777777777777778,
             "#fb9f3a"
            ],
            [
             0.8888888888888888,
             "#fdca26"
            ],
            [
             1,
             "#f0f921"
            ]
           ]
          },
          "colorway": [
           "#636efa",
           "#EF553B",
           "#00cc96",
           "#ab63fa",
           "#FFA15A",
           "#19d3f3",
           "#FF6692",
           "#B6E880",
           "#FF97FF",
           "#FECB52"
          ],
          "font": {
           "color": "#2a3f5f"
          },
          "geo": {
           "bgcolor": "white",
           "lakecolor": "white",
           "landcolor": "#E5ECF6",
           "showlakes": true,
           "showland": true,
           "subunitcolor": "white"
          },
          "hoverlabel": {
           "align": "left"
          },
          "hovermode": "closest",
          "mapbox": {
           "style": "light"
          },
          "paper_bgcolor": "white",
          "plot_bgcolor": "#E5ECF6",
          "polar": {
           "angularaxis": {
            "gridcolor": "white",
            "linecolor": "white",
            "ticks": ""
           },
           "bgcolor": "#E5ECF6",
           "radialaxis": {
            "gridcolor": "white",
            "linecolor": "white",
            "ticks": ""
           }
          },
          "scene": {
           "xaxis": {
            "backgroundcolor": "#E5ECF6",
            "gridcolor": "white",
            "gridwidth": 2,
            "linecolor": "white",
            "showbackground": true,
            "ticks": "",
            "zerolinecolor": "white"
           },
           "yaxis": {
            "backgroundcolor": "#E5ECF6",
            "gridcolor": "white",
            "gridwidth": 2,
            "linecolor": "white",
            "showbackground": true,
            "ticks": "",
            "zerolinecolor": "white"
           },
           "zaxis": {
            "backgroundcolor": "#E5ECF6",
            "gridcolor": "white",
            "gridwidth": 2,
            "linecolor": "white",
            "showbackground": true,
            "ticks": "",
            "zerolinecolor": "white"
           }
          },
          "shapedefaults": {
           "line": {
            "color": "#2a3f5f"
           }
          },
          "ternary": {
           "aaxis": {
            "gridcolor": "white",
            "linecolor": "white",
            "ticks": ""
           },
           "baxis": {
            "gridcolor": "white",
            "linecolor": "white",
            "ticks": ""
           },
           "bgcolor": "#E5ECF6",
           "caxis": {
            "gridcolor": "white",
            "linecolor": "white",
            "ticks": ""
           }
          },
          "title": {
           "x": 0.05
          },
          "xaxis": {
           "automargin": true,
           "gridcolor": "white",
           "linecolor": "white",
           "ticks": "",
           "title": {
            "standoff": 15
           },
           "zerolinecolor": "white",
           "zerolinewidth": 2
          },
          "yaxis": {
           "automargin": true,
           "gridcolor": "white",
           "linecolor": "white",
           "ticks": "",
           "title": {
            "standoff": 15
           },
           "zerolinecolor": "white",
           "zerolinewidth": 2
          }
         }
        },
        "title": {
         "text": "Outlier Detection using the multidimensional data"
        },
        "xaxis": {
         "anchor": "y",
         "domain": [
          0,
          1
         ],
         "title": {
          "text": "PC1"
         }
        },
        "yaxis": {
         "anchor": "x",
         "domain": [
          0,
          1
         ],
         "title": {
          "text": "PC2"
         }
        }
       }
      }
     },
     "metadata": {},
     "output_type": "display_data"
    }
   ],
   "source": [
    "clf = LocalOutlierFactor(n_neighbors=5)\n",
    "#Estandarizo los datos\n",
    "scaler = StandardScaler()\n",
    "df_scaled = scaler.fit_transform(df)\n",
    "clf.fit_predict(df_scaled) \n",
    "outlierness = clf.negative_outlier_factor_\n",
    "df[\"outlierness\"] = abs(outlierness)\n",
    "\n",
    "\n",
    "# 2. Aplicar PCA (aquí pedimos 2 componentes principales como ejemplo)\n",
    "pca = PCA(n_components=2)\n",
    "pca_components = pca.fit_transform(df_scaled)\n",
    "print(\"Proporcion de varianza explicada por las primeras dos CP: \", np.sum(pca.explained_variance_ratio_))\n",
    "df_pca = pd.DataFrame(pca_components, columns=['PC1', 'PC2'])\n",
    "df_pca[\"outlierness\"] = df[\"outlierness\"]\n",
    "\n",
    "\n",
    "fig = px.scatter(df_pca, x=\"PC1\", y=\"PC2\", title=\"Gráfico de Dispersión\", color=\"outlierness\")\n",
    "fig.update_layout(\n",
    "    title=\"Outlier Detection using the multidimensional data\",\n",
    "    xaxis_title=\"PC1\",\n",
    "    yaxis_title=\"PC2\"\n",
    ")\n",
    "fig.show()"
   ]
  },
  {
   "cell_type": "code",
   "execution_count": 8,
   "metadata": {},
   "outputs": [
    {
     "data": {
      "image/png": "[encoded data removed]",
      "text/plain": [
       "<Figure size 640x480 with 1 Axes>"
      ]
     },
     "metadata": {},
     "output_type": "display_data"
    }
   ],
   "source": [
    "sns.kdeplot(df[\"outlierness\"], color=\"blue\", fill=False, label=\"multidimensional data\")\n",
    "sns.kdeplot(df_red[\"outlierness\"], color=\"lightblue\", fill=False, label=\"bidimensional data\")\n",
    "plt.axvline(x=1.8, color=\"green\", linestyle=\":\", label=f\"bound\")\n",
    "plt.title(\"Outlierness distribution comparison\")\n",
    "plt.xlabel(\"outlierness\")\n",
    "plt.ylabel(\"Density\")\n",
    "plt.legend()\n",
    "plt.show()"
   ]
  },
  {
   "cell_type": "code",
   "execution_count": 9,
   "metadata": {},
   "outputs": [
    {
     "data": {
      "application/vnd.plotly.v1+json": {
       "config": {
        "plotlyServerURL": "https://plot.ly"
       },
       "data": [
        {
         "hovertemplate": "outlier=False<br>PC1=%{x}<br>PC2=%{y}<extra></extra>",
         "legendgroup": "False",
         "marker": {
          "color": "#636efa",
          "symbol": "circle"
         },
         "mode": "markers",
         "name": "False",
         "orientation": "v",
         "showlegend": true,
         "type": "scatter",
         "x": [
          -2.0873438632224874,
          -1.3733815266826146,
          -2.3765533593056842,
          -2.8377793677904184,
          -2.7729155022637046,
          -2.3009187148111883,
          -1.3094663031348621,
          -0.9292107342806796,
          0.05182176888642483,
          -0.9081570336264017,
          -0.6440154524104057,
          -1.0801225221977733,
          -1.3607195496169728,
          -0.6196222920559431,
          -0.19979024137280926,
          -0.5863861792281503,
          -1.0472469938319993,
          0.03260622965277828,
          -0.1338310593588809,
          0.8178450284180188,
          0.045689381417787014,
          0.3684059099439247,
          0.6035093348418755,
          0.27153179129068467,
          0.5259826359993782,
          0.1648015830135212,
          0.43380318428031944,
          -0.11770984458107973,
          -0.3019904343740174,
          0.7996442653959518,
          0.26752330219974035,
          1.1286580446984744,
          0.6822924008605423,
          0.9185176222327257,
          -0.673855046135611,
          -0.6353517373077561,
          -1.1134003359651239,
          -1.2917889939487743,
          -3.565396928089735,
          -3.9736511316094814,
          -2.7284529745832784,
          -2.430861909408161,
          -2.3788990152534493,
          -1.780518595368373,
          -1.5770938268661547,
          -1.460280433307195,
          -0.7512395500557728,
          -1.1361846493144736,
          -2.0047170312197555,
          -2.0624764355007708,
          -2.937155544325174,
          -2.601936733924215,
          -1.8741723195898516,
          -4.6642698686675175,
          -3.9330952608639844,
          -4.499879193882089,
          -2.283669139990226,
          -1.7099241781902914,
          -1.2942955349297116,
          -0.8423732774263045,
          -1.870770193714652,
          -2.2809806538556563,
          -3.296367103583213,
          -3.595850378004899,
          -2.9477187889934875,
          -2.070398877007535,
          -1.4736980372478583,
          -1.8873838068271347,
          -1.9828948966935276,
          -1.5089144556867262,
          -1.8956503178543331,
          -1.86124781849215,
          -1.4885952467828554,
          -0.9177798484650386,
          -0.34667702864353084,
          -0.7415367033534565,
          -0.7365106903009285,
          -0.8765171298917401,
          -2.587209479837671,
          -1.9602524075615415,
          -2.322981625251606,
          -2.027756991694368,
          -1.7783832727548103,
          -1.9171685371786693,
          -1.4669710642189195,
          -1.4595741942156457,
          -1.5287606996388838,
          -1.9311134883583372,
          -1.3415172333343366,
          -1.2680285739672181,
          -1.2992348819539152,
          -1.6426165666390233,
          -0.8172004966987264,
          -1.8511514874202946,
          -1.2583639336446493,
          -2.565541275300619,
          -3.0762865968029085,
          -2.2748652771571267,
          -0.40087633556129576,
          -0.5685026093993021,
          0.27358633419240014,
          0.2641449764269529,
          0.6657218893794092,
          0.6977978569528417,
          0.34599544863360265,
          0.24899568831020424,
          0.40882452212037695,
          -0.19028236578640634,
          -0.22403882617611054,
          0.5551425801888468,
          0.5421366168484579,
          0.1496776263330867,
          0.5897336653464746,
          -0.03755762326404561,
          0.09146684963764687,
          0.3788325818171109,
          0.13772590321129702,
          0.5424649998532644,
          0.7341619857651593,
          1.0088332577153238,
          1.540425911680706,
          1.1060073356737408,
          0.7923073486489536,
          1.7800133111113945,
          1.917619262905528,
          1.5912537722741749,
          2.005462206036687,
          1.3889512985937806,
          1.386391879550357,
          1.2258087262078592,
          1.6286370002921025,
          1.64737629875463,
          1.7781455644846627,
          1.573133440805954,
          2.174751381656918,
          1.829022238043021,
          2.1559618340705735,
          2.594900200783247,
          2.523731230401062,
          2.8714912166223847,
          2.8783721944017517,
          2.4721948234355193,
          2.7551999816128463,
          2.57837283100768,
          2.264004060022576,
          1.5511773436261582,
          1.8729887837747226,
          1.8971840622673586,
          2.0700399738327726,
          1.7768961448419616,
          2.2277331709328227,
          2.712912688087258,
          -0.45068627958455526,
          0.444771720065079,
          1.1132658931892288,
          0.1991905327998433,
          -1.0856854153661422,
          -1.1416725049796266,
          -1.315105372799093,
          0.5355546182572207,
          0.7031715597889816,
          -1.0539553259160148,
          0.7338623277669863,
          0.6497227816726056,
          0.5795000933412507,
          1.026593762726726,
          0.8156478064785392,
          -0.42645919411063526,
          -0.983358981197276,
          -0.9330338974749762,
          -1.949578828259793,
          -1.324811284917898,
          -1.3126418427624547,
          -1.5191758491387477,
          -2.3084267381367747,
          -2.222152162957159,
          -1.772154286257914,
          -2.006828626349207,
          -1.632109690376239,
          -0.8846781814181742,
          -1.4277864436527143,
          -3.045535790344348,
          -2.695529441915489,
          -2.8708307814255987,
          -3.0923554523135928,
          -3.511627218581248,
          -3.2079681389975354,
          -3.634185978112323,
          -4.062131873550503,
          -3.846111414121027,
          -4.999993210191798,
          -4.614645914677559,
          -4.1594311692285615,
          -4.483325606734161,
          -4.362940808091048,
          -4.343939313587514,
          -3.4096288933397942,
          -4.788307801393249,
          -4.919802986316224,
          -5.0655704640050105,
          -1.1830232163780199,
          -1.0886895872413944,
          -0.3414947054756665,
          -0.7590617815153085,
          0.4030506303089919,
          -0.16153861131924005,
          0.3561396347442338,
          -0.5582371169790273,
          -1.4178883563110984,
          -1.1768076620777823,
          -0.47390852488806984,
          -0.7311592049354665,
          0.1763880337617632,
          -0.38801491704162205,
          -0.8885269787575285,
          -0.0062117924905112885,
          -1.0432521185920127,
          -1.106729337722815,
          -2.124718212592536,
          -2.3246823496530937,
          -1.8566425623235068,
          -1.3239899092363332,
          -2.7216014642700084,
          -1.915404077296747,
          -0.7389294973128152,
          -1.5509050528378685,
          -2.3008699975990847,
          -2.3978554879562597,
          -1.2366103243256636,
          -0.855041978457758,
          -1.0545136594759605,
          -1.695934859149106,
          -2.743826886003355,
          -2.4831005927782317,
          -2.262879891612937,
          -1.824898456275306,
          -2.194251943632021,
          -2.990919345138914,
          -1.1910554537585465,
          -1.0633119156874002,
          -2.168037631331376,
          -1.554575361485359,
          -2.041207742168608,
          -2.676097460422237,
          -2.5794251021982557,
          -2.6775070822385523,
          -3.2287558823688247,
          -3.746668699711394,
          -3.6751601390190305,
          -4.692007069119529,
          -2.6421271708492626,
          -1.582795909770597,
          -1.3438318568990713,
          -1.6498349422364145,
          -2.0273036904366264,
          -2.501376356782859,
          -1.3864057298422652,
          -1.6539360085759753,
          -1.2259150988718055,
          -2.913449143272036,
          -2.902082244748743,
          -1.201582826346359,
          -1.4689572958822343,
          -2.272805712729445,
          -1.7628189697883632,
          -2.603849007983583,
          -2.8492172088420267,
          -2.790764522558029,
          -2.8222070578119736,
          -3.0213719243384918,
          -2.510809755421256,
          -3.1195612424544055,
          -3.4846333408306043,
          -3.28885816460952,
          -3.7108385627891263,
          -5.556874090188458,
          -4.403717092666128,
          -3.45857656426242,
          -3.40926101797224,
          -2.9764382528648388,
          -2.8096492867593152,
          -3.0565853895275534,
          -3.4122746053427995,
          -3.7414145092793514,
          -3.315807266068338,
          -1.8637312810229245,
          -1.4339679953204842,
          -2.1896033935594894,
          -1.8431543614631547,
          -1.0409837861132687,
          -3.648426205028819,
          -4.16232004334578,
          -3.5801830201756113,
          -2.2244832711563602,
          -2.565496190363626,
          -3.0888416824474145,
          -2.766082746604281,
          -2.0035574369567115,
          -2.3112886095365486,
          -1.9785856939604056,
          -0.7914523748298216,
          -0.323716489305749,
          0.03838843067981313,
          -0.769332661927135,
          -0.05581141909037451,
          -0.49115991323222513,
          -0.5844818582612795,
          -0.17274820683214864,
          0.08320193658780893,
          -0.18258669589167378,
          -0.6639867512907354,
          -0.5772393461583245,
          -1.2933116431371623,
          -1.2514390781157565,
          -1.1073581740692338,
          -0.5114314000501984,
          -1.5216600483328286,
          -1.9240583468447905,
          -1.650370742613769,
          -1.1166143905748873,
          -1.5397857614085058,
          -1.9599135527693967,
          -1.6689557914038138,
          -2.1632023808972,
          -2.5104463961458503,
          -1.7989272501324631,
          -1.7024448187993035,
          -1.571464550459857,
          -1.166990608189111,
          -1.0218695534839068,
          -1.3441866212238198,
          -1.1381628838005373,
          -1.005658240662366,
          -3.5817966454438075,
          -1.6373401586426426,
          -2.3160022705332275,
          -3.074869861383177,
          -1.6676131632719255,
          -1.4456478352852669,
          -3.462784634943629,
          -3.759762132994569,
          -3.2948131993893797,
          -2.9634901338328112,
          -3.4737315099063655,
          -3.2433269666818263,
          -4.78788488739218,
          -3.070539861119077,
          -3.3362995887448,
          2.581648431247479,
          2.4701467865806395,
          2.540831638473897,
          2.2877970792780418,
          2.8536069233829844,
          2.921365907271611,
          3.1117793806714467,
          1.4606202026418014,
          3.0300929474928426,
          3.164217548952101,
          3.9737215513350983,
          1.6894718423944912,
          1.180159170583205,
          1.0680404589581847,
          1.8309270142507819,
          4.389265676106796,
          4.964494165153958,
          3.4838267569581625,
          3.201149078556473,
          3.7918710820042625,
          3.7219539181207244,
          5.209705953133903,
          3.4866879005981173,
          3.7703636904811044,
          3.7608943775195547,
          4.96103534562411,
          4.495686942251943,
          4.69809440724185,
          4.680641996348449,
          4.493779222240531,
          3.624966542977708,
          3.1875127831686823,
          2.7270210127008125,
          4.0609154352816015,
          2.9970281179204865,
          3.3252837034073757,
          3.109530239722648,
          3.130770875386538,
          3.5567050260015676,
          5.097804079678563,
          4.006649238417046,
          4.37013287836867,
          3.6365890990829675,
          3.3811127936757543,
          4.105284455725766,
          4.8976873930361595,
          5.567703181794361,
          4.469987379581142,
          2.911496694839932,
          3.5313369094484863,
          3.0972726649836044,
          4.777563222050253,
          3.80679673420504,
          4.240885756886997,
          6.4385588276608425,
          4.820570327840268,
          4.281827700384041,
          4.866104721736808,
          6.1352536995880955,
          4.0422194784665795,
          3.219477714037346,
          3.2696107900630134,
          2.9303514662655434,
          3.8606014505816364,
          3.6011717208869753,
          4.660974851943746,
          3.448314374225212,
          3.753682559825187,
          4.1683475412682105,
          3.2993368738828077,
          3.390696969682736,
          2.756501354566738,
          3.4436560156603035,
          3.8613876274830177,
          4.031913189519107,
          4.235955174569235,
          4.861803644380053,
          4.978291932958343,
          3.689233770029662,
          4.01311242441671,
          3.2254005550902787,
          3.016540225860647,
          3.2696946930548108,
          4.172156974976898,
          4.310183277701811,
          3.2727038009554303,
          3.2413004490847777,
          3.1930599442341423,
          3.3650890417974786,
          3.7284861512701792,
          2.9694161823070218,
          2.8830855320447797,
          3.8029695518703814,
          3.5581825747624607,
          3.8749475261364656,
          3.7791515925247356,
          3.045437132213147,
          2.6152602823148188,
          2.941173761499444,
          2.5823060329301772,
          2.5092841312174308,
          2.3173082211989082,
          2.1038805061729535,
          2.1238170258493176,
          3.3298498472247395,
          2.7966611234567536,
          2.601812869930887,
          2.217007290952191,
          2.1709556798263216,
          1.9336757146768373,
          1.8229040110622363,
          1.4962155032164282,
          3.059806565934016,
          3.235471248895738,
          2.5928648740631832,
          3.7972165751560385,
          2.950441693322273,
          2.572656993602419,
          1.464609360060855,
          1.2923834838055952,
          1.1398085457933966,
          1.194767218332982,
          1.574211472552292,
          1.3745088493526336,
          2.0906987007968976,
          1.7138280843318632,
          2.6675456808268057,
          3.3544214707906206,
          3.7077142200433837,
          2.6287572767535012,
          0.07344022754379068,
          -0.11662138789120549,
          -0.026869228370407085,
          0.7682841545082048,
          0.34665825783573123,
          0.15773021761554953,
          0.5788955290797597,
          0.4836818254889,
          -0.30282026821484187,
          -0.043394778631477525,
          -0.36818964903480506,
          -0.26431734002729834,
          0.1952351272037195
         ],
         "xaxis": "x",
         "y": [
          0.4928532917496087,
          -0.17092377858090216,
          0.9140271760080189,
          0.19486997481109655,
          0.433299189909235,
          -0.32867972211747926,
          -0.22084873252233758,
          0.09832669300100114,
          -1.0434350490409996,
          -0.5519111122574775,
          -0.48371977741238986,
          -0.4028015983161099,
          -0.6858279480790199,
          -0.8981602071599597,
          -0.7231306828714141,
          -1.013149891989653,
          -1.0000205374740778,
          -0.9372283021730574,
          -1.002805489119628,
          -1.3411008206114163,
          -0.7147857647387598,
          -0.9288182981979952,
          -1.1410446913491021,
          -1.022974660444884,
          -1.4264034876167238,
          -1.0890053603168512,
          -1.098663486254964,
          -0.4442583290254396,
          -0.2174383700884249,
          -1.45597968006857,
          -0.8095539465305323,
          -1.538905525268302,
          -1.2402651020200468,
          -1.0461404589510659,
          -0.5892937812725006,
          -0.7135331052657224,
          -0.8585047797472621,
          -0.7374725183501797,
          -0.7963720241102582,
          -0.32215474525173887,
          -0.4885394959902225,
          -0.9169096236852861,
          -0.9638190348239871,
          -0.9717234429422086,
          -1.2712803698707758,
          -1.288981758085933,
          -1.0528202700019293,
          -1.3927734651648511,
          -1.3644357167593084,
          -0.9582875830563183,
          -0.7655344975235991,
          -1.2462599971293795,
          -2.6096438485552773,
          -0.8628700378733143,
          -1.7800627975686434,
          -0.690794731663188,
          -1.6265724471526792,
          -1.687573291452679,
          -1.8321139314789434,
          -1.5439992240644094,
          -1.0238204594931941,
          -1.1325044237721396,
          -0.5200211887585668,
          -1.3534848514560136,
          -1.8971099735158259,
          -1.629188447907967,
          -2.026149737599696,
          -1.5905541712332167,
          -0.9542765402267067,
          -1.3480441904949303,
          -1.1926981624886719,
          -1.1289256059370218,
          -0.703865469286751,
          -0.5728888840494208,
          -0.38334930472704454,
          -0.6508279253843574,
          -0.7174533413480981,
          -0.9593565054053563,
          -0.5171632475020721,
          -0.4957544433305012,
          -0.9872412832019093,
          -1.052594553509365,
          -0.5367861074778387,
          -0.037932100125523914,
          -0.8942138125437548,
          -0.49458083561070365,
          0.7005952766746534,
          0.7726977299726481,
          0.06195559369893028,
          0.11537938284233394,
          -0.17066441621343587,
          -0.3849458319963713,
          -0.24131144594412543,
          0.24116862846591744,
          -0.3966544301157219,
          1.881389465598681,
          1.6298387247500297,
          1.0308812762406507,
          0.38446715649385016,
          0.32632482429877463,
          -0.4111874979108067,
          -0.24834107888973167,
          -0.4734751895876626,
          -0.6065578076695308,
          -0.30303335158857336,
          -0.006835789441862387,
          -0.3461912182138006,
          -0.5624229858664991,
          0.7052978245453957,
          0.004623121784544943,
          0.07536006992354596,
          0.29748804189929334,
          -0.07475224853679413,
          0.14740074583520058,
          0.09453790604053042,
          -0.140427676156062,
          -0.3372068667521791,
          0.13362781678712754,
          0.2772161501848195,
          0.2573490358717257,
          -0.1139555340265105,
          0.17513636025232462,
          0.38022519667871457,
          -0.3798861397897606,
          -0.27373688575773014,
          0.3431860670041968,
          -0.48093270442054237,
          0.444724160012876,
          0.34892616347023697,
          0.5677795654223291,
          -0.14996641710408987,
          0.18548825044854958,
          -0.11163203912439458,
          0.325296843990245,
          -0.38841737049780645,
          0.0883122037889938,
          -0.2729949067211896,
          2.2998354219125985,
          0.8180478301609293,
          0.20471666904562077,
          1.0481654578887558,
          1.123487900376664,
          0.31034526435961285,
          0.6210714431746573,
          0.959042555488885,
          1.8071820279180602,
          1.3160302292876491,
          2.405662663444779,
          1.376713850180409,
          3.1356302518797263,
          2.877592006217374,
          0.6779805047742702,
          2.9148686294532253,
          1.53836015669684,
          2.3225868150661273,
          3.348224086532868,
          3.6787196605619936,
          5.543484514320679,
          5.7998467499040185,
          0.998514372404897,
          1.2987923690047127,
          3.926703003498277,
          0.8893553368463776,
          1.4204014747858411,
          1.3652279253922626,
          0.6794779790239674,
          0.8716680337548501,
          -0.06478291486984337,
          0.5913228505618876,
          0.02892792341092818,
          0.5010387437139949,
          -0.20026569670659228,
          0.4415522197391018,
          1.0939821404069707,
          1.1780962953050786,
          1.9633466460244415,
          0.5629068703005428,
          1.660134149973645,
          1.0155578120221451,
          -0.18625423531383126,
          0.08640805024518461,
          2.231893386658996,
          0.44905009635760784,
          0.01509632726454222,
          0.7226833328797033,
          0.19455188174587526,
          -0.149979015419556,
          0.41694201783595014,
          -0.503729576344756,
          -0.625830850424474,
          1.4947545068665702,
          0.2663783007799183,
          -0.10725378156739337,
          0.28717186241238146,
          -0.8264072552732276,
          -0.8377358571995212,
          -1.0396523186018949,
          0.6492913496104546,
          1.3735462718944493,
          1.5717658302894775,
          -0.8475055850635089,
          -0.28586821155146647,
          -0.7283895137239699,
          1.1441177789108283,
          0.6910591387926619,
          1.245895681381345,
          0.5994603952945411,
          0.9029760976716348,
          -0.15056321962288824,
          -0.3272310193582414,
          1.700964517391915,
          1.1343937815057856,
          1.9169777405895578,
          2.3650248962685994,
          2.6008073819198976,
          1.53537475492646,
          2.4163695150628093,
          0.8588310038209683,
          2.720857403530148,
          3.283644384058008,
          2.282167394985419,
          1.2924794274385074,
          1.8088975140946915,
          0.4166453273240379,
          -0.1272689356371424,
          1.377796703601525,
          2.45914694789582,
          2.686195905863559,
          2.271503187243115,
          -0.10519096696738799,
          1.9973884945181608,
          1.2292394863655198,
          -0.8554401715462636,
          -0.6054412475354147,
          -0.5125309198217937,
          -1.0281916262538537,
          -0.9692603667850465,
          -1.121970345743984,
          -1.924374189058289,
          -2.094871566417516,
          -1.5854176542267184,
          -1.3173111265847957,
          -1.2175444551187395,
          -1.1626879560609398,
          -1.3412145451183972,
          -1.3310735006412373,
          -1.0496499323572832,
          -1.9760210122512891,
          -2.3621412527317114,
          0.5542139898020935,
          4.25397485824452,
          2.756031332033386,
          2.174582643164492,
          2.3164452806992117,
          3.0929047757613586,
          3.9436030858935203,
          2.33193714691638,
          2.611362769567782,
          1.9207302509810067,
          3.4873244394279337,
          2.573730992537823,
          0.7291142828651418,
          -1.1604798010507524,
          -0.779059380602776,
          -0.18609549106615497,
          2.5581187389805415,
          1.7852061053392871,
          0.2812139161804135,
          2.0928680402765045,
          1.6592218485563606,
          -0.28522718081436527,
          0.7373395356138945,
          2.086243192416014,
          0.7065993614528969,
          3.418228373623607,
          3.0377351735123015,
          -0.5835837263675314,
          -1.1925224115063544,
          -2.4800509917219937,
          -1.3249831580140325,
          -1.1836872922813917,
          -1.1793401281278493,
          -0.769747182976972,
          -0.17483252266098995,
          -1.021941285506211,
          -0.5492208921074947,
          -0.5588200563469273,
          0.12328398916593507,
          0.12289948652125038,
          -0.9101445083874175,
          -1.3305157088019675,
          -0.671376606078465,
          -0.6655105386288926,
          -0.5469947053120825,
          -0.5768605434782347,
          0.15162207114118104,
          0.5436767240454137,
          -0.0003763700084879333,
          0.9831082723814419,
          0.31947496578793627,
          0.6010058606706231,
          -0.09924352551256498,
          -1.286983750236759,
          0.04771278284092925,
          0.012686968222624715,
          0.23276762987336036,
          0.4700784917095099,
          -0.6398283439090224,
          -0.5861888981024722,
          -0.6132777959566743,
          0.11679759949673597,
          -0.37623707935494977,
          -0.3712943725595264,
          -0.4083921107124451,
          -0.8425649227263631,
          -1.0297348734288698,
          -0.43463072586644896,
          -0.7682990796443316,
          -0.8180189870211311,
          -1.0481859948930972,
          -1.1287272919576758,
          -0.6889355152879372,
          -0.9661739840511463,
          -1.856697417651884,
          -1.4709209054617458,
          -1.0168788886816793,
          -1.1196936636292065,
          -1.2587600767709743,
          -1.2525782728908499,
          -1.2493738945876227,
          -1.057444320846886,
          -1.1403452241200986,
          -1.0314792287798855,
          0.29717864412551165,
          -0.438263721874063,
          -0.5039464556272248,
          -0.3576777204809451,
          -1.7102531915652832,
          -1.8280373243602523,
          -1.7290814245307278,
          -1.394050002341427,
          -1.3078698647886469,
          -1.6737677114655645,
          -1.9007231026639995,
          -2.8164170414455545,
          -1.7313336235928514,
          -3.5904227947752405,
          -3.2601122047162194,
          2.4387975233967767,
          2.2553490804345473,
          0.6120954630691897,
          1.0964284012028163,
          0.6432119984991624,
          0.3398916792125067,
          1.8668636625015893,
          4.053783885320109,
          -0.48426463851342766,
          -0.07864460356366783,
          -0.8809224976474723,
          1.5576230948828618,
          4.1822502158426085,
          4.440886339787376,
          3.562894220523114,
          -1.056887593427597,
          -1.6723199444284516,
          0.2244705091830852,
          0.44189095566855296,
          -0.02772995450883344,
          -0.13277826885683622,
          -0.1579023229488583,
          0.10509654208085735,
          -0.4576500344708669,
          -0.42896681487982274,
          -1.672401146224093,
          -1.0694161442092744,
          -1.2722419187509506,
          -1.4040039073296462,
          -1.1625275824192856,
          -0.48812536794096734,
          -0.05163832148828399,
          0.3357616754670093,
          -0.9814275092217118,
          0.19173850493334083,
          -0.09917078622269666,
          0.3413163314655251,
          0.21364822467125968,
          -0.3830608461577867,
          -1.2346736027379122,
          -0.9139393438664277,
          -0.682618376857468,
          -0.11769391014759498,
          0.17604166122124798,
          -0.8035048172958229,
          -1.1256037544803268,
          -1.096964576356472,
          -1.40315940044726,
          0.6346100273427846,
          -0.4352834267111412,
          0.938238774584764,
          -0.3950092578009873,
          0.2287611177124613,
          -0.7828150464542538,
          -2.070662341163862,
          -0.5197663953971277,
          -0.22673840055369535,
          -1.0956063151335533,
          -0.9221406553762009,
          -0.11319285603354419,
          0.541629872087312,
          0.13630209611816513,
          -0.07988844266279695,
          -0.49694332258760876,
          -0.9592510801498644,
          -0.7116935732511911,
          -0.9322737703009539,
          -0.3899625834539029,
          -0.28833835188157264,
          -0.1822767242646634,
          0.09759528377011886,
          -0.008838658799049715,
          0.18477758700633184,
          -0.03452612517173625,
          0.17563940595961222,
          -0.005091391314590402,
          -0.41065222491455,
          -0.8401157276249591,
          -0.3190297835226323,
          -0.41147399847257443,
          0.44813172285261066,
          0.5482576995655954,
          0.472643030403968,
          -0.3611432026825439,
          -0.0174208018179463,
          0.3482382498210646,
          0.19222946227927856,
          0.13265832132490044,
          0.18583748042168,
          0.3047749080457934,
          0.484929365827604,
          0.2700141908683411,
          0.29344887579374596,
          0.13484322060240064,
          -0.32009109783649387,
          -0.38104762336273035,
          0.04472104951624616,
          0.25999125619615704,
          0.46693374146884425,
          0.41736848604379806,
          0.387005498944005,
          0.7043601896720485,
          0.095465982662212,
          -0.4401984648665308,
          -0.173871620558131,
          -0.17898531966794798,
          -0.5003944983220121,
          -0.5791669823854446,
          -0.06750310689878215,
          0.00003868747560487352,
          0.2587045533704015,
          1.044781886463523,
          -0.6965520752441878,
          -0.3794308974241691,
          0.189768203356713,
          -0.9653880692509842,
          -0.0726472132266041,
          0.3491590928927831,
          -0.07656626323718173,
          0.46604523435086087,
          0.7483179796675058,
          -0.7414999686406561,
          -0.62691901455879,
          -0.2052044512660835,
          -0.23336552140826863,
          -0.36413405711332897,
          -0.27895505160150086,
          -0.8195341477050948,
          -1.1476932084846616,
          0.01767619121554601,
          -0.35200299222829656,
          -0.23675677103511591,
          -0.775151772907627,
          -0.8043694171602234,
          -0.46096582641665107,
          -0.11439902093517183,
          -0.5556893157885582,
          -0.24410013124605123,
          0.14275776517977593,
          -0.11568886126061978,
          0.8231623970069577,
          0.5400161992547085,
          -0.5579764831669264
         ],
         "yaxis": "y"
        },
        {
         "hovertemplate": "outlier=True<br>PC1=%{x}<br>PC2=%{y}<extra></extra>",
         "legendgroup": "True",
         "marker": {
          "color": "#EF553B",
          "symbol": "circle"
         },
         "mode": "markers",
         "name": "True",
         "orientation": "v",
         "showlegend": true,
         "type": "scatter",
         "x": [
          -0.2211207422436203,
          0.088783521385586,
          0.7710063510111631,
          2.167170617100188,
          3.03623590139196,
          -0.2346997620922847,
          -3.9859143584432757,
          -0.9940820091916647,
          3.232659829468422,
          1.768695102767262,
          2.933699655091888,
          5.090719452683975,
          4.487225679198498,
          2.670079218238204,
          2.0237669110899206
         ],
         "xaxis": "x",
         "y": [
          -1.4198177285729547,
          -1.8274017849316044,
          -0.31273068433446766,
          -0.3826576416813209,
          -1.1759201973764326,
          -1.6870635681987873,
          0.41006160141082426,
          0.5873880111994305,
          2.0959735680538945,
          2.14311728932546,
          0.9889213427822975,
          -1.4056619538907225,
          -0.42866604125281327,
          1.073066800439602,
          0.2846045410092732
         ],
         "yaxis": "y"
        }
       ],
       "layout": {
        "legend": {
         "title": {
          "text": "outlier"
         },
         "tracegroupgap": 0
        },
        "template": {
         "data": {
          "bar": [
           {
            "error_x": {
             "color": "#2a3f5f"
            },
            "error_y": {
             "color": "#2a3f5f"
            },
            "marker": {
             "line": {
              "color": "#E5ECF6",
              "width": 0.5
             },
             "pattern": {
              "fillmode": "overlay",
              "size": 10,
              "solidity": 0.2
             }
            },
            "type": "bar"
           }
          ],
          "barpolar": [
           {
            "marker": {
             "line": {
              "color": "#E5ECF6",
              "width": 0.5
             },
             "pattern": {
              "fillmode": "overlay",
              "size": 10,
              "solidity": 0.2
             }
            },
            "type": "barpolar"
           }
          ],
          "carpet": [
           {
            "aaxis": {
             "endlinecolor": "#2a3f5f",
             "gridcolor": "white",
             "linecolor": "white",
             "minorgridcolor": "white",
             "startlinecolor": "#2a3f5f"
            },
            "baxis": {
             "endlinecolor": "#2a3f5f",
             "gridcolor": "white",
             "linecolor": "white",
             "minorgridcolor": "white",
             "startlinecolor": "#2a3f5f"
            },
            "type": "carpet"
           }
          ],
          "choropleth": [
           {
            "colorbar": {
             "outlinewidth": 0,
             "ticks": ""
            },
            "type": "choropleth"
           }
          ],
          "contour": [
           {
            "colorbar": {
             "outlinewidth": 0,
             "ticks": ""
            },
            "colorscale": [
             [
              0,
              "#0d0887"
             ],
             [
              0.1111111111111111,
              "#46039f"
             ],
             [
              0.2222222222222222,
              "#7201a8"
             ],
             [
              0.3333333333333333,
              "#9c179e"
             ],
             [
              0.4444444444444444,
              "#bd3786"
             ],
             [
              0.5555555555555556,
              "#d8576b"
             ],
             [
              0.6666666666666666,
              "#ed7953"
             ],
             [
              0.7777777777777778,
              "#fb9f3a"
             ],
             [
              0.8888888888888888,
              "#fdca26"
             ],
             [
              1,
              "#f0f921"
             ]
            ],
            "type": "contour"
           }
          ],
          "contourcarpet": [
           {
            "colorbar": {
             "outlinewidth": 0,
             "ticks": ""
            },
            "type": "contourcarpet"
           }
          ],
          "heatmap": [
           {
            "colorbar": {
             "outlinewidth": 0,
             "ticks": ""
            },
            "colorscale": [
             [
              0,
              "#0d0887"
             ],
             [
              0.1111111111111111,
              "#46039f"
             ],
             [
              0.2222222222222222,
              "#7201a8"
             ],
             [
              0.3333333333333333,
              "#9c179e"
             ],
             [
              0.4444444444444444,
              "#bd3786"
             ],
             [
              0.5555555555555556,
              "#d8576b"
             ],
             [
              0.6666666666666666,
              "#ed7953"
             ],
             [
              0.7777777777777778,
              "#fb9f3a"
             ],
             [
              0.8888888888888888,
              "#fdca26"
             ],
             [
              1,
              "#f0f921"
             ]
            ],
            "type": "heatmap"
           }
          ],
          "heatmapgl": [
           {
            "colorbar": {
             "outlinewidth": 0,
             "ticks": ""
            },
            "colorscale": [
             [
              0,
              "#0d0887"
             ],
             [
              0.1111111111111111,
              "#46039f"
             ],
             [
              0.2222222222222222,
              "#7201a8"
             ],
             [
              0.3333333333333333,
              "#9c179e"
             ],
             [
              0.4444444444444444,
              "#bd3786"
             ],
             [
              0.5555555555555556,
              "#d8576b"
             ],
             [
              0.6666666666666666,
              "#ed7953"
             ],
             [
              0.7777777777777778,
              "#fb9f3a"
             ],
             [
              0.8888888888888888,
              "#fdca26"
             ],
             [
              1,
              "#f0f921"
             ]
            ],
            "type": "heatmapgl"
           }
          ],
          "histogram": [
           {
            "marker": {
             "pattern": {
              "fillmode": "overlay",
              "size": 10,
              "solidity": 0.2
             }
            },
            "type": "histogram"
           }
          ],
          "histogram2d": [
           {
            "colorbar": {
             "outlinewidth": 0,
             "ticks": ""
            },
            "colorscale": [
             [
              0,
              "#0d0887"
             ],
             [
              0.1111111111111111,
              "#46039f"
             ],
             [
              0.2222222222222222,
              "#7201a8"
             ],
             [
              0.3333333333333333,
              "#9c179e"
             ],
             [
              0.4444444444444444,
              "#bd3786"
             ],
             [
              0.5555555555555556,
              "#d8576b"
             ],
             [
              0.6666666666666666,
              "#ed7953"
             ],
             [
              0.7777777777777778,
              "#fb9f3a"
             ],
             [
              0.8888888888888888,
              "#fdca26"
             ],
             [
              1,
              "#f0f921"
             ]
            ],
            "type": "histogram2d"
           }
          ],
          "histogram2dcontour": [
           {
            "colorbar": {
             "outlinewidth": 0,
             "ticks": ""
            },
            "colorscale": [
             [
              0,
              "#0d0887"
             ],
             [
              0.1111111111111111,
              "#46039f"
             ],
             [
              0.2222222222222222,
              "#7201a8"
             ],
             [
              0.3333333333333333,
              "#9c179e"
             ],
             [
              0.4444444444444444,
              "#bd3786"
             ],
             [
              0.5555555555555556,
              "#d8576b"
             ],
             [
              0.6666666666666666,
              "#ed7953"
             ],
             [
              0.7777777777777778,
              "#fb9f3a"
             ],
             [
              0.8888888888888888,
              "#fdca26"
             ],
             [
              1,
              "#f0f921"
             ]
            ],
            "type": "histogram2dcontour"
           }
          ],
          "mesh3d": [
           {
            "colorbar": {
             "outlinewidth": 0,
             "ticks": ""
            },
            "type": "mesh3d"
           }
          ],
          "parcoords": [
           {
            "line": {
             "colorbar": {
              "outlinewidth": 0,
              "ticks": ""
             }
            },
            "type": "parcoords"
           }
          ],
          "pie": [
           {
            "automargin": true,
            "type": "pie"
           }
          ],
          "scatter": [
           {
            "fillpattern": {
             "fillmode": "overlay",
             "size": 10,
             "solidity": 0.2
            },
            "type": "scatter"
           }
          ],
          "scatter3d": [
           {
            "line": {
             "colorbar": {
              "outlinewidth": 0,
              "ticks": ""
             }
            },
            "marker": {
             "colorbar": {
              "outlinewidth": 0,
              "ticks": ""
             }
            },
            "type": "scatter3d"
           }
          ],
          "scattercarpet": [
           {
            "marker": {
             "colorbar": {
              "outlinewidth": 0,
              "ticks": ""
             }
            },
            "type": "scattercarpet"
           }
          ],
          "scattergeo": [
           {
            "marker": {
             "colorbar": {
              "outlinewidth": 0,
              "ticks": ""
             }
            },
            "type": "scattergeo"
           }
          ],
          "scattergl": [
           {
            "marker": {
             "colorbar": {
              "outlinewidth": 0,
              "ticks": ""
             }
            },
            "type": "scattergl"
           }
          ],
          "scattermapbox": [
           {
            "marker": {
             "colorbar": {
              "outlinewidth": 0,
              "ticks": ""
             }
            },
            "type": "scattermapbox"
           }
          ],
          "scatterpolar": [
           {
            "marker": {
             "colorbar": {
              "outlinewidth": 0,
              "ticks": ""
             }
            },
            "type": "scatterpolar"
           }
          ],
          "scatterpolargl": [
           {
            "marker": {
             "colorbar": {
              "outlinewidth": 0,
              "ticks": ""
             }
            },
            "type": "scatterpolargl"
           }
          ],
          "scatterternary": [
           {
            "marker": {
             "colorbar": {
              "outlinewidth": 0,
              "ticks": ""
             }
            },
            "type": "scatterternary"
           }
          ],
          "surface": [
           {
            "colorbar": {
             "outlinewidth": 0,
             "ticks": ""
            },
            "colorscale": [
             [
              0,
              "#0d0887"
             ],
             [
              0.1111111111111111,
              "#46039f"
             ],
             [
              0.2222222222222222,
              "#7201a8"
             ],
             [
              0.3333333333333333,
              "#9c179e"
             ],
             [
              0.4444444444444444,
              "#bd3786"
             ],
             [
              0.5555555555555556,
              "#d8576b"
             ],
             [
              0.6666666666666666,
              "#ed7953"
             ],
             [
              0.7777777777777778,
              "#fb9f3a"
             ],
             [
              0.8888888888888888,
              "#fdca26"
             ],
             [
              1,
              "#f0f921"
             ]
            ],
            "type": "surface"
           }
          ],
          "table": [
           {
            "cells": {
             "fill": {
              "color": "#EBF0F8"
             },
             "line": {
              "color": "white"
             }
            },
            "header": {
             "fill": {
              "color": "#C8D4E3"
             },
             "line": {
              "color": "white"
             }
            },
            "type": "table"
           }
          ]
         },
         "layout": {
          "annotationdefaults": {
           "arrowcolor": "#2a3f5f",
           "arrowhead": 0,
           "arrowwidth": 1
          },
          "autotypenumbers": "strict",
          "coloraxis": {
           "colorbar": {
            "outlinewidth": 0,
            "ticks": ""
           }
          },
          "colorscale": {
           "diverging": [
            [
             0,
             "#8e0152"
            ],
            [
             0.1,
             "#c51b7d"
            ],
            [
             0.2,
             "#de77ae"
            ],
            [
             0.3,
             "#f1b6da"
            ],
            [
             0.4,
             "#fde0ef"
            ],
            [
             0.5,
             "#f7f7f7"
            ],
            [
             0.6,
             "#e6f5d0"
            ],
            [
             0.7,
             "#b8e186"
            ],
            [
             0.8,
             "#7fbc41"
            ],
            [
             0.9,
             "#4d9221"
            ],
            [
             1,
             "#276419"
            ]
           ],
           "sequential": [
            [
             0,
             "#0d0887"
            ],
            [
             0.1111111111111111,
             "#46039f"
            ],
            [
             0.2222222222222222,
             "#7201a8"
            ],
            [
             0.3333333333333333,
             "#9c179e"
            ],
            [
             0.4444444444444444,
             "#bd3786"
            ],
            [
             0.5555555555555556,
             "#d8576b"
            ],
            [
             0.6666666666666666,
             "#ed7953"
            ],
            [
             0.7777777777777778,
             "#fb9f3a"
            ],
            [
             0.8888888888888888,
             "#fdca26"
            ],
            [
             1,
             "#f0f921"
            ]
           ],
           "sequentialminus": [
            [
             0,
             "#0d0887"
            ],
            [
             0.1111111111111111,
             "#46039f"
            ],
            [
             0.2222222222222222,
             "#7201a8"
            ],
            [
             0.3333333333333333,
             "#9c179e"
            ],
            [
             0.4444444444444444,
             "#bd3786"
            ],
            [
             0.5555555555555556,
             "#d8576b"
            ],
            [
             0.6666666666666666,
             "#ed7953"
            ],
            [
             0.7777777777777778,
             "#fb9f3a"
            ],
            [
             0.8888888888888888,
             "#fdca26"
            ],
            [
             1,
             "#f0f921"
            ]
           ]
          },
          "colorway": [
           "#636efa",
           "#EF553B",
           "#00cc96",
           "#ab63fa",
           "#FFA15A",
           "#19d3f3",
           "#FF6692",
           "#B6E880",
           "#FF97FF",
           "#FECB52"
          ],
          "font": {
           "color": "#2a3f5f"
          },
          "geo": {
           "bgcolor": "white",
           "lakecolor": "white",
           "landcolor": "#E5ECF6",
           "showlakes": true,
           "showland": true,
           "subunitcolor": "white"
          },
          "hoverlabel": {
           "align": "left"
          },
          "hovermode": "closest",
          "mapbox": {
           "style": "light"
          },
          "paper_bgcolor": "white",
          "plot_bgcolor": "#E5ECF6",
          "polar": {
           "angularaxis": {
            "gridcolor": "white",
            "linecolor": "white",
            "ticks": ""
           },
           "bgcolor": "#E5ECF6",
           "radialaxis": {
            "gridcolor": "white",
            "linecolor": "white",
            "ticks": ""
           }
          },
          "scene": {
           "xaxis": {
            "backgroundcolor": "#E5ECF6",
            "gridcolor": "white",
            "gridwidth": 2,
            "linecolor": "white",
            "showbackground": true,
            "ticks": "",
            "zerolinecolor": "white"
           },
           "yaxis": {
            "backgroundcolor": "#E5ECF6",
            "gridcolor": "white",
            "gridwidth": 2,
            "linecolor": "white",
            "showbackground": true,
            "ticks": "",
            "zerolinecolor": "white"
           },
           "zaxis": {
            "backgroundcolor": "#E5ECF6",
            "gridcolor": "white",
            "gridwidth": 2,
            "linecolor": "white",
            "showbackground": true,
            "ticks": "",
            "zerolinecolor": "white"
           }
          },
          "shapedefaults": {
           "line": {
            "color": "#2a3f5f"
           }
          },
          "ternary": {
           "aaxis": {
            "gridcolor": "white",
            "linecolor": "white",
            "ticks": ""
           },
           "baxis": {
            "gridcolor": "white",
            "linecolor": "white",
            "ticks": ""
           },
           "bgcolor": "#E5ECF6",
           "caxis": {
            "gridcolor": "white",
            "linecolor": "white",
            "ticks": ""
           }
          },
          "title": {
           "x": 0.05
          },
          "xaxis": {
           "automargin": true,
           "gridcolor": "white",
           "linecolor": "white",
           "ticks": "",
           "title": {
            "standoff": 15
           },
           "zerolinecolor": "white",
           "zerolinewidth": 2
          },
          "yaxis": {
           "automargin": true,
           "gridcolor": "white",
           "linecolor": "white",
           "ticks": "",
           "title": {
            "standoff": 15
           },
           "zerolinecolor": "white",
           "zerolinewidth": 2
          }
         }
        },
        "title": {
         "text": "Outlier Detection using the bidimensional data"
        },
        "xaxis": {
         "anchor": "y",
         "domain": [
          0,
          1
         ],
         "title": {
          "text": "Distancias a cinco centros de empleo"
         }
        },
        "yaxis": {
         "anchor": "x",
         "domain": [
          0,
          1
         ],
         "title": {
          "text": "Habitaciones por vivienda"
         }
        }
       }
      }
     },
     "metadata": {},
     "output_type": "display_data"
    }
   ],
   "source": [
    "df_pca[\"outlier\"] = df_pca[\"outlierness\"]>1.8\n",
    "fig = px.scatter(df_pca, x=\"PC1\", y=\"PC2\", title=\"Gráfico de Dispersión\", color=\"outlier\")\n",
    "fig.update_layout(\n",
    "    title=\"Outlier Detection using the bidimensional data\",\n",
    "    xaxis_title=\"Distancias a cinco centros de empleo\",\n",
    "    yaxis_title=\"Habitaciones por vivienda\"\n",
    ")\n",
    "fig.show()"
   ]
  },
  {
   "cell_type": "markdown",
   "metadata": {},
   "source": [
    "Como vemos, el analisis de componenetes principales no nos muestra visualmente una buena representacion de los datos con solo dos componentes (58% varianza explicada). Aun asi, aunque visualmente no se muestre, los puntos marcados en rojo son los puntos más alejados del resto con lo que respecta a los datos en su dimension original, y por lo tanto, estos son los puntos Outliers que deberiamos considerar eliminar o al menos inspeccionar por separado antes de realizar cualquier analisis posterior."
   ]
  },
  {
   "cell_type": "markdown",
   "metadata": {},
   "source": [
    "## Método 2: One-class SVM"
   ]
  },
  {
   "cell_type": "markdown",
   "metadata": {},
   "source": [
    "Para este segundo método, vamos a generar nosotros mismos la base de datos con el objetivo de visualizar de manera más clara los resultados, sin depender de reducciones de dimensionalidad."
   ]
  },
  {
   "cell_type": "code",
   "execution_count": 10,
   "metadata": {},
   "outputs": [
    {
     "data": {
      "image/png": "[encoded data removed]",
      "text/plain": [
       "<Figure size 640x480 with 1 Axes>"
      ]
     },
     "metadata": {},
     "output_type": "display_data"
    }
   ],
   "source": [
    "X = np.random.randn(500, 2) \n",
    "\n",
    "\n",
    "plt.scatter(X[:,0],X[:,1], label=\"Data set\", color = 'blue')\n",
    "plt.legend()\n",
    "plt.grid()"
   ]
  },
  {
   "cell_type": "code",
   "execution_count": 11,
   "metadata": {},
   "outputs": [
    {
     "data": {
      "image/png": "[encoded data removed]",
      "text/plain": [
       "<Figure size 640x480 with 1 Axes>"
      ]
     },
     "metadata": {},
     "output_type": "display_data"
    }
   ],
   "source": [
    "\n",
    "clf = OneClassSVM(kernel='rbf', gamma=0.1, nu=0.01)  \n",
    "clf.fit(X)\n",
    "\n",
    "\n",
    "outlier_pred = clf.predict(X)  \n",
    "\n",
    "plt.scatter(X[:,0],X[:,1], color = 'blue', label=\"No outlier\")\n",
    "a=0\n",
    "for i in range(len(X)):\n",
    "    if outlier_pred[i] == -1:  \n",
    "        if a==0:\n",
    "            plt.scatter(X[i, 0], X[i, 1], color= \"black\", marker='x', zorder=5, label=\"Outlier\")\n",
    "            a=1\n",
    "        else:\n",
    "            plt.scatter(X[i, 0], X[i, 1], color= \"black\", marker='x', zorder=5)\n",
    "plt.legend()\n",
    "plt.grid()\n",
    " \n"
   ]
  },
  {
   "cell_type": "markdown",
   "metadata": {},
   "source": [
    "Este método aplica un 'Support vector machine' para separar linealmente la nube de puntos de nuestros datos con respecto al origen. Dependiendo de los parametros $\\mu$ y $\\gamma$ aplicados, el modelo será más o menos suave, y por lo tanto, las posibilidades de que un punto sea outlier varian dependiendo de estos parametros. Sin embargo, a diferencia de lo ocurrido con los datos de 'Boston Housing', se puede visualizar a la perfección como los puntos más aislados del conjunto de datos son precisamente los que se detectan como outliers. "
   ]
  },
  {
   "cell_type": "code",
   "execution_count": 14,
   "metadata": {},
   "outputs": [
    {
     "data": {
      "application/vnd.jupyter.widget-view+json": {
       "model_id": "818482660ae14e79bacfe74f5900d16a",
       "version_major": 2,
       "version_minor": 0
      },
      "text/plain": [
       "interactive(children=(FloatSlider(value=0.25, description='nu', max=0.5, min=0.01, step=0.01), Output()), _dom…"
      ]
     },
     "metadata": {},
     "output_type": "display_data"
    },
    {
     "data": {
      "text/plain": [
       "<function __main__.update_plot(nu)>"
      ]
     },
     "execution_count": 14,
     "metadata": {},
     "output_type": "execute_result"
    }
   ],
   "source": [
    "\n",
    "\n",
    "def update_plot( nu):\n",
    "    clf = OneClassSVM(kernel='rbf', gamma=0.1, nu=nu)  \n",
    "    clf.fit(X)  \n",
    "\n",
    "\n",
    "    outlier_pred = clf.predict(X)\n",
    "\n",
    "    plt.figure(figsize=(8, 6))\n",
    "    plt.scatter(X[:,0], X[:,1], color='lightblue', label=\"No outlier\")\n",
    "    \n",
    "    a = 0\n",
    "    for i in range(len(X)):\n",
    "        if outlier_pred[i] == -1:  \n",
    "            if a == 0:\n",
    "                plt.scatter(X[i, 0], X[i, 1], color=\"black\", marker='x', zorder=5, label=\"Outlier\")\n",
    "                a = 1\n",
    "            else:\n",
    "                plt.scatter(X[i, 0], X[i, 1], color=\"black\", marker='x', zorder=5)\n",
    "    \n",
    "\n",
    "    plt.legend()\n",
    "    plt.grid()\n",
    "    plt.title(f\"OneClassSVM con nu={nu}\")\n",
    "    plt.show()\n",
    "\n",
    "# Usar interact() para hacer los parámetros gamma y nu interactivos\n",
    "interact(update_plot, nu=(0.01, 0.5, 0.01)) "
   ]
  }
 ],
 "metadata": {
  "kernelspec": {
   "display_name": "Python 3",
   "language": "python",
   "name": "python3"
  },
  "language_info": {
   "codemirror_mode": {
    "name": "ipython",
    "version": 3
   },
   "file_extension": ".py",
   "mimetype": "text/x-python",
   "name": "python",
   "nbconvert_exporter": "python",
   "pygments_lexer": "ipython3",
   "version": "3.12.4"
  }
 },
 "nbformat": 4,
 "nbformat_minor": 2
}
